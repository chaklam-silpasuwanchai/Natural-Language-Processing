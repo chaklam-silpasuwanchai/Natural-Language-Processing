{
 "cells": [
  {
   "attachments": {},
   "cell_type": "markdown",
   "metadata": {},
   "source": [
    "# [SimVLM: Simple Visual Language Model Pretraining with Weak Supervision](https://arxiv.org/pdf/2108.10904v3.pdf)\n",
    "\n",
    "<img src=\"./figures/simvlm.png\" title=\"SimVLM\" />\n",
    "\n",
    "reference\n",
    "- https://github.com/YulongBonjour/SimVLM\n",
    "- https://github.com/FerryHuang/SimVLM/tree/master"
   ]
  },
  {
   "cell_type": "code",
   "execution_count": null,
   "metadata": {
    "vscode": {
     "languageId": "plaintext"
    }
   },
   "outputs": [],
   "source": []
  }
 ],
 "metadata": {
  "language_info": {
   "name": "python"
  },
  "orig_nbformat": 4
 },
 "nbformat": 4,
 "nbformat_minor": 2
}
