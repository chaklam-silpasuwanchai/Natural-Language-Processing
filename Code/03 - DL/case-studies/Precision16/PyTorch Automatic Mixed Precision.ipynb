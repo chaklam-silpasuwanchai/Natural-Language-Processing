{
 "cells": [
  {
   "cell_type": "code",
   "execution_count": null,
   "metadata": {},
   "outputs": [],
   "source": [
    "import torch\n",
    "# Creates once at the beginning of training\n",
    "scaler = torch.cuda.amp.GradScaler()\n",
    "\n",
    "for data, label in data_iter:\n",
    "   optimizer.zero_grad()\n",
    "   # Casts operations to mixed precision\n",
    "   with torch.cuda.amp.autocast():\n",
    "      loss = model(data)\n",
    "\n",
    "   # Scales the loss, and calls backward()\n",
    "   # to create scaled gradients\n",
    "   scaler.scale(loss).backward()\n",
    "\n",
    "   # Unscales gradients and calls\n",
    "   # or skips optimizer.step()\n",
    "   scaler.step(optimizer)\n",
    "\n",
    "   # Updates the scale for next iteration\n",
    "   scaler.update()"
   ]
  }
 ],
 "metadata": {
  "language_info": {
   "name": "python"
  },
  "orig_nbformat": 4
 },
 "nbformat": 4,
 "nbformat_minor": 2
}
