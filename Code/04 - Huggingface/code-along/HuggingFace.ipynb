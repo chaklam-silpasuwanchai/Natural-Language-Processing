{
 "cells": [
  {
   "cell_type": "markdown",
   "id": "91cb4a47-eb7c-4797-b6a0-01db2625ceba",
   "metadata": {},
   "source": [
    "# Hugging Face \n",
    "\n",
    "Your go-to tool for using any pretrained models.\n",
    "\n",
    "In this era, everyone uses pretrained models, thus HuggingFace is like a no-brainer."
   ]
  },
  {
   "cell_type": "code",
   "execution_count": 1,
   "id": "942203e8-4e63-4240-bed5-4b328bcf8115",
   "metadata": {},
   "outputs": [
    {
     "data": {
      "text/plain": [
       "'4.21.3'"
      ]
     },
     "execution_count": 1,
     "metadata": {},
     "output_type": "execute_result"
    }
   ],
   "source": [
    "import transformers #huggingface\n",
    "transformers.__version__\n",
    "\n",
    "#pip install transformers[sentencepiece]\n",
    "#pip install transformers\n",
    "#pip install sentencepiece"
   ]
  },
  {
   "cell_type": "code",
   "execution_count": 2,
   "id": "16bc5103-a49e-43f5-b812-e0de7d03b63a",
   "metadata": {},
   "outputs": [
    {
     "data": {
      "text/plain": [
       "'0.4.0'"
      ]
     },
     "execution_count": 2,
     "metadata": {},
     "output_type": "execute_result"
    }
   ],
   "source": [
    "import evaluate ## a tool to help compute metrics\n",
    "evaluate.__version__"
   ]
  },
  {
   "cell_type": "code",
   "execution_count": 3,
   "id": "af8d58e2-4c95-457e-a374-02b539bfcabe",
   "metadata": {},
   "outputs": [
    {
     "data": {
      "text/plain": [
       "'2.8.0'"
      ]
     },
     "execution_count": 3,
     "metadata": {},
     "output_type": "execute_result"
    }
   ],
   "source": [
    "import datasets ##huggingface datasets\n",
    "datasets.__version__"
   ]
  },
  {
   "cell_type": "code",
   "execution_count": 4,
   "id": "5faaa6b5-b758-4024-b0d8-57f658458a4f",
   "metadata": {},
   "outputs": [
    {
     "data": {
      "text/plain": [
       "'0.15.0'"
      ]
     },
     "execution_count": 4,
     "metadata": {},
     "output_type": "execute_result"
    }
   ],
   "source": [
    "import accelerate  ##make your training faster!\n",
    "accelerate.__version__"
   ]
  },
  {
   "cell_type": "markdown",
   "id": "28998afe-e38c-4925-9c31-da2fc8d4b5bb",
   "metadata": {},
   "source": [
    "## 1. Pipeline \n",
    "\n",
    "The most basic thing in Huggingface; you insert the pretrained model, and just use it for inference."
   ]
  },
  {
   "cell_type": "code",
   "execution_count": 8,
   "id": "a89903b4-d216-4f37-88bf-6726a5a667c9",
   "metadata": {},
   "outputs": [],
   "source": [
    "import os\n",
    "os.environ['http_proxy']  = 'http://192.41.170.23:3128'\n",
    "os.environ['https_proxy'] = 'http://192.41.170.23:3128'"
   ]
  },
  {
   "cell_type": "code",
   "execution_count": null,
   "id": "1032be1d-6db5-4f6b-9fe9-b6c4796be815",
   "metadata": {},
   "outputs": [
    {
     "data": {
      "application/vnd.jupyter.widget-view+json": {
       "model_id": "b1ea9d4e5ca44a19b3e70224739efaaf",
       "version_major": 2,
       "version_minor": 0
      },
      "text/plain": [
       "Downloading config.json:   0%|          | 0.00/629 [00:00<?, ?B/s]"
      ]
     },
     "metadata": {},
     "output_type": "display_data"
    },
    {
     "data": {
      "application/vnd.jupyter.widget-view+json": {
       "model_id": "a9c53e8f34e04fbc872b8f942adfc3dc",
       "version_major": 2,
       "version_minor": 0
      },
      "text/plain": [
       "Downloading pytorch_model.bin:   0%|          | 0.00/255M [00:00<?, ?B/s]"
      ]
     },
     "metadata": {},
     "output_type": "display_data"
    }
   ],
   "source": [
    "from transformers import pipeline\n",
    "\n",
    "clf = pipeline(\"sentiment-analysis\", model=\"distilbert-base-uncased-finetuned-sst-2-english\")\n",
    "clf(\"I love huggingface so much.\")"
   ]
  },
  {
   "cell_type": "code",
   "execution_count": 12,
   "id": "ebfcbd9e-ecd9-4446-ae1f-4c319809e622",
   "metadata": {},
   "outputs": [
    {
     "data": {
      "text/plain": [
       "[{'label': 'POSITIVE', 'score': 0.9997928738594055},\n",
       " {'label': 'NEGATIVE', 'score': 0.9998204112052917}]"
      ]
     },
     "execution_count": 12,
     "metadata": {},
     "output_type": "execute_result"
    }
   ],
   "source": [
    "clf([\"I love huggingface so much.\", \"The movie is annoyingly bad\"])"
   ]
  },
  {
   "cell_type": "code",
   "execution_count": 13,
   "id": "6e6bbd94-5abf-4e42-b7b5-e07b10dbb607",
   "metadata": {},
   "outputs": [
    {
     "data": {
      "application/vnd.jupyter.widget-view+json": {
       "model_id": "e4bd3989c0974a3f9c63a3cc59b6fbd4",
       "version_major": 2,
       "version_minor": 0
      },
      "text/plain": [
       "Downloading config.json:   0%|          | 0.00/1.13k [00:00<?, ?B/s]"
      ]
     },
     "metadata": {},
     "output_type": "display_data"
    },
    {
     "data": {
      "application/vnd.jupyter.widget-view+json": {
       "model_id": "89b5644cdaca439ca028e62f50cd366c",
       "version_major": 2,
       "version_minor": 0
      },
      "text/plain": [
       "Downloading pytorch_model.bin:   0%|          | 0.00/1.52G [00:00<?, ?B/s]"
      ]
     },
     "metadata": {},
     "output_type": "display_data"
    },
    {
     "data": {
      "application/vnd.jupyter.widget-view+json": {
       "model_id": "d3b9c7ce85844a6bb3db3d22c3c1206d",
       "version_major": 2,
       "version_minor": 0
      },
      "text/plain": [
       "Downloading tokenizer_config.json:   0%|          | 0.00/26.0 [00:00<?, ?B/s]"
      ]
     },
     "metadata": {},
     "output_type": "display_data"
    },
    {
     "data": {
      "application/vnd.jupyter.widget-view+json": {
       "model_id": "1629d9a277d54299bf8f5ec52ba34113",
       "version_major": 2,
       "version_minor": 0
      },
      "text/plain": [
       "Downloading vocab.json:   0%|          | 0.00/878k [00:00<?, ?B/s]"
      ]
     },
     "metadata": {},
     "output_type": "display_data"
    },
    {
     "data": {
      "application/vnd.jupyter.widget-view+json": {
       "model_id": "7cb76b22e4774feaa7ab79f9a5ddac1d",
       "version_major": 2,
       "version_minor": 0
      },
      "text/plain": [
       "Downloading merges.txt:   0%|          | 0.00/446k [00:00<?, ?B/s]"
      ]
     },
     "metadata": {},
     "output_type": "display_data"
    },
    {
     "data": {
      "application/vnd.jupyter.widget-view+json": {
       "model_id": "b40672e8769b4077b7982e4f7025193f",
       "version_major": 2,
       "version_minor": 0
      },
      "text/plain": [
       "Downloading tokenizer.json:   0%|          | 0.00/1.29M [00:00<?, ?B/s]"
      ]
     },
     "metadata": {},
     "output_type": "display_data"
    },
    {
     "data": {
      "text/plain": [
       "{'sequence': 'This is a NLP course at AIT',\n",
       " 'labels': ['tech', 'education', 'finance'],\n",
       " 'scores': [0.7233497500419617, 0.26346421241760254, 0.01318597886711359]}"
      ]
     },
     "execution_count": 13,
     "metadata": {},
     "output_type": "execute_result"
    }
   ],
   "source": [
    "from transformers import pipeline\n",
    "\n",
    "clf = pipeline(\"zero-shot-classification\", model=\"facebook/bart-large-mnli\")\n",
    "clf(\"This is a NLP course at AIT\", candidate_labels=[\"education\", \"tech\", \"finance\"])"
   ]
  },
  {
   "cell_type": "code",
   "execution_count": 16,
   "id": "26ff7cf7-a1fb-443a-9cbe-d112c0045d81",
   "metadata": {},
   "outputs": [
    {
     "data": {
      "text/plain": [
       "[{'generated_text': 'import numpy as ссиболном Ф.0.6-5.0.0.5.0.0.6.1.2.1.6.0.1.5.1.1.4.3.2.13.0.1.0.4.1.3.2.12.5.4.4.3.6.3.4.1.4.1.4.'},\n",
       " {'generated_text': \"import numpy as icedine.zip.The last three major issues that plague this site are not only the issue of the software and software that is available from our blog in this post.\\n\\n\\nFirst of all, it is not possible to use the Raspberry Pi for programming. Therefore, you must first create a project code that does not have python. I used C on Linux, and tried to fix the bug. It's been around since the start of this post.\\n1\"}]"
      ]
     },
     "execution_count": 16,
     "metadata": {},
     "output_type": "execute_result"
    }
   ],
   "source": [
    "gen = pipeline(\"text-generation\", model=\"distilgpt2\")\n",
    "\n",
    "gen(\"import numpy as \", max_length=100, num_return_sequences=2, pad_token_id=0, \n",
    "    eos_token_id=0)"
   ]
  },
  {
   "cell_type": "code",
   "execution_count": 17,
   "id": "81f41bd6-ac25-4389-8754-21b6b75b85d5",
   "metadata": {},
   "outputs": [
    {
     "data": {
      "application/vnd.jupyter.widget-view+json": {
       "model_id": "b0ee18ff31d44c8587c177d870d73d22",
       "version_major": 2,
       "version_minor": 0
      },
      "text/plain": [
       "Downloading config.json:   0%|          | 0.00/480 [00:00<?, ?B/s]"
      ]
     },
     "metadata": {},
     "output_type": "display_data"
    },
    {
     "data": {
      "application/vnd.jupyter.widget-view+json": {
       "model_id": "853159eed2cc4cc3ac6cea213b0aab74",
       "version_major": 2,
       "version_minor": 0
      },
      "text/plain": [
       "Downloading pytorch_model.bin:   0%|          | 0.00/316M [00:00<?, ?B/s]"
      ]
     },
     "metadata": {},
     "output_type": "display_data"
    },
    {
     "data": {
      "application/vnd.jupyter.widget-view+json": {
       "model_id": "017217debb4447adb4e93f932aff6227",
       "version_major": 2,
       "version_minor": 0
      },
      "text/plain": [
       "Downloading vocab.json:   0%|          | 0.00/878k [00:00<?, ?B/s]"
      ]
     },
     "metadata": {},
     "output_type": "display_data"
    },
    {
     "data": {
      "application/vnd.jupyter.widget-view+json": {
       "model_id": "f03e4082ca234f959f478426137450d9",
       "version_major": 2,
       "version_minor": 0
      },
      "text/plain": [
       "Downloading merges.txt:   0%|          | 0.00/446k [00:00<?, ?B/s]"
      ]
     },
     "metadata": {},
     "output_type": "display_data"
    },
    {
     "data": {
      "application/vnd.jupyter.widget-view+json": {
       "model_id": "7949a1ddb6354aa1a1de240abf9805e8",
       "version_major": 2,
       "version_minor": 0
      },
      "text/plain": [
       "Downloading tokenizer.json:   0%|          | 0.00/1.29M [00:00<?, ?B/s]"
      ]
     },
     "metadata": {},
     "output_type": "display_data"
    },
    {
     "data": {
      "text/plain": [
       "[{'score': 0.15233060717582703,\n",
       "  'token': 2239,\n",
       "  'token_str': ' learning',\n",
       "  'sequence': 'Chaky loves to teach deep learning.'},\n",
       " {'score': 0.10400059074163437,\n",
       "  'token': 9589,\n",
       "  'token_str': ' breathing',\n",
       "  'sequence': 'Chaky loves to teach deep breathing.'},\n",
       " {'score': 0.07009269297122955,\n",
       "  'token': 30079,\n",
       "  'token_str': ' truths',\n",
       "  'sequence': 'Chaky loves to teach deep truths.'}]"
      ]
     },
     "execution_count": 17,
     "metadata": {},
     "output_type": "execute_result"
    }
   ],
   "source": [
    "mlm = pipeline(\"fill-mask\", model=\"distilroberta-base\")\n",
    "mlm(\"Chaky loves to teach deep <mask>.\", top_k=3)"
   ]
  },
  {
   "cell_type": "code",
   "execution_count": 18,
   "id": "c213c396-9ec5-4bf7-a6cb-7a06e59705f3",
   "metadata": {},
   "outputs": [
    {
     "data": {
      "text/plain": [
       "{'score': 0.9753952622413635, 'start': 43, 'end': 46, 'answer': 'AIT'}"
      ]
     },
     "execution_count": 18,
     "metadata": {},
     "output_type": "execute_result"
    }
   ],
   "source": [
    "qa = pipeline(\"question-answering\", model=\"distilbert-base-cased-distilled-squad\")\n",
    "qa(question=\"Where do Chaky work?\", context=\"My name is Chaky and I love to \\\n",
    "   teach at AIT\")"
   ]
  },
  {
   "cell_type": "code",
   "execution_count": 19,
   "id": "05983cb6-38ab-4513-8f80-02b449b6fc3c",
   "metadata": {},
   "outputs": [
    {
     "data": {
      "application/vnd.jupyter.widget-view+json": {
       "model_id": "152dfa59d7a945c9b1b260895f7a64ab",
       "version_major": 2,
       "version_minor": 0
      },
      "text/plain": [
       "Downloading config.json:   0%|          | 0.00/1.76k [00:00<?, ?B/s]"
      ]
     },
     "metadata": {},
     "output_type": "display_data"
    },
    {
     "data": {
      "application/vnd.jupyter.widget-view+json": {
       "model_id": "ee9e18d991cd485888e170996b49499b",
       "version_major": 2,
       "version_minor": 0
      },
      "text/plain": [
       "Downloading pytorch_model.bin:   0%|          | 0.00/1.14G [00:00<?, ?B/s]"
      ]
     },
     "metadata": {},
     "output_type": "display_data"
    },
    {
     "data": {
      "application/vnd.jupyter.widget-view+json": {
       "model_id": "f223738e01f74675935bae5f7bcfcf7a",
       "version_major": 2,
       "version_minor": 0
      },
      "text/plain": [
       "Downloading tokenizer_config.json:   0%|          | 0.00/26.0 [00:00<?, ?B/s]"
      ]
     },
     "metadata": {},
     "output_type": "display_data"
    },
    {
     "data": {
      "application/vnd.jupyter.widget-view+json": {
       "model_id": "f4d758b5f9134f33aa636e841b196dd3",
       "version_major": 2,
       "version_minor": 0
      },
      "text/plain": [
       "Downloading vocab.json:   0%|          | 0.00/878k [00:00<?, ?B/s]"
      ]
     },
     "metadata": {},
     "output_type": "display_data"
    },
    {
     "data": {
      "application/vnd.jupyter.widget-view+json": {
       "model_id": "10dba51bee244faca68cf8ad546358e9",
       "version_major": 2,
       "version_minor": 0
      },
      "text/plain": [
       "Downloading merges.txt:   0%|          | 0.00/446k [00:00<?, ?B/s]"
      ]
     },
     "metadata": {},
     "output_type": "display_data"
    },
    {
     "data": {
      "text/plain": [
       "[{'summary_text': ' The students really suffer of this course and they had enough. Chaky is still teaching this course until now . Legend of NLP legend says Chaky still teaches this course . The course also has a coding component which ask the students to code using spacy, pytorch, huggingface .'}]"
      ]
     },
     "execution_count": 19,
     "metadata": {},
     "output_type": "execute_result"
    }
   ],
   "source": [
    "summ = pipeline(\"summarization\", model=\"sshleifer/distilbart-cnn-12-6\",\n",
    "                max_length=100)\n",
    "\n",
    "summ(\"\"\"Once upon a time, we have a course on NLP at AIT. It usually teaches about\n",
    "        word2vec, glove, transformers, etc.  The course also has a coding\n",
    "        component which ask the students to code using spacy, pytorch, huggingface.\n",
    "        The students really suffer of this course and they had enough.  Legend\n",
    "        said that Chaky is still teaching this course until now\"\"\")\n"
   ]
  },
  {
   "cell_type": "code",
   "execution_count": 20,
   "id": "fb5f75e8-1d52-4f50-8679-1fe91d18e5bc",
   "metadata": {
    "jupyter": {
     "source_hidden": true
    },
    "tags": []
   },
   "outputs": [
    {
     "name": "stdout",
     "output_type": "stream",
     "text": [
      "[' translator', ' consultant', ' bartender', ' waiter', ' courier']\n"
     ]
    }
   ],
   "source": [
    "#gender bias\n",
    "mlm = pipeline(\"fill-mask\", model=\"distilroberta-base\")\n",
    "result = mlm(\"This man works as a <mask>.\")\n",
    "print([r[\"token_str\"] for r in result])"
   ]
  },
  {
   "cell_type": "code",
   "execution_count": 21,
   "id": "4d8fd97e-eaff-4efd-809c-591f4c5fa9a7",
   "metadata": {},
   "outputs": [
    {
     "name": "stdout",
     "output_type": "stream",
     "text": [
      "[' waitress', ' translator', ' nurse', ' bartender', ' consultant']\n"
     ]
    }
   ],
   "source": [
    "result = mlm(\"This woman works as a <mask>.\")\n",
    "print([r[\"token_str\"] for r in result])"
   ]
  },
  {
   "cell_type": "markdown",
   "id": "4b9e6400-af47-4939-ba86-2ce0dfab6ffe",
   "metadata": {},
   "source": [
    "## 2. Tokenization\n",
    "\n",
    "The first component of the pipeline."
   ]
  },
  {
   "cell_type": "code",
   "execution_count": 22,
   "id": "e47e3728-d132-4b4d-bf35-4ee3f0c9caa8",
   "metadata": {},
   "outputs": [],
   "source": [
    "from transformers import AutoTokenizer\n",
    "#what is AutoTokenizer - means it can be any tokenizer-specify what tokenizer....\n",
    "\n",
    "checkpoint = \"distilbert-base-uncased-finetuned-sst-2-english\"\n",
    "tokenizer  = AutoTokenizer.from_pretrained(checkpoint)"
   ]
  },
  {
   "cell_type": "code",
   "execution_count": 23,
   "id": "d8d42f94-229d-4db8-8921-d409e07aea6e",
   "metadata": {
    "jupyter": {
     "source_hidden": true
    },
    "tags": []
   },
   "outputs": [
    {
     "name": "stdout",
     "output_type": "stream",
     "text": [
      "{'input_ids': tensor([[  101, 15775,  4801,  2038,  2042,  3403,  2005, 17662, 12172,  2026,\n",
      "          2878,  2166,   102],\n",
      "        [  101, 17953,  2361,  2607,  2003,  5875,  2021,  7823,   102,     0,\n",
      "             0,     0,     0]]), 'attention_mask': tensor([[1, 1, 1, 1, 1, 1, 1, 1, 1, 1, 1, 1, 1],\n",
      "        [1, 1, 1, 1, 1, 1, 1, 1, 1, 0, 0, 0, 0]])}\n"
     ]
    }
   ],
   "source": [
    "raw_inputs = [\"Chaky has been waiting for HuggingFace my whole life\", \n",
    "              \"NLP course is interesting but tough\"]\n",
    "\n",
    "inputs = tokenizer(raw_inputs, padding=True, truncation=True, return_tensors=\"pt\")\n",
    "print(inputs)"
   ]
  },
  {
   "cell_type": "code",
   "execution_count": 26,
   "id": "70ddd004-c1c4-43e0-83e3-02f0a557dbac",
   "metadata": {},
   "outputs": [
    {
     "data": {
      "text/plain": [
       "'[CLS] chaky has been waiting for huggingface my whole life [SEP]'"
      ]
     },
     "execution_count": 26,
     "metadata": {},
     "output_type": "execute_result"
    }
   ],
   "source": [
    "tokenizer.decode([101, 15775,  4801,  2038,  2042,  3403,  2005, 17662, 12172,  2026,\n",
    "          2878,  2166,   102])"
   ]
  },
  {
   "cell_type": "markdown",
   "id": "0cc53105-c4a1-42dc-8ff7-34ff33a41e61",
   "metadata": {},
   "source": [
    "## 3. Model\n",
    "\n",
    "The second component of Pipeline (after Tokenizer)"
   ]
  },
  {
   "cell_type": "code",
   "execution_count": 27,
   "id": "182e50b1-509c-4585-befa-4eed22a6a70d",
   "metadata": {},
   "outputs": [
    {
     "name": "stderr",
     "output_type": "stream",
     "text": [
      "Some weights of the model checkpoint at distilbert-base-uncased-finetuned-sst-2-english were not used when initializing DistilBertModel: ['pre_classifier.weight', 'classifier.weight', 'classifier.bias', 'pre_classifier.bias']\n",
      "- This IS expected if you are initializing DistilBertModel from the checkpoint of a model trained on another task or with another architecture (e.g. initializing a BertForSequenceClassification model from a BertForPreTraining model).\n",
      "- This IS NOT expected if you are initializing DistilBertModel from the checkpoint of a model that you expect to be exactly identical (initializing a BertForSequenceClassification model from a BertForSequenceClassification model).\n"
     ]
    }
   ],
   "source": [
    "from transformers import AutoModel\n",
    "\n",
    "checkpoint = \"distilbert-base-uncased-finetuned-sst-2-english\"\n",
    "model      = AutoModel.from_pretrained(checkpoint)"
   ]
  },
  {
   "cell_type": "code",
   "execution_count": 28,
   "id": "6c93f549-2406-4793-bf44-d406fa7ed416",
   "metadata": {},
   "outputs": [
    {
     "data": {
      "text/plain": [
       "{'input_ids': tensor([[  101, 15775,  4801,  2038,  2042,  3403,  2005, 17662, 12172,  2026,\n",
       "          2878,  2166,   102],\n",
       "        [  101, 17953,  2361,  2607,  2003,  5875,  2021,  7823,   102,     0,\n",
       "             0,     0,     0]]), 'attention_mask': tensor([[1, 1, 1, 1, 1, 1, 1, 1, 1, 1, 1, 1, 1],\n",
       "        [1, 1, 1, 1, 1, 1, 1, 1, 1, 0, 0, 0, 0]])}"
      ]
     },
     "execution_count": 28,
     "metadata": {},
     "output_type": "execute_result"
    }
   ],
   "source": [
    "inputs"
   ]
  },
  {
   "cell_type": "code",
   "execution_count": 29,
   "id": "5225694d-b9fc-4fc2-84ad-3d5713bbd21c",
   "metadata": {},
   "outputs": [
    {
     "name": "stdout",
     "output_type": "stream",
     "text": [
      "torch.Size([2, 13, 768])\n"
     ]
    }
   ],
   "source": [
    "outputs = model(**inputs) #** means keyword arguments\n",
    "print(outputs.last_hidden_state.shape)\n",
    "\n",
    "#(b, l, h)"
   ]
  },
  {
   "cell_type": "markdown",
   "id": "83052a32-a6f9-48a1-952a-dc173d31c0fd",
   "metadata": {},
   "source": [
    "## 4. Postprocessing\n",
    "\n",
    "Last step of the Pipeline (after the Model)"
   ]
  },
  {
   "cell_type": "code",
   "execution_count": 31,
   "id": "f183caa2-ae8f-44c8-99ca-8206b948109b",
   "metadata": {},
   "outputs": [],
   "source": [
    "from transformers import AutoModelForSequenceClassification\n",
    "\n",
    "checkpoint = \"distilbert-base-uncased-finetuned-sst-2-english\"\n",
    "model      = AutoModelForSequenceClassification.from_pretrained(checkpoint)\n",
    "outputs    = model(**inputs)"
   ]
  },
  {
   "cell_type": "code",
   "execution_count": 32,
   "id": "20db5b73-605e-4848-820a-ca18d1d4e658",
   "metadata": {},
   "outputs": [
    {
     "data": {
      "text/plain": [
       "tensor([[-2.0539,  2.0242],\n",
       "        [ 0.6914, -0.6340]], grad_fn=<AddmmBackward0>)"
      ]
     },
     "execution_count": 32,
     "metadata": {},
     "output_type": "execute_result"
    }
   ],
   "source": [
    "outputs.logits"
   ]
  },
  {
   "cell_type": "code",
   "execution_count": 33,
   "id": "b7ecb2e7-c27a-4092-9893-11359e96d785",
   "metadata": {},
   "outputs": [
    {
     "name": "stdout",
     "output_type": "stream",
     "text": [
      "tensor([[0.0167, 0.9833],\n",
      "        [0.7901, 0.2099]], grad_fn=<SoftmaxBackward0>)\n"
     ]
    }
   ],
   "source": [
    "import torch\n",
    "predictions = torch.nn.functional.softmax(outputs.logits, dim = -1)\n",
    "print(predictions)"
   ]
  },
  {
   "cell_type": "code",
   "execution_count": 34,
   "id": "28560a8d-4fc8-4a77-a0bc-44852151ae04",
   "metadata": {},
   "outputs": [
    {
     "data": {
      "text/plain": [
       "{0: 'NEGATIVE', 1: 'POSITIVE'}"
      ]
     },
     "execution_count": 34,
     "metadata": {},
     "output_type": "execute_result"
    }
   ],
   "source": [
    "model.config.id2label"
   ]
  }
 ],
 "metadata": {
  "kernelspec": {
   "display_name": "Python 3 (ipykernel)",
   "language": "python",
   "name": "python3"
  },
  "language_info": {
   "codemirror_mode": {
    "name": "ipython",
    "version": 3
   },
   "file_extension": ".py",
   "mimetype": "text/x-python",
   "name": "python",
   "nbconvert_exporter": "python",
   "pygments_lexer": "ipython3",
   "version": "3.8.10"
  }
 },
 "nbformat": 4,
 "nbformat_minor": 5
}
