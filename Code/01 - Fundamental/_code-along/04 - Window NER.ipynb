{
 "cells": [
  {
   "attachments": {},
   "cell_type": "markdown",
   "metadata": {},
   "source": [
    "# Window NER\n",
    "\n",
    "Today we gonna work on simple window NER that no one uses....but it's a good starting point.\n",
    "\n",
    "Later on, once you learned LSTM, I will teach a better one for NER."
   ]
  },
  {
   "cell_type": "markdown",
   "metadata": {},
   "source": [
    "## 1. Load data\n",
    "\n",
    "Load the famous CoNLL-2002 Shared Task"
   ]
  },
  {
   "cell_type": "code",
   "execution_count": 1,
   "metadata": {},
   "outputs": [],
   "source": [
    "# !pip install nltk  #or do it in your terminal"
   ]
  },
  {
   "cell_type": "code",
   "execution_count": 2,
   "metadata": {},
   "outputs": [
    {
     "data": {
      "text/plain": [
       "'3.8'"
      ]
     },
     "execution_count": 2,
     "metadata": {},
     "output_type": "execute_result"
    }
   ],
   "source": [
    "import nltk\n",
    "nltk.__version__"
   ]
  },
  {
   "cell_type": "code",
   "execution_count": 3,
   "metadata": {},
   "outputs": [
    {
     "name": "stderr",
     "output_type": "stream",
     "text": [
      "[nltk_data] Downloading package conll2002 to\n",
      "[nltk_data]     /Users/chaklam/nltk_data...\n",
      "[nltk_data]   Package conll2002 is already up-to-date!\n"
     ]
    },
    {
     "data": {
      "text/plain": [
       "True"
      ]
     },
     "execution_count": 3,
     "metadata": {},
     "output_type": "execute_result"
    }
   ],
   "source": [
    "# import os\n",
    "# os.environ['http_proxy']  = 'http://192.41.170.23:3128'\n",
    "# os.environ['https_proxy'] = 'http://192.41.170.23:3128'\n",
    "\n",
    "nltk.download('conll2002')  #this will download the dataset, and put it somewhere in your pc"
   ]
  },
  {
   "cell_type": "code",
   "execution_count": 4,
   "metadata": {},
   "outputs": [],
   "source": [
    "corpus = nltk.corpus.conll2002.iob_sents()"
   ]
  },
  {
   "cell_type": "code",
   "execution_count": 5,
   "metadata": {},
   "outputs": [],
   "source": [
    "data = []\n",
    "for cor in corpus:\n",
    "    #extract only the first and third guy\n",
    "    #one list containing the first, and one list containing the third\n",
    "    #so we can use it to train\n",
    "    #['Sao', 'Paulo', '(', 'Brasil'.....)],  ['B-LOC', 'I-LOC', 'B-LOC', '0']\n",
    "    sent, _, tag = list(zip(*cor))\n",
    "    data.append([sent, tag])"
   ]
  },
  {
   "cell_type": "code",
   "execution_count": 6,
   "metadata": {},
   "outputs": [
    {
     "data": {
      "text/plain": [
       "[('ERC',\n",
       "  'CONVOCA',\n",
       "  'CONFERENCIA',\n",
       "  'PRESENTARSE',\n",
       "  'COMO',\n",
       "  'PARTIDO',\n",
       "  'DE',\n",
       "  'GOBIERNO',\n",
       "  'Barcelona',\n",
       "  '.'),\n",
       " ('B-ORG', 'O', 'O', 'O', 'O', 'O', 'O', 'B-ORG', 'B-LOC', 'O')]"
      ]
     },
     "execution_count": 6,
     "metadata": {},
     "output_type": "execute_result"
    }
   ],
   "source": [
    "data[9999]"
   ]
  },
  {
   "cell_type": "code",
   "execution_count": 7,
   "metadata": {},
   "outputs": [
    {
     "data": {
      "text/plain": [
       "35651"
      ]
     },
     "execution_count": 7,
     "metadata": {},
     "output_type": "execute_result"
    }
   ],
   "source": [
    "len(data) #35k sentences....."
   ]
  },
  {
   "attachments": {},
   "cell_type": "markdown",
   "metadata": {},
   "source": [
    "## 2. Tokenization\n",
    "\n",
    "If you look carefully, we don't need to!! Yay...things are already chopped."
   ]
  },
  {
   "attachments": {},
   "cell_type": "markdown",
   "metadata": {},
   "source": [
    "## 3. Numericalization"
   ]
  },
  {
   "cell_type": "code",
   "execution_count": 8,
   "metadata": {},
   "outputs": [],
   "source": [
    "flatten = lambda l: [item for sublist in l for item in sublist]\n",
    "\n",
    "#I want to get all unique vocabs....\n",
    "sents, tags = list(zip(*data))\n",
    "vocab  = list(set(flatten(sents)))\n",
    "tagset = list(set(flatten(tags)))\n",
    "\n",
    "#why we don't combine vocab and tagset into one single list....."
   ]
  },
  {
   "cell_type": "code",
   "execution_count": 9,
   "metadata": {},
   "outputs": [
    {
     "data": {
      "text/plain": [
       "['Pera',\n",
       " 'aplicará',\n",
       " 'FOS',\n",
       " 'Mattoso',\n",
       " 'Mercury',\n",
       " 'sorprendidos',\n",
       " 'ruikt',\n",
       " 'Noord-Duitse',\n",
       " 'avanzadas']"
      ]
     },
     "execution_count": 9,
     "metadata": {},
     "output_type": "execute_result"
    }
   ],
   "source": [
    "vocab[89:98]"
   ]
  },
  {
   "cell_type": "code",
   "execution_count": 10,
   "metadata": {},
   "outputs": [
    {
     "data": {
      "text/plain": [
       "65459"
      ]
     },
     "execution_count": 10,
     "metadata": {},
     "output_type": "execute_result"
    }
   ],
   "source": [
    "len(vocab)"
   ]
  },
  {
   "cell_type": "code",
   "execution_count": 11,
   "metadata": {},
   "outputs": [
    {
     "data": {
      "text/plain": [
       "['O', 'B-ORG', 'I-PER', 'B-PER', 'I-MISC', 'B-LOC', 'I-ORG', 'B-MISC', 'I-LOC']"
      ]
     },
     "execution_count": 11,
     "metadata": {},
     "output_type": "execute_result"
    }
   ],
   "source": [
    "tagset"
   ]
  },
  {
   "cell_type": "code",
   "execution_count": 12,
   "metadata": {},
   "outputs": [],
   "source": [
    "#create word2index library\n",
    "word2index={'<UNK>': 0, '<DUMMY>': 1}  #DUMMY facilitates me moving the windows.....\n",
    "\n",
    "#loop each vocab\n",
    "for v in vocab:\n",
    "    #if that vocab does not exist yet in the word2index\n",
    "    if word2index.get(v) is None:\n",
    "        #the index of this vocab is basically the current len of word2indx\n",
    "        word2index[v] = len(word2index)\n",
    "#create the index2word\n",
    "index2word = {v:k for k, v in word2index.items()}\n",
    "\n",
    "tag2index = {}\n",
    "#do this the same for tagset\n",
    "#loop each vocab\n",
    "for t in tagset:\n",
    "    #if that vocab does not exist yet in the word2index\n",
    "    if tag2index.get(t) is None:\n",
    "        #the index of this vocab is basically the current len of word2indx\n",
    "        tag2index[t] = len(tag2index)\n",
    "#create the index2word\n",
    "index2tag = {v:k for k, v in tag2index.items()}"
   ]
  },
  {
   "cell_type": "code",
   "execution_count": 13,
   "metadata": {},
   "outputs": [
    {
     "data": {
      "text/plain": [
       "{'O': 0,\n",
       " 'B-ORG': 1,\n",
       " 'I-PER': 2,\n",
       " 'B-PER': 3,\n",
       " 'I-MISC': 4,\n",
       " 'B-LOC': 5,\n",
       " 'I-ORG': 6,\n",
       " 'B-MISC': 7,\n",
       " 'I-LOC': 8}"
      ]
     },
     "execution_count": 13,
     "metadata": {},
     "output_type": "execute_result"
    }
   ],
   "source": [
    "tag2index"
   ]
  },
  {
   "cell_type": "code",
   "execution_count": 14,
   "metadata": {},
   "outputs": [
    {
     "data": {
      "text/plain": [
       "{0: 'O',\n",
       " 1: 'B-ORG',\n",
       " 2: 'I-PER',\n",
       " 3: 'B-PER',\n",
       " 4: 'I-MISC',\n",
       " 5: 'B-LOC',\n",
       " 6: 'I-ORG',\n",
       " 7: 'B-MISC',\n",
       " 8: 'I-LOC'}"
      ]
     },
     "execution_count": 14,
     "metadata": {},
     "output_type": "execute_result"
    }
   ],
   "source": [
    "index2tag"
   ]
  },
  {
   "attachments": {},
   "cell_type": "markdown",
   "metadata": {},
   "source": [
    "## 4. Prepare window data\n",
    "\n",
    "E.g., Chaky   is at AIT.   \n",
    "       B-PER   0 0  B-LOC\n",
    "\n",
    "Here I will four samples of data:\n",
    "\n",
    "E.g., windows = [['<DUMMY>', '<DUMMY>', 'Chaky', 'is', 'at'], 'B-PER'], [], []]"
   ]
  },
  {
   "cell_type": "code",
   "execution_count": 15,
   "metadata": {},
   "outputs": [
    {
     "name": "stdout",
     "output_type": "stream",
     "text": [
      "('B-LOC', 'I-LOC', 'O', 'B-LOC', 'O', 'O', 'O', 'O', 'O', 'B-ORG', 'O', 'O')\n"
     ]
    }
   ],
   "source": [
    "for sample in data:\n",
    "    print(sample[1])\n",
    "    break"
   ]
  },
  {
   "cell_type": "code",
   "execution_count": 16,
   "metadata": {},
   "outputs": [],
   "source": [
    "ws = 2\n",
    "windows = []\n",
    "\n",
    "for sample in data:\n",
    "    dummy = ['<DUMMY>'] * ws\n",
    "    text  = sample[0]\n",
    "    fulltext = dummy + list(text) + dummy\n",
    "    window = list(nltk.ngrams(fulltext, ws * 2 + 1))\n",
    "    \n",
    "    windows.extend([[list(window[i]), sample[1][i]] for i in range(len(sample[0]))])   "
   ]
  },
  {
   "cell_type": "code",
   "execution_count": 17,
   "metadata": {},
   "outputs": [
    {
     "data": {
      "text/plain": [
       "[['<DUMMY>', '<DUMMY>', 'Sao', 'Paulo', '('], 'B-LOC']"
      ]
     },
     "execution_count": 17,
     "metadata": {},
     "output_type": "execute_result"
    }
   ],
   "source": [
    "windows[0]"
   ]
  },
  {
   "cell_type": "code",
   "execution_count": 18,
   "metadata": {},
   "outputs": [
    {
     "data": {
      "text/plain": [
       "678377"
      ]
     },
     "execution_count": 18,
     "metadata": {},
     "output_type": "execute_result"
    }
   ],
   "source": [
    "len(windows)"
   ]
  },
  {
   "cell_type": "code",
   "execution_count": 19,
   "metadata": {},
   "outputs": [],
   "source": [
    "windows = windows[:50]"
   ]
  },
  {
   "cell_type": "code",
   "execution_count": 20,
   "metadata": {},
   "outputs": [],
   "source": [
    "import random\n",
    "random.shuffle(windows)\n",
    "\n",
    "train = windows[:int(len(windows) * 0.9)]\n",
    "test  = windows[int(len(windows) * 0.9):]"
   ]
  },
  {
   "cell_type": "code",
   "execution_count": 21,
   "metadata": {},
   "outputs": [
    {
     "data": {
      "text/plain": [
       "(45, 5)"
      ]
     },
     "execution_count": 21,
     "metadata": {},
     "output_type": "execute_result"
    }
   ],
   "source": [
    "len(train), len(test)"
   ]
  },
  {
   "attachments": {},
   "cell_type": "markdown",
   "metadata": {},
   "source": [
    "## 4. Model\n",
    "\n",
    "<img src=\"../figures/ner_model.png\" width=\"600\">\n"
   ]
  },
  {
   "cell_type": "markdown",
   "metadata": {},
   "source": [
    "### How to concat stuff..."
   ]
  },
  {
   "cell_type": "code",
   "execution_count": 22,
   "metadata": {},
   "outputs": [
    {
     "data": {
      "text/plain": [
       "(3, 3)"
      ]
     },
     "execution_count": 22,
     "metadata": {},
     "output_type": "execute_result"
    }
   ],
   "source": [
    "import numpy as np\n",
    "x = np.array([ [1, 2, 3], [4, 5, 6], [7, 8, 9] ])\n",
    "x.shape"
   ]
  },
  {
   "cell_type": "code",
   "execution_count": 23,
   "metadata": {},
   "outputs": [
    {
     "data": {
      "text/plain": [
       "array([[1, 2, 3],\n",
       "       [4, 5, 6],\n",
       "       [7, 8, 9]])"
      ]
     },
     "execution_count": 23,
     "metadata": {},
     "output_type": "execute_result"
    }
   ],
   "source": [
    "x"
   ]
  },
  {
   "cell_type": "code",
   "execution_count": 24,
   "metadata": {},
   "outputs": [
    {
     "data": {
      "text/plain": [
       "array([[1, 2, 3, 4, 5, 6, 7, 8, 9]])"
      ]
     },
     "execution_count": 24,
     "metadata": {},
     "output_type": "execute_result"
    }
   ],
   "source": [
    "y = x.reshape(-1, 3 * 3)\n",
    "y"
   ]
  },
  {
   "cell_type": "markdown",
   "metadata": {},
   "source": [
    "## Model"
   ]
  },
  {
   "cell_type": "code",
   "execution_count": 25,
   "metadata": {},
   "outputs": [],
   "source": [
    "import torch\n",
    "import torch.nn as nn\n",
    "\n",
    "class WinNER(nn.Module):\n",
    "    \n",
    "    def __init__(self, voc_size, emb_size, hid_size, window_size, output_size):\n",
    "        super(WinNER, self).__init__()\n",
    "        self.embed   = nn.Embedding(voc_size, emb_size) #embedding the inputs\n",
    "        self.h1      = nn.Linear(window_size * emb_size, hid_size)\n",
    "        self.h2      = nn.Linear(hid_size, output_size)\n",
    "        self.relu    = nn.ReLU()\n",
    "        self.dropout = nn.Dropout(0.5)\n",
    "        \n",
    "    def forward(self, inputs):\n",
    "        #inputs = (batch_size, window_size * 2 + 1)\n",
    "        \n",
    "        input_embed = self.embed(inputs)\n",
    "        #input_embed = (batch_size, window_size * 2 + 1, emb_size)\n",
    "                \n",
    "        concats  = input_embed.reshape(-1, input_embed.shape[1] * input_embed.shape[2])\n",
    "        #concats = (batch_size, window_size * 2 + 1 * emb_size)  ===> 5d, e.g., 20\n",
    "        \n",
    "        h       = self.dropout(self.relu(self.h1(concats)))\n",
    "        h2      = self.dropout(self.relu(self.h2(h)))\n",
    "        \n",
    "        return h2"
   ]
  },
  {
   "cell_type": "markdown",
   "metadata": {},
   "source": [
    "### Test your model"
   ]
  },
  {
   "cell_type": "code",
   "execution_count": 26,
   "metadata": {},
   "outputs": [
    {
     "data": {
      "text/plain": [
       "tensor([[59071, 23555,   400, 58441, 18270],\n",
       "        [60154, 63074, 41766, 48850, 48017]])"
      ]
     },
     "execution_count": 26,
     "metadata": {},
     "output_type": "execute_result"
    }
   ],
   "source": [
    "batch_size = 2\n",
    "inputs = torch.randint(0, len(vocab), (batch_size, 5))\n",
    "inputs"
   ]
  },
  {
   "cell_type": "code",
   "execution_count": 27,
   "metadata": {},
   "outputs": [],
   "source": [
    "voc_size = len(vocab)\n",
    "emb_size = 4\n",
    "hid_size = 8\n",
    "window_size  = ws * 2 + 1\n",
    "output_size = len(tagset)\n",
    "model = WinNER(voc_size, emb_size, hid_size, window_size, output_size)"
   ]
  },
  {
   "cell_type": "code",
   "execution_count": 28,
   "metadata": {},
   "outputs": [
    {
     "data": {
      "text/plain": [
       "tensor([0.0000, 0.0000, 0.0000, 0.0000, 0.0000, 0.0000, 0.2905, 0.6016, 0.6168],\n",
       "       grad_fn=<SelectBackward0>)"
      ]
     },
     "execution_count": 28,
     "metadata": {},
     "output_type": "execute_result"
    }
   ],
   "source": [
    "something = model(inputs)\n",
    "something[0]"
   ]
  },
  {
   "cell_type": "markdown",
   "metadata": {},
   "source": [
    "## 5. Training"
   ]
  },
  {
   "cell_type": "code",
   "execution_count": 29,
   "metadata": {},
   "outputs": [],
   "source": [
    "voc_size = len(vocab)\n",
    "emb_size = 4\n",
    "hid_size = 8\n",
    "window_size  = ws * 2 + 1\n",
    "num_epochs   = 5\n",
    "batch_size   = 2\n",
    "output_size = len(tagset)\n",
    "\n",
    "model = WinNER(voc_size, emb_size, hid_size, window_size, output_size)"
   ]
  },
  {
   "cell_type": "code",
   "execution_count": 30,
   "metadata": {},
   "outputs": [],
   "source": [
    "criterion = nn.CrossEntropyLoss()\n",
    "optimizer = torch.optim.Adam(model.parameters(), lr = 0.001)"
   ]
  },
  {
   "cell_type": "code",
   "execution_count": 31,
   "metadata": {},
   "outputs": [
    {
     "data": {
      "text/plain": [
       "[['en', 'servicio', 'tres', 'millones', 'de'], 'O']"
      ]
     },
     "execution_count": 31,
     "metadata": {},
     "output_type": "execute_result"
    }
   ],
   "source": [
    "train[0]"
   ]
  },
  {
   "cell_type": "code",
   "execution_count": 32,
   "metadata": {},
   "outputs": [],
   "source": [
    "def getBatch(batch_size, train):\n",
    "    random.shuffle(train)\n",
    "    s = 0\n",
    "    e = batch_size\n",
    "    \n",
    "    while e < len(train):\n",
    "        batch = train[s:e]\n",
    "        temp  = e\n",
    "        e     = e + batch_size\n",
    "        s     = temp\n",
    "        yield batch   #what is difference between yield and return (yield is MUCH more efficient than return)\n",
    "    \n",
    "    if e > len(train):\n",
    "        batch = train[s:]\n",
    "        yield batch"
   ]
  },
  {
   "cell_type": "code",
   "execution_count": 33,
   "metadata": {},
   "outputs": [],
   "source": [
    "#utility function to convert out batch to tensor\n",
    "def prepare_sequence(seq, word2index):\n",
    "    idxs = list(map(lambda w: word2index[w] if word2index.get(w) is not None else word2index[\"<UNK>\"], seq))\n",
    "    return torch.LongTensor(idxs)\n",
    "\n",
    "def prepare_tag(tag,tag2index):\n",
    "    return torch.LongTensor([tag2index[tag]])"
   ]
  },
  {
   "cell_type": "code",
   "execution_count": 35,
   "metadata": {},
   "outputs": [
    {
     "name": "stdout",
     "output_type": "stream",
     "text": [
      "Epoch: 1 | Batch:    22 | loss: 1.9488742351531982\n",
      "Epoch: 2 | Batch:    22 | loss: 2.248173475265503\n",
      "Epoch: 3 | Batch:    22 | loss: 2.1972246170043945\n",
      "Epoch: 4 | Batch:    22 | loss: 1.7686676979064941\n",
      "Epoch: 5 | Batch:    22 | loss: 1.6203813552856445\n"
     ]
    }
   ],
   "source": [
    "import numpy as np\n",
    "\n",
    "#make sure that model uses dropout and any normalization\n",
    "model.train()\n",
    "\n",
    "#loop each epoch\n",
    "for epoch in range(num_epochs):\n",
    "    #loop each batch\n",
    "    for i, batch in enumerate(getBatch(batch_size, train)):\n",
    "        \n",
    "        x, y = list(zip(*batch))\n",
    "        \n",
    "        inputs  = torch.cat([prepare_sequence(sent, word2index).reshape(1, -1) for sent in x])\n",
    "        #(batch_size, 5)\n",
    "        \n",
    "        targets = torch.cat([prepare_tag(tag, tag2index) for tag in y])\n",
    "        #(batch_size)\n",
    "    \n",
    "        \n",
    "        #predict\n",
    "        preds = model(inputs)\n",
    "        #(batch_size, len(tag_size))\n",
    "                        \n",
    "        #get the loss\n",
    "        loss = criterion(preds, targets)\n",
    "        \n",
    "        #zero grad\n",
    "        model.zero_grad()\n",
    "\n",
    "        #backpropagate\n",
    "        loss.backward()\n",
    "        \n",
    "        #update parameters\n",
    "        optimizer.step()\n",
    "        \n",
    "    \n",
    "    print(f\"Epoch: {epoch + 1} | Batch: {i:5.0f} | loss: {loss.item()}\")"
   ]
  }
 ],
 "metadata": {
  "kernelspec": {
   "display_name": "dsai",
   "language": "python",
   "name": "python3"
  },
  "language_info": {
   "codemirror_mode": {
    "name": "ipython",
    "version": 3
   },
   "file_extension": ".py",
   "mimetype": "text/x-python",
   "name": "python",
   "nbconvert_exporter": "python",
   "pygments_lexer": "ipython3",
   "version": "3.8.9"
  },
  "orig_nbformat": 4,
  "vscode": {
   "interpreter": {
    "hash": "0f2c79af21be9d001248940c049b6176cf8bfb45cabf7aa85848f5cea0f590f6"
   }
  }
 },
 "nbformat": 4,
 "nbformat_minor": 2
}
