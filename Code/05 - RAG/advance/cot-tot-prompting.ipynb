{
 "cells": [
  {
   "attachments": {},
   "cell_type": "markdown",
   "metadata": {},
   "source": [
    "# Prompting"
   ]
  },
  {
   "cell_type": "code",
   "execution_count": 3,
   "metadata": {},
   "outputs": [],
   "source": [
    "import openai\n",
    "import os\n",
    "\n",
    "api_key = os.getenv(\"OPENAI_API_KEY\")\n",
    "organization = os.getenv(\"OPEN_AI_ORG\")\n",
    "# elevenlabs_key = os.getenv(\"ELEVENLABS_KEY\")"
   ]
  },
  {
   "attachments": {},
   "cell_type": "markdown",
   "metadata": {},
   "source": [
    "## Chain-of-Thought (CoT)\n",
    "<img src=\"../figures/cot-prompting.png\" >"
   ]
  },
  {
   "cell_type": "code",
   "execution_count": 15,
   "metadata": {},
   "outputs": [
    {
     "name": "stdout",
     "output_type": "stream",
     "text": [
      "Human: Roger has 5 tennis balls. He buys 2 more cans of tennis balls. Each can has 3 tennis balls. How many tennis balls does he have now?\n",
      "AI: Roger started with 5 balls. 2 cans of 3 tennis balls each is 6 tennis balls. 5 + 6 = 11. The answer is 11.\n"
     ]
    }
   ],
   "source": [
    "from langchain.prompts import (\n",
    "    ChatPromptTemplate,\n",
    "    FewShotChatMessagePromptTemplate,\n",
    ")\n",
    "\n",
    "examples = [\n",
    "    {\"input\": \"Roger has 5 tennis balls. He buys 2 more cans of tennis balls. Each can has 3 tennis balls. How many tennis balls does he have now?\", \n",
    "     \"output\": \"Roger started with 5 balls. 2 cans of 3 tennis balls each is 6 tennis balls. 5 + 6 = 11. The answer is 11.\"},\n",
    "]\n",
    "\n",
    "# This is a prompt template used to format each individual example.\n",
    "example_prompt = ChatPromptTemplate.from_messages(\n",
    "    [\n",
    "        (\"human\", \"{input}\"),\n",
    "        (\"ai\", \"{output}\"),\n",
    "    ]\n",
    ")\n",
    "few_shot_prompt = FewShotChatMessagePromptTemplate(\n",
    "    example_prompt=example_prompt,\n",
    "    examples=examples,\n",
    ")\n",
    "\n",
    "print(few_shot_prompt.format())"
   ]
  },
  {
   "cell_type": "code",
   "execution_count": 16,
   "metadata": {},
   "outputs": [],
   "source": [
    "final_prompt = ChatPromptTemplate.from_messages(\n",
    "    [\n",
    "        (\"system\", \"You are a wondrous wizard of math.\"),\n",
    "        few_shot_prompt,\n",
    "        (\"human\", \"{input}\"),\n",
    "    ]\n",
    ")"
   ]
  },
  {
   "cell_type": "code",
   "execution_count": 17,
   "metadata": {},
   "outputs": [
    {
     "data": {
      "text/plain": [
       "AIMessage(content='The cafeteria started with 23 apples. They used 20 for lunch, so they have 23 - 20 = 3 apples left. Then they bought 6 more, so they have 3 + 6 = 9 apples now. The answer is 9.')"
      ]
     },
     "execution_count": 17,
     "metadata": {},
     "output_type": "execute_result"
    }
   ],
   "source": [
    "from langchain.chat_models import ChatOpenAI\n",
    "\n",
    "chain = final_prompt | ChatOpenAI(\n",
    "    temperature=0,\n",
    "    openai_api_key=api_key,\n",
    "    openai_organization=organization,\n",
    "    )\n",
    "\n",
    "chain.invoke({\"input\": \"The cafeteria had 23 apples. If they used 20 to make lunch and bought 6 more, how many apples do they have?\"})"
   ]
  },
  {
   "attachments": {},
   "cell_type": "markdown",
   "metadata": {},
   "source": [
    "## Zero-shot CoT"
   ]
  },
  {
   "cell_type": "code",
   "execution_count": 4,
   "metadata": {},
   "outputs": [
    {
     "data": {
      "text/plain": [
       "AIMessage(content='Step 1: Start with the initial number of apples in the cafeteria, which is 23.\\n\\nStep 2: Subtract the number of apples used to make lunch, which is 20. \\n\\n23 - 20 = 3\\n\\nStep 3: Add the number of apples bought, which is 6.\\n\\n3 + 6 = 9\\n\\nTherefore, the cafeteria now has 9 apples.')"
      ]
     },
     "execution_count": 4,
     "metadata": {},
     "output_type": "execute_result"
    }
   ],
   "source": [
    "from langchain.prompts import ChatPromptTemplate\n",
    "from langchain.chat_models import ChatOpenAI\n",
    "\n",
    "chat_template = ChatPromptTemplate.from_messages(\n",
    "    [\n",
    "        (\"human\", \"{input} Let's think step by step.\"),\n",
    "\n",
    "    ]\n",
    ")\n",
    "\n",
    "chain = chat_template | ChatOpenAI(\n",
    "    temperature=0,\n",
    "    openai_api_key=api_key,\n",
    "    openai_organization=organization,\n",
    "    )\n",
    "\n",
    "chain.invoke({\"input\" : \"The cafeteria had 23 apples. If they used 20 to make lunch and bought 6 more, how many apples do they have?\"})"
   ]
  },
  {
   "attachments": {},
   "cell_type": "markdown",
   "metadata": {},
   "source": [
    "## Tree-of-Thought (ToT)\n",
    "\n",
    "The Tree of Thought (ToT) is a chain that allows you to query a Large Language Model (LLM) using the Tree of Thought technique. \n",
    "This is based on the paper [\\\"Large Language Model Guided Tree-of-Thought\\\"](https://arxiv.org/pdf/2305.08291.pdf)\""
   ]
  },
  {
   "attachments": {},
   "cell_type": "markdown",
   "metadata": {},
   "source": [
    "### Using Sequential Chain"
   ]
  },
  {
   "cell_type": "code",
   "execution_count": 7,
   "metadata": {},
   "outputs": [],
   "source": [
    "from langchain.chains import LLMChain\n",
    "from langchain.llms import OpenAI\n",
    "from langchain.prompts import PromptTemplate\n",
    "from langchain.chat_models import ChatOpenAI\n",
    "\n",
    "\n",
    "template =\"\"\"\n",
    "Step1 :\n",
    " \n",
    "I have a problem related to {input}. Could you brainstorm three distinct solutions? Please consider a variety of factors such as {perfect_factors}\n",
    "A:\n",
    "\"\"\"\n",
    "\n",
    "prompt1 = PromptTemplate(\n",
    "    input_variables=[\"input\",\"perfect_factors\"],\n",
    "    template = template                      \n",
    ")\n",
    "\n",
    "chain1 = LLMChain(\n",
    "    llm=ChatOpenAI(\n",
    "        temperature=0,\n",
    "        openai_api_key=api_key,\n",
    "        openai_organization=organization,\n",
    "        ),\n",
    "    prompt=prompt1,\n",
    "    output_key=\"solutions\",\n",
    "    verbose=True\n",
    ")"
   ]
  },
  {
   "cell_type": "code",
   "execution_count": 8,
   "metadata": {},
   "outputs": [],
   "source": [
    "template =\"\"\"\n",
    "Step 2:\n",
    "\n",
    "For each of the three proposed solutions, evaluate their potential. Consider their pros and cons, initial effort needed, implementation difficulty, potential challenges, and the expected outcomes. Assign a probability of success and a confidence level to each option based on these factors\n",
    "\n",
    "{solutions}\n",
    "\n",
    "A:\"\"\"\n",
    "\n",
    "prompt2 = PromptTemplate(\n",
    "    input_variables=[\"solutions\"],\n",
    "    template = template                      \n",
    ")\n",
    "\n",
    "chain2 = LLMChain(\n",
    "    llm=ChatOpenAI(\n",
    "        temperature=0,\n",
    "        openai_api_key=api_key,\n",
    "        openai_organization=organization,\n",
    "        ),\n",
    "    prompt=prompt2,\n",
    "    output_key=\"review\",\n",
    "    verbose=True\n",
    ")"
   ]
  },
  {
   "cell_type": "code",
   "execution_count": 9,
   "metadata": {},
   "outputs": [],
   "source": [
    "template =\"\"\"\n",
    "Step 3:\n",
    "\n",
    "For each solution, deepen the thought process. Generate potential scenarios, strategies for implementation, any necessary partnerships or resources, and how potential obstacles might be overcome. Also, consider any potential unexpected outcomes and how they might be handled.\n",
    "\n",
    "{review}\n",
    "\n",
    "A:\"\"\"\n",
    "\n",
    "prompt3 = PromptTemplate(\n",
    "    input_variables=[\"review\"],\n",
    "    template = template                      \n",
    ")\n",
    "\n",
    "chain3 = LLMChain(\n",
    "    llm=ChatOpenAI(\n",
    "        temperature=0,\n",
    "        openai_api_key=api_key,\n",
    "        openai_organization=organization,\n",
    "        ),\n",
    "    prompt=prompt3,\n",
    "    output_key=\"deepen_thought_process\",\n",
    "    verbose=True\n",
    ")\n"
   ]
  },
  {
   "cell_type": "code",
   "execution_count": 10,
   "metadata": {},
   "outputs": [],
   "source": [
    "template =\"\"\"\n",
    "Step 4:\n",
    "\n",
    "Based on the evaluations and scenarios, rank the solutions in order of promise. Provide a justification for each ranking and offer any final thoughts or considerations for each solution\n",
    "{deepen_thought_process}\n",
    "\n",
    "A:\"\"\"\n",
    "\n",
    "prompt4 = PromptTemplate(\n",
    "    input_variables=[\"deepen_thought_process\"],\n",
    "    template = template                      \n",
    ")\n",
    "\n",
    "chain4 = LLMChain(\n",
    "    llm=ChatOpenAI(\n",
    "        temperature=0,\n",
    "        openai_api_key=api_key,\n",
    "        openai_organization=organization,\n",
    "        ),\n",
    "    prompt=prompt4,\n",
    "    output_key=\"ranked_solutions\",\n",
    "    verbose=True\n",
    ")"
   ]
  },
  {
   "cell_type": "code",
   "execution_count": 11,
   "metadata": {},
   "outputs": [
    {
     "name": "stdout",
     "output_type": "stream",
     "text": [
      "\n",
      "\n",
      "\u001b[1m> Entering new SequentialChain chain...\u001b[0m\n",
      "\n",
      "\n",
      "\u001b[1m> Entering new LLMChain chain...\u001b[0m\n",
      "Prompt after formatting:\n",
      "\u001b[32;1m\u001b[1;3m\n",
      "Step1 :\n",
      " \n",
      "I have a problem related to human colonization of Mars. Could you brainstorm three distinct solutions? Please consider a variety of factors such as The distance between Earth and Mars is very large, making regular resupply difficult\n",
      "A:\n",
      "\u001b[0m\n",
      "\n",
      "\u001b[1m> Finished chain.\u001b[0m\n",
      "\n",
      "\n",
      "\u001b[1m> Entering new LLMChain chain...\u001b[0m\n",
      "Prompt after formatting:\n",
      "\u001b[32;1m\u001b[1;3m\n",
      "Step 2:\n",
      "\n",
      "For each of the three proposed solutions, evaluate their potential. Consider their pros and cons, initial effort needed, implementation difficulty, potential challenges, and the expected outcomes. Assign a probability of success and a confidence level to each option based on these factors\n",
      "\n",
      "1. Sustainable Resource Management: One solution could be to focus on sustainable resource management on Mars. This would involve developing technologies and systems that allow for efficient use of available resources, such as water, energy, and food. By maximizing resource utilization and minimizing waste, colonizers could reduce their dependence on regular resupply from Earth.\n",
      "\n",
      "2. In-Situ Resource Utilization (ISRU): Another solution could be to prioritize the development of ISRU technologies on Mars. ISRU involves utilizing the resources available on Mars, such as extracting water from ice deposits or utilizing the Martian atmosphere for oxygen production. By relying on local resources, colonizers could reduce the need for regular resupply and establish a more self-sustaining colony.\n",
      "\n",
      "3. Interplanetary Supply Chain: To address the challenge of regular resupply, establishing an efficient interplanetary supply chain could be crucial. This would involve developing advanced spacecraft and logistics systems capable of transporting necessary supplies from Earth to Mars on a regular basis. Additionally, establishing a network of resupply stations or depots along the route could help optimize the transportation process and reduce costs.\n",
      "\n",
      "These solutions aim to address the challenges posed by the large distance between Earth and Mars, ensuring the sustainability and self-sufficiency of a Martian colony while minimizing the need for regular resupply.\n",
      "\n",
      "A:\u001b[0m\n",
      "\n",
      "\u001b[1m> Finished chain.\u001b[0m\n",
      "\n",
      "\n",
      "\u001b[1m> Entering new LLMChain chain...\u001b[0m\n",
      "Prompt after formatting:\n",
      "\u001b[32;1m\u001b[1;3m\n",
      "Step 3:\n",
      "\n",
      "For each solution, deepen the thought process. Generate potential scenarios, strategies for implementation, any necessary partnerships or resources, and how potential obstacles might be overcome. Also, consider any potential unexpected outcomes and how they might be handled.\n",
      "\n",
      "Sustainable Resource Management:\n",
      "Pros:\n",
      "- Reduces dependence on regular resupply from Earth\n",
      "- Maximizes resource utilization and minimizes waste\n",
      "- Promotes self-sufficiency and sustainability of the colony\n",
      "\n",
      "Cons:\n",
      "- Requires significant initial effort and investment in developing technologies and systems\n",
      "- Implementation difficulty may be high due to the need for advanced resource management systems\n",
      "- Potential challenges include the need for continuous monitoring and maintenance of resource utilization systems\n",
      "\n",
      "Probability of success: 80%\n",
      "Confidence level: High\n",
      "\n",
      "B: In-Situ Resource Utilization (ISRU):\n",
      "Pros:\n",
      "- Reduces dependence on regular resupply from Earth\n",
      "- Utilizes local resources, making the colony more self-sustaining\n",
      "- Potential for long-term resource availability on Mars\n",
      "\n",
      "Cons:\n",
      "- Requires development of advanced ISRU technologies\n",
      "- Implementation difficulty may be high due to the need for resource extraction and processing systems\n",
      "- Potential challenges include the need for continuous research and development to optimize resource utilization\n",
      "\n",
      "Probability of success: 70%\n",
      "Confidence level: Medium\n",
      "\n",
      "C: Interplanetary Supply Chain:\n",
      "Pros:\n",
      "- Addresses the challenge of regular resupply from Earth\n",
      "- Enables efficient transportation of necessary supplies\n",
      "- Potential for cost optimization through the establishment of resupply stations or depots\n",
      "\n",
      "Cons:\n",
      "- Requires significant investment in developing advanced spacecraft and logistics systems\n",
      "- Implementation difficulty may be high due to the need for interplanetary transportation capabilities\n",
      "- Potential challenges include the need for continuous maintenance and upgrades of the supply chain infrastructure\n",
      "\n",
      "Probability of success: 75%\n",
      "Confidence level: Medium\n",
      "\n",
      "A:\u001b[0m\n",
      "\n",
      "\u001b[1m> Finished chain.\u001b[0m\n",
      "\n",
      "\n",
      "\u001b[1m> Entering new LLMChain chain...\u001b[0m\n",
      "Prompt after formatting:\n",
      "\u001b[32;1m\u001b[1;3m\n",
      "Step 4:\n",
      "\n",
      "Based on the evaluations and scenarios, rank the solutions in order of promise. Provide a justification for each ranking and offer any final thoughts or considerations for each solution\n",
      "Vertical Farming:\n",
      "Pros:\n",
      "- Reduces dependence on regular resupply from Earth for food\n",
      "- Maximizes food production in a limited space\n",
      "- Provides fresh and nutritious food for the colony\n",
      "\n",
      "Cons:\n",
      "- Requires significant initial investment in developing vertical farming systems\n",
      "- Implementation difficulty may be high due to the need for controlled environments and efficient use of resources\n",
      "- Potential challenges include the need for continuous monitoring and maintenance of the farming systems\n",
      "\n",
      "Probability of success: 85%\n",
      "Confidence level: High\n",
      "\n",
      "Deepening the thought process for Vertical Farming:\n",
      "\n",
      "Potential scenarios:\n",
      "- The colony successfully establishes a vertical farming system that produces enough food to sustain the population.\n",
      "- The vertical farming system experiences technical difficulties, leading to a temporary shortage of food.\n",
      "- The vertical farming system exceeds expectations and produces surplus food, allowing for trade with other colonies or Earth.\n",
      "\n",
      "Strategies for implementation:\n",
      "- Conduct thorough research and development to optimize vertical farming systems for Mars' unique conditions.\n",
      "- Collaborate with experts in agriculture and hydroponics to design efficient and sustainable farming systems.\n",
      "- Establish a training program to educate colony residents on vertical farming techniques and maintenance.\n",
      "\n",
      "Partnerships and resources:\n",
      "- Partner with agricultural companies and universities to access their expertise and resources in vertical farming.\n",
      "- Seek funding from government agencies, private investors, and philanthropic organizations to support the development and implementation of vertical farming systems.\n",
      "\n",
      "Overcoming potential obstacles:\n",
      "- Continuous monitoring and maintenance of the farming systems can be achieved through regular inspections and training of colony residents.\n",
      "- Technical difficulties can be addressed through a dedicated team of engineers and technicians who are trained to troubleshoot and repair the farming systems.\n",
      "- In the event of a temporary shortage of food, alternative food sources such as emergency rations or imported supplies can be utilized until the vertical farming system is back on track.\n",
      "\n",
      "Potential unexpected outcomes:\n",
      "- The vertical farming system may face unexpected challenges such as pest infestations or crop diseases. These can be addressed through the implementation of integrated pest management strategies and disease prevention measures.\n",
      "- The surplus food produced by the vertical farming system may lead to economic opportunities for the colony, such as exporting food to other colonies or Earth. This can contribute to the overall sustainability and self-sufficiency of the colony.\n",
      "\n",
      "A:\u001b[0m\n",
      "\n",
      "\u001b[1m> Finished chain.\u001b[0m\n",
      "\n",
      "\u001b[1m> Finished chain.\u001b[0m\n"
     ]
    }
   ],
   "source": [
    "from langchain.chains import SequentialChain\n",
    "\n",
    "overall_chain = SequentialChain(\n",
    "    chains=[chain1, chain2, chain3, chain4],\n",
    "    input_variables=[\"input\", \"perfect_factors\"],\n",
    "    output_variables=[\"ranked_solutions\"],\n",
    "    verbose=True\n",
    ")\n",
    "\n",
    "\n",
    "reuslt = overall_chain({\n",
    "        \"input\": \"human colonization of Mars\", \n",
    "        \"perfect_factors\": \"The distance between Earth and Mars is very large, making regular resupply difficult\"\n",
    "    })\n"
   ]
  },
  {
   "cell_type": "code",
   "execution_count": 12,
   "metadata": {},
   "outputs": [
    {
     "data": {
      "text/plain": [
       "dict_keys(['input', 'perfect_factors', 'ranked_solutions'])"
      ]
     },
     "execution_count": 12,
     "metadata": {},
     "output_type": "execute_result"
    }
   ],
   "source": [
    "reuslt.keys()"
   ]
  },
  {
   "cell_type": "code",
   "execution_count": 13,
   "metadata": {},
   "outputs": [
    {
     "name": "stdout",
     "output_type": "stream",
     "text": [
      "Rank: 1\n",
      "\n",
      "Justification: Vertical farming has the highest promise due to its potential to reduce dependence on resupply from Earth, maximize food production in a limited space, and provide fresh and nutritious food for the colony. While there are initial investment and implementation challenges, the probability of success is high, and the confidence level is also high. The potential scenarios, strategies for implementation, partnerships and resources, and overcoming potential obstacles all support the feasibility and potential success of vertical farming.\n",
      "\n",
      "B: Rank: 2\n",
      "\n",
      "Justification: The second-highest promise solution is the development of advanced water recycling systems. While it is crucial for sustaining life on Mars, it is not as promising as vertical farming in terms of reducing dependence on Earth for food. However, it is still a critical solution for ensuring a sustainable water supply for the colony. The potential scenarios, strategies for implementation, partnerships and resources, and overcoming potential obstacles all support the feasibility and potential success of advanced water recycling systems.\n",
      "\n",
      "C: Rank: 3\n",
      "\n",
      "Justification: The third-ranked solution is the establishment of renewable energy sources. While renewable energy is essential for reducing dependence on Earth for power, it is not as directly related to the immediate needs of food production and water supply. However, it is still a crucial solution for long-term sustainability and reducing reliance on limited resources. The potential scenarios, strategies for implementation, partnerships and resources, and overcoming potential obstacles all support the feasibility and potential success of renewable energy sources.\n",
      "\n",
      "D: Rank: 4\n",
      "\n",
      "Justification: The fourth-ranked solution is the development of advanced 3D printing technology. While 3D printing can be beneficial for manufacturing and construction on Mars, it is not as directly related to the immediate needs of food production, water supply, or energy generation. However, it can still contribute to the overall self-sufficiency and resource utilization of the colony. The potential scenarios, strategies for implementation, partnerships and resources, and overcoming potential obstacles all support the feasibility and potential success of advanced 3D printing technology.\n",
      "\n",
      "Final thoughts and considerations:\n",
      "\n",
      "- It is important to prioritize solutions that directly address the immediate needs of food production, water supply, and energy generation, as these are crucial for the survival and sustainability of the colony.\n",
      "- Collaboration with experts, partnerships with relevant organizations, and securing funding are essential for the successful implementation of these solutions.\n",
      "- Continuous monitoring, maintenance, and troubleshooting plans should be in place to address any technical difficulties or unexpected challenges that may arise.\n",
      "- The potential for economic opportunities, such as exporting surplus food or utilizing advanced 3D printing technology for manufacturing, should be considered to enhance the self-sufficiency and sustainability of the colony.\n"
     ]
    }
   ],
   "source": [
    "print(reuslt['ranked_solutions'])"
   ]
  },
  {
   "attachments": {},
   "cell_type": "markdown",
   "metadata": {},
   "source": [
    "### Using ToTChain"
   ]
  },
  {
   "cell_type": "code",
   "execution_count": 4,
   "metadata": {},
   "outputs": [
    {
     "name": "stdout",
     "output_type": "stream",
     "text": [
      "3,*,*,2|1,*,3,*|*,1,*,3|4,*,*,1\n",
      "\n",
      "- This is a 4x4 Sudoku puzzle.\n",
      "- The * represents a cell to be filled.\n",
      "- The | character separates rows.\n",
      "- At each step, replace one or more * with digits 1-4.\n",
      "- There must be no duplicate digits in any row, column or 2x2 subgrid.\n",
      "- Keep the known digits from previous valid thoughts in place.\n",
      "- Each thought can be a partial or the final solution.\n"
     ]
    }
   ],
   "source": [
    "sudoku_puzzle =   \"3,*,*,2|1,*,3,*|*,1,*,3|4,*,*,1\"\n",
    "sudoku_solution = \"3,4,1,2|1,2,3,4|2,1,4,3|4,3,2,1\"\n",
    "problem_description = f\"\"\"\n",
    "{sudoku_puzzle}\n",
    "\n",
    "- This is a 4x4 Sudoku puzzle.\n",
    "- The * represents a cell to be filled.\n",
    "- The | character separates rows.\n",
    "- At each step, replace one or more * with digits 1-4.\n",
    "- There must be no duplicate digits in any row, column or 2x2 subgrid.\n",
    "- Keep the known digits from previous valid thoughts in place.\n",
    "- Each thought can be a partial or the final solution.\n",
    "\"\"\".strip()\n",
    "\n",
    "print(problem_description)"
   ]
  },
  {
   "cell_type": "code",
   "execution_count": 5,
   "metadata": {},
   "outputs": [
    {
     "name": "stdout",
     "output_type": "stream",
     "text": [
      "('3,*,*,2|1,*,3,*|*,1,*,3|4,*,*,1',)\n",
      "('3,4,1,2|1,2,3,4|2,1,4,3|4,3,2,1',)\n",
      "('3,4,1,2|1,2,3,4|2,1,4,3|4,3,*,1',)\n",
      "('3,4,1,2|1,2,3,4|2,1,4,3|4,*,3,1',)\n"
     ]
    }
   ],
   "source": [
    "from langchain_experimental.tot.base import ToTChain\n",
    "from langchain.memory import ConversationBufferWindowMemory\n",
    "from langchain_experimental.tot.checker import ToTChecker\n",
    "from langchain_experimental.tot.thought import ThoughtValidity\n",
    "import re\n",
    "from typing import Tuple\n",
    "\n",
    "class MyChecker(ToTChecker):\n",
    "    def evaluate(self, problem_description: str, thoughts: Tuple[str, ...] = ()) -> ThoughtValidity:\n",
    "        print(thoughts)\n",
    "        last_thought = thoughts[-1]\n",
    "        clean_solution = last_thought.replace(\" \", \"\").replace('\"', \"\")\n",
    "        regex_solution = clean_solution.replace(\"*\", \".\").replace(\"|\", \"\\\\|\")\n",
    "        if sudoku_solution in clean_solution:\n",
    "            return ThoughtValidity.VALID_FINAL\n",
    "        elif re.search(regex_solution, sudoku_solution):\n",
    "            return ThoughtValidity.VALID_INTERMEDIATE\n",
    "        else:\n",
    "            return ThoughtValidity.INVALID\n",
    "\n",
    "#######\n",
    "# Testing the MyChecker class above:\n",
    "#######\n",
    "\n",
    "checker = MyChecker()\n",
    "assert checker.evaluate(\"\", (\"3,*,*,2|1,*,3,*|*,1,*,3|4,*,*,1\",)) == ThoughtValidity.VALID_INTERMEDIATE\n",
    "assert checker.evaluate(\"\", (\"3,4,1,2|1,2,3,4|2,1,4,3|4,3,2,1\",)) == ThoughtValidity.VALID_FINAL\n",
    "assert checker.evaluate(\"\", (\"3,4,1,2|1,2,3,4|2,1,4,3|4,3,*,1\",)) == ThoughtValidity.VALID_INTERMEDIATE\n",
    "assert checker.evaluate(\"\", (\"3,4,1,2|1,2,3,4|2,1,4,3|4,*,3,1\",)) == ThoughtValidity.INVALID"
   ]
  },
  {
   "cell_type": "code",
   "execution_count": 6,
   "metadata": {},
   "outputs": [
    {
     "name": "stdout",
     "output_type": "stream",
     "text": [
      "\n",
      "\n",
      "\u001b[1m> Entering new ToTChain chain...\u001b[0m\n",
      "Starting the ToT solve procedure.\n"
     ]
    },
    {
     "name": "stderr",
     "output_type": "stream",
     "text": [
      "/opt/homebrew/lib/python3.11/site-packages/langchain/chains/llm.py:321: UserWarning: The predict_and_parse method is deprecated, instead pass an output parser directly to LLMChain.\n",
      "  warnings.warn(\n"
     ]
    },
    {
     "name": "stdout",
     "output_type": "stream",
     "text": [
      "('3,*,*,2|1,*,3,*|*,1,*,3|4,*,*,1',)\n",
      "\u001b[33;1m\u001b[1;3mThought: 3,*,*,2|1,*,3,*|*,1,*,3|4,*,*,1\n",
      "\u001b[0m"
     ]
    },
    {
     "name": "stderr",
     "output_type": "stream",
     "text": [
      "/opt/homebrew/lib/python3.11/site-packages/langchain/chains/llm.py:321: UserWarning: The predict_and_parse method is deprecated, instead pass an output parser directly to LLMChain.\n",
      "  warnings.warn(\n"
     ]
    },
    {
     "name": "stdout",
     "output_type": "stream",
     "text": [
      "('3,*,*,2|1,*,3,*|*,1,*,3|4,*,*,1', '3,*,*,2|1,*,3,*|*,1,*,3|4,*,*,1')\n",
      "\u001b[33;1m\u001b[1;3m    Thought: 3,*,*,2|1,*,3,*|*,1,*,3|4,*,*,1\n",
      "\u001b[0m"
     ]
    },
    {
     "name": "stderr",
     "output_type": "stream",
     "text": [
      "/opt/homebrew/lib/python3.11/site-packages/langchain/chains/llm.py:321: UserWarning: The predict_and_parse method is deprecated, instead pass an output parser directly to LLMChain.\n",
      "  warnings.warn(\n"
     ]
    },
    {
     "name": "stdout",
     "output_type": "stream",
     "text": [
      "('3,*,*,2|1,*,3,*|*,1,*,3|4,*,*,1', '3,*,*,2|1,*,3,*|*,1,*,3|4,*,*,1', '3,*,*,2|1,*,3,*|*,1,*,3|4,*,*,1')\n",
      "\u001b[33;1m\u001b[1;3m        Thought: 3,*,*,2|1,*,3,*|*,1,*,3|4,*,*,1\n",
      "\u001b[0m"
     ]
    },
    {
     "name": "stderr",
     "output_type": "stream",
     "text": [
      "/opt/homebrew/lib/python3.11/site-packages/langchain/chains/llm.py:321: UserWarning: The predict_and_parse method is deprecated, instead pass an output parser directly to LLMChain.\n",
      "  warnings.warn(\n"
     ]
    },
    {
     "name": "stdout",
     "output_type": "stream",
     "text": [
      "('3,*,*,2|1,*,3,*|*,1,*,3|4,*,*,1', '3,*,*,2|1,*,3,*|*,1,*,3|4,*,*,1', '3,*,*,2|1,*,3,*|*,1,*,3|4,*,*,1', '3,*,*,2|1,*,3,*|*,1,*,3|4,*,*,1')\n",
      "\u001b[33;1m\u001b[1;3m            Thought: 3,*,*,2|1,*,3,*|*,1,*,3|4,*,*,1\n",
      "\u001b[0m"
     ]
    },
    {
     "name": "stderr",
     "output_type": "stream",
     "text": [
      "/opt/homebrew/lib/python3.11/site-packages/langchain/chains/llm.py:321: UserWarning: The predict_and_parse method is deprecated, instead pass an output parser directly to LLMChain.\n",
      "  warnings.warn(\n"
     ]
    },
    {
     "name": "stdout",
     "output_type": "stream",
     "text": [
      "('3,*,*,2|1,*,3,*|*,1,*,3|4,*,*,1', '3,*,*,2|1,*,3,*|*,1,*,3|4,*,*,1', '3,*,*,2|1,*,3,*|*,1,*,3|4,*,*,1', '3,*,*,2|1,*,3,*|*,1,*,3|4,*,*,1', '3,*,*,2|1,*,3,*|*,1,*,3|4,*,*,1')\n",
      "\u001b[33;1m\u001b[1;3m                Thought: 3,*,*,2|1,*,3,*|*,1,*,3|4,*,*,1\n",
      "\u001b[0m"
     ]
    },
    {
     "name": "stderr",
     "output_type": "stream",
     "text": [
      "/opt/homebrew/lib/python3.11/site-packages/langchain/chains/llm.py:321: UserWarning: The predict_and_parse method is deprecated, instead pass an output parser directly to LLMChain.\n",
      "  warnings.warn(\n"
     ]
    },
    {
     "name": "stdout",
     "output_type": "stream",
     "text": [
      "('3,*,*,2|1,*,3,*|*,1,*,3|4,*,*,1', '3,*,*,2|1,*,3,*|*,1,*,3|4,*,*,1', '3,*,*,2|1,*,3,*|*,1,*,3|4,*,*,1', '3,*,*,2|1,*,3,*|*,1,*,3|4,*,*,1', '3,*,*,2|1,*,3,*|*,1,*,3|4,*,*,1', '3,*,*,2|1,*,3,*|*,1,*,3|4,*,*,1')\n",
      "\u001b[33;1m\u001b[1;3m                    Thought: 3,*,*,2|1,*,3,*|*,1,*,3|4,*,*,1\n",
      "\u001b[0m"
     ]
    },
    {
     "name": "stderr",
     "output_type": "stream",
     "text": [
      "/opt/homebrew/lib/python3.11/site-packages/langchain/chains/llm.py:321: UserWarning: The predict_and_parse method is deprecated, instead pass an output parser directly to LLMChain.\n",
      "  warnings.warn(\n"
     ]
    }
   ],
   "source": [
    "from langchain.chat_models import ChatOpenAI\n",
    "\n",
    "llm = ChatOpenAI(\n",
    "    temperature=0,\n",
    "    openai_api_key=api_key,\n",
    "    openai_organization=organization,\n",
    ")\n",
    "\n",
    "tot_chain = ToTChain(\n",
    "    llm = llm,\n",
    "    memory = ConversationBufferWindowMemory(),\n",
    "    checker = checker,\n",
    "    verbose = True,\n",
    "    # verbose_llm = True\n",
    ")\n",
    "\n",
    "tot_chain.run({\"problem_description\": problem_description})"
   ]
  },
  {
   "attachments": {},
   "cell_type": "markdown",
   "metadata": {},
   "source": [
    "# Reference \n",
    "https://medium.com/@astropomeai/implementing-the-tree-of-thoughts-in-langchains-chain-f2ebc5864fac\n",
    "https://github.com/mrspiggot/forestOfThoughts/blob/master/langchain_monoculture.py\n",
    "https://cobusgreyling.medium.com/langchain-langsmith-llm-guided-tree-of-thought-47a2cd5bcfca"
   ]
  },
  {
   "attachments": {},
   "cell_type": "markdown",
   "metadata": {},
   "source": []
  }
 ],
 "metadata": {
  "kernelspec": {
   "display_name": "Python 3",
   "language": "python",
   "name": "python3"
  },
  "language_info": {
   "codemirror_mode": {
    "name": "ipython",
    "version": 3
   },
   "file_extension": ".py",
   "mimetype": "text/x-python",
   "name": "python",
   "nbconvert_exporter": "python",
   "pygments_lexer": "ipython3",
   "version": "3.11.6"
  },
  "orig_nbformat": 4
 },
 "nbformat": 4,
 "nbformat_minor": 2
}
