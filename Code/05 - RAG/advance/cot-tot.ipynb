{
 "cells": [
  {
   "attachments": {},
   "cell_type": "markdown",
   "metadata": {},
   "source": [
    "# Langchain"
   ]
  },
  {
   "attachments": {},
   "cell_type": "markdown",
   "metadata": {},
   "source": [
    "## Chain-of-Thought (CoT)"
   ]
  },
  {
   "cell_type": "code",
   "execution_count": null,
   "metadata": {},
   "outputs": [],
   "source": []
  },
  {
   "attachments": {},
   "cell_type": "markdown",
   "metadata": {},
   "source": [
    "## Tree-of-Thought (ToT)\n",
    "\n",
    "The Tree of Thought (ToT) is a chain that allows you to query a Large Language Model (LLM) using the Tree of Thought technique. \n",
    "This is based on the paper [\\\"Large Language Model Guided Tree-of-Thought\\\"](https://arxiv.org/pdf/2305.08291.pdf)\""
   ]
  },
  {
   "cell_type": "code",
   "execution_count": 7,
   "metadata": {},
   "outputs": [],
   "source": [
    "import openai\n",
    "import os\n",
    "\n",
    "api_key = os.getenv(\"OPENAI_API_KEY\")\n",
    "organization = os.getenv(\"OPEN_AI_ORG\")\n",
    "# elevenlabs_key = os.getenv(\"ELEVENLABS_KEY\")"
   ]
  },
  {
   "cell_type": "code",
   "execution_count": 9,
   "metadata": {},
   "outputs": [],
   "source": [
    "from langchain.chains import LLMChain\n",
    "from langchain.llms import OpenAI\n",
    "from langchain.prompts import PromptTemplate\n",
    "from langchain.chat_models import ChatOpenAI\n",
    "\n",
    "\n",
    "template =\"\"\"\n",
    "Step1 :\n",
    " \n",
    "I have a problem related to {input}. Could you brainstorm three distinct solutions? Please consider a variety of factors such as {perfect_factors}\n",
    "A:\n",
    "\"\"\"\n",
    "\n",
    "prompt = PromptTemplate(\n",
    "    input_variables=[\"input\",\"perfect_factors\"],\n",
    "    template = template                      \n",
    ")\n",
    "\n",
    "chain1 = LLMChain(\n",
    "    llm=ChatOpenAI(\n",
    "        temperature=0,\n",
    "        openai_api_key=api_key,\n",
    "        openai_organization=organization,\n",
    "        ),\n",
    "    prompt=prompt,\n",
    "    output_key=\"solutions\",\n",
    "    verbose=True\n",
    ")"
   ]
  },
  {
   "cell_type": "code",
   "execution_count": 10,
   "metadata": {},
   "outputs": [],
   "source": [
    "template =\"\"\"\n",
    "Step 2:\n",
    "\n",
    "For each of the three proposed solutions, evaluate their potential. Consider their pros and cons, initial effort needed, implementation difficulty, potential challenges, and the expected outcomes. Assign a probability of success and a confidence level to each option based on these factors\n",
    "\n",
    "{solutions}\n",
    "\n",
    "A:\"\"\"\n",
    "\n",
    "prompt = PromptTemplate(\n",
    "    input_variables=[\"solutions\"],\n",
    "    template = template                      \n",
    ")\n",
    "\n",
    "chain2 = LLMChain(\n",
    "    llm=ChatOpenAI(\n",
    "        temperature=0,\n",
    "        openai_api_key=api_key,\n",
    "        openai_organization=organization,\n",
    "        ),\n",
    "    prompt=prompt,\n",
    "    output_key=\"review\",\n",
    "    verbose=True\n",
    ")"
   ]
  },
  {
   "cell_type": "code",
   "execution_count": 11,
   "metadata": {},
   "outputs": [],
   "source": [
    "template =\"\"\"\n",
    "Step 3:\n",
    "\n",
    "For each solution, deepen the thought process. Generate potential scenarios, strategies for implementation, any necessary partnerships or resources, and how potential obstacles might be overcome. Also, consider any potential unexpected outcomes and how they might be handled.\n",
    "\n",
    "{review}\n",
    "\n",
    "A:\"\"\"\n",
    "\n",
    "prompt = PromptTemplate(\n",
    "    input_variables=[\"review\"],\n",
    "    template = template                      \n",
    ")\n",
    "\n",
    "chain3 = LLMChain(\n",
    "    llm=ChatOpenAI(\n",
    "        temperature=0,\n",
    "        openai_api_key=api_key,\n",
    "        openai_organization=organization,\n",
    "        ),\n",
    "    prompt=prompt,\n",
    "    output_key=\"deepen_thought_process\",\n",
    "    verbose=True\n",
    ")\n"
   ]
  },
  {
   "cell_type": "code",
   "execution_count": 12,
   "metadata": {},
   "outputs": [],
   "source": [
    "template =\"\"\"\n",
    "Step 4:\n",
    "\n",
    "Based on the evaluations and scenarios, rank the solutions in order of promise. Provide a justification for each ranking and offer any final thoughts or considerations for each solution\n",
    "{deepen_thought_process}\n",
    "\n",
    "A:\"\"\"\n",
    "\n",
    "prompt = PromptTemplate(\n",
    "    input_variables=[\"deepen_thought_process\"],\n",
    "    template = template                      \n",
    ")\n",
    "\n",
    "chain4 = LLMChain(\n",
    "    llm=ChatOpenAI(\n",
    "        temperature=0,\n",
    "        openai_api_key=api_key,\n",
    "        openai_organization=organization,\n",
    "        ),\n",
    "    prompt=prompt,\n",
    "    output_key=\"ranked_solutions\",\n",
    "    verbose=True\n",
    ")"
   ]
  },
  {
   "cell_type": "code",
   "execution_count": 7,
   "metadata": {},
   "outputs": [
    {
     "name": "stdout",
     "output_type": "stream",
     "text": [
      "\n",
      "\n",
      "\u001b[1m> Entering new SequentialChain chain...\u001b[0m\n",
      "\n",
      "\n",
      "\u001b[1m> Entering new LLMChain chain...\u001b[0m\n",
      "Prompt after formatting:\n",
      "\u001b[32;1m\u001b[1;3m\n",
      "Step1 :\n",
      " \n",
      "I have a problem related to human colonization of Mars. Could you brainstorm three distinct solutions? Please consider a variety of factors such as The distance between Earth and Mars is very large, making regular resupply difficult\n",
      "A:\n",
      "\u001b[0m\n",
      "\n",
      "\u001b[1m> Finished chain.\u001b[0m\n",
      "\n",
      "\n",
      "\u001b[1m> Entering new LLMChain chain...\u001b[0m\n",
      "Prompt after formatting:\n",
      "\u001b[32;1m\u001b[1;3m\n",
      "Step 2:\n",
      "\n",
      "For each of the three proposed solutions, evaluate their potential. Consider their pros and cons, initial effort needed, implementation difficulty, potential challenges, and the expected outcomes. Assign a probability of success and a confidence level to each option based on these factors\n",
      "\n",
      "1. Sustainable Resource Management: One solution could be to focus on sustainable resource management on Mars. This would involve developing technologies and systems that allow for efficient use of available resources, such as water, energy, and food. By maximizing resource utilization and minimizing waste, colonizers could reduce their dependence on regular resupply from Earth.\n",
      "\n",
      "2. In-Situ Resource Utilization (ISRU): Another solution could be to prioritize the development of ISRU technologies on Mars. ISRU involves utilizing the resources available on Mars, such as extracting water from ice deposits or producing oxygen from the Martian atmosphere. By harnessing these local resources, colonizers could reduce the need for regular resupply and become more self-sufficient.\n",
      "\n",
      "3. Interplanetary Supply Chain: To address the challenge of regular resupply, establishing an efficient interplanetary supply chain could be crucial. This would involve developing advanced spacecraft and logistics systems capable of transporting necessary supplies from Earth to Mars. Additionally, establishing a network of resupply stations or depots along the route could help optimize the delivery process and reduce the overall cost and time required for resupply missions.\n",
      "\n",
      "A:\u001b[0m\n",
      "\n",
      "\u001b[1m> Finished chain.\u001b[0m\n",
      "\n",
      "\n",
      "\u001b[1m> Entering new LLMChain chain...\u001b[0m\n",
      "Prompt after formatting:\n",
      "\u001b[32;1m\u001b[1;3m\n",
      "Step 3:\n",
      "\n",
      "For each solution, deepen the thought process. Generate potential scenarios, strategies for implementation, any necessary partnerships or resources, and how potential obstacles might be overcome. Also, consider any potential unexpected outcomes and how they might be handled.\n",
      "\n",
      "Sustainable Resource Management:\n",
      "Pros:\n",
      "- Reduces dependence on Earth for resources\n",
      "- Maximizes resource utilization and minimizes waste\n",
      "- Promotes long-term sustainability on Mars\n",
      "\n",
      "Cons:\n",
      "- Requires significant initial effort and investment in developing technologies and systems\n",
      "- Implementation difficulty may be high due to the need for advanced resource management systems\n",
      "- Potential challenges include limited availability of resources on Mars and the need for continuous monitoring and maintenance\n",
      "\n",
      "Probability of success: 70%\n",
      "Confidence level: Medium\n",
      "\n",
      "B: In-Situ Resource Utilization (ISRU):\n",
      "Pros:\n",
      "- Reduces dependence on Earth for resources\n",
      "- Utilizes local resources available on Mars\n",
      "- Increases self-sufficiency of colonizers\n",
      "\n",
      "Cons:\n",
      "- Requires significant initial effort and investment in developing ISRU technologies\n",
      "- Implementation difficulty may be high due to the need for advanced extraction and production systems\n",
      "- Potential challenges include limited availability and accessibility of resources on Mars, as well as the need for continuous monitoring and maintenance\n",
      "\n",
      "Probability of success: 80%\n",
      "Confidence level: High\n",
      "\n",
      "C: Interplanetary Supply Chain:\n",
      "Pros:\n",
      "- Addresses the challenge of regular resupply from Earth\n",
      "- Optimizes delivery process and reduces cost and time required for resupply missions\n",
      "- Enables efficient transportation of necessary supplies\n",
      "\n",
      "Cons:\n",
      "- Requires significant initial effort and investment in developing advanced spacecraft and logistics systems\n",
      "- Implementation difficulty may be high due to the need for establishing a network of resupply stations or depots\n",
      "- Potential challenges include the need for continuous maintenance and the risk of supply chain disruptions\n",
      "\n",
      "Probability of success: 75%\n",
      "Confidence level: Medium\n",
      "\n",
      "A:\u001b[0m\n",
      "\n",
      "\u001b[1m> Finished chain.\u001b[0m\n",
      "\n",
      "\n",
      "\u001b[1m> Entering new LLMChain chain...\u001b[0m\n",
      "Prompt after formatting:\n",
      "\u001b[32;1m\u001b[1;3m\n",
      "Step 4:\n",
      "\n",
      "Based on the evaluations and scenarios, rank the solutions in order of promise. Provide a justification for each ranking and offer any final thoughts or considerations for each solution\n",
      "Vertical Farming:\n",
      "Pros:\n",
      "- Provides a sustainable and efficient method of food production on Mars\n",
      "- Maximizes land utilization and minimizes water usage\n",
      "- Reduces the need for importing food from Earth\n",
      "\n",
      "Cons:\n",
      "- Requires significant initial effort and investment in developing vertical farming technologies and systems\n",
      "- Implementation difficulty may be high due to the need for controlled environments and specialized equipment\n",
      "- Potential challenges include the need for continuous monitoring and maintenance, as well as the limited variety of crops that can be grown\n",
      "\n",
      "Probability of success: 85%\n",
      "Confidence level: High\n",
      "\n",
      "Potential scenarios:\n",
      "- A colony on Mars successfully implements vertical farming, leading to a self-sufficient food production system that reduces the need for importing food from Earth.\n",
      "- Vertical farming technology on Mars faces initial challenges, but with continuous monitoring and improvements, it becomes a reliable and efficient method of food production.\n",
      "\n",
      "Strategies for implementation:\n",
      "- Conduct extensive research and development to adapt vertical farming techniques for the Martian environment.\n",
      "- Establish pilot projects to test and refine the technology before scaling up to larger farming operations.\n",
      "- Collaborate with experts in agriculture and hydroponics to optimize crop growth and resource utilization.\n",
      "\n",
      "Partnerships and resources:\n",
      "- Partner with agricultural research institutions and universities to leverage their expertise in vertical farming and crop cultivation.\n",
      "- Seek collaborations with companies specializing in hydroponics and indoor farming systems.\n",
      "- Secure funding from government agencies, private investors, and space exploration organizations to support research and development efforts.\n",
      "\n",
      "Potential obstacles and how to overcome them:\n",
      "- Limited variety of crops: Focus on growing high-yield and nutrient-rich crops that can meet the nutritional needs of the colonizers.\n",
      "- Controlled environment challenges: Develop robust monitoring and control systems to maintain optimal growing conditions and address any issues promptly.\n",
      "- Initial investment and effort: Secure funding and support from various stakeholders who recognize the long-term benefits of vertical farming for sustainable colonization on Mars.\n",
      "\n",
      "Potential unexpected outcomes and how to handle them:\n",
      "- Crop failures: Implement backup systems and redundancy measures to ensure a continuous food supply in case of crop failures.\n",
      "- Surplus food production: Explore options for food preservation and storage to prevent wastage and potentially export excess food to other colonies or Earth.\n",
      "\n",
      "A:\u001b[0m\n",
      "\n",
      "\u001b[1m> Finished chain.\u001b[0m\n",
      "\n",
      "\u001b[1m> Finished chain.\u001b[0m\n"
     ]
    }
   ],
   "source": [
    "from langchain.chains import SequentialChain\n",
    "\n",
    "overall_chain = SequentialChain(\n",
    "    chains=[chain1, chain2, chain3, chain4],\n",
    "    input_variables=[\"input\", \"perfect_factors\"],\n",
    "    output_variables=[\"ranked_solutions\"],\n",
    "    verbose=True\n",
    ")\n",
    "\n",
    "\n",
    "reuslt = overall_chain({\n",
    "        \"input\": \"human colonization of Mars\", \n",
    "        \"perfect_factors\": \"The distance between Earth and Mars is very large, making regular resupply difficult\"\n",
    "    })\n"
   ]
  },
  {
   "cell_type": "code",
   "execution_count": 8,
   "metadata": {},
   "outputs": [
    {
     "data": {
      "text/plain": [
       "dict_keys(['input', 'perfect_factors', 'ranked_solutions'])"
      ]
     },
     "execution_count": 8,
     "metadata": {},
     "output_type": "execute_result"
    }
   ],
   "source": [
    "reuslt.keys()"
   ]
  },
  {
   "cell_type": "code",
   "execution_count": 9,
   "metadata": {},
   "outputs": [
    {
     "name": "stdout",
     "output_type": "stream",
     "text": [
      "Rank: 1\n",
      "\n",
      "Justification: Vertical farming ranks first in terms of promise because it offers a sustainable and efficient method of food production on Mars. It maximizes land utilization and minimizes water usage, which are crucial factors in a resource-limited environment like Mars. Additionally, it reduces the need for importing food from Earth, making the colony more self-sufficient. The probability of success is high at 85%, and there is a high confidence level due to the extensive research and development already conducted in vertical farming on Earth.\n",
      "\n",
      "Final thoughts and considerations: While there are challenges in terms of initial investment and implementation difficulty, these can be overcome with the right partnerships, resources, and strategies. Continuous monitoring and maintenance will be necessary, but with advancements in technology, this can be managed effectively. The limited variety of crops can be addressed by focusing on high-yield and nutrient-rich crops. Overall, vertical farming offers a promising solution for sustainable food production on Mars.\n"
     ]
    }
   ],
   "source": [
    "print(reuslt['ranked_solutions'])"
   ]
  },
  {
   "cell_type": "code",
   "execution_count": 13,
   "metadata": {},
   "outputs": [
    {
     "ename": "TypeError",
     "evalue": "Can't instantiate abstract class ToTChecker with abstract method evaluate",
     "output_type": "error",
     "traceback": [
      "\u001b[0;31m---------------------------------------------------------------------------\u001b[0m",
      "\u001b[0;31mTypeError\u001b[0m                                 Traceback (most recent call last)",
      "Cell \u001b[0;32mIn[13], line 18\u001b[0m\n\u001b[1;32m     10\u001b[0m organization \u001b[39m=\u001b[39m os\u001b[39m.\u001b[39mgetenv(\u001b[39m\"\u001b[39m\u001b[39mOPEN_AI_ORG\u001b[39m\u001b[39m\"\u001b[39m)\n\u001b[1;32m     12\u001b[0m llm \u001b[39m=\u001b[39m ChatOpenAI(\n\u001b[1;32m     13\u001b[0m         temperature\u001b[39m=\u001b[39m\u001b[39m0\u001b[39m,\n\u001b[1;32m     14\u001b[0m         openai_api_key\u001b[39m=\u001b[39mapi_key,\n\u001b[1;32m     15\u001b[0m         openai_organization\u001b[39m=\u001b[39morganization,\n\u001b[1;32m     16\u001b[0m         )\n\u001b[0;32m---> 18\u001b[0m checker \u001b[39m=\u001b[39m ToTChecker(\n\u001b[1;32m     19\u001b[0m     inputs \u001b[39m=\u001b[39;49m [chain1, chain2, chain3, chain4],\n\u001b[1;32m     20\u001b[0m     verbose\u001b[39m=\u001b[39;49m\u001b[39mTrue\u001b[39;49;00m\n\u001b[1;32m     21\u001b[0m )\n",
      "\u001b[0;31mTypeError\u001b[0m: Can't instantiate abstract class ToTChecker with abstract method evaluate"
     ]
    }
   ],
   "source": [
    "from langchain_experimental.tot.base import ToTChain\n",
    "from langchain.memory import ConversationBufferWindowMemory\n",
    "from langchain_experimental.tot.checker import ToTChecker\n",
    "from langchain.chat_models import ChatOpenAI\n",
    "\n",
    "# import openai\n",
    "import os\n",
    "\n",
    "api_key = os.getenv(\"OPENAI_API_KEY\")\n",
    "organization = os.getenv(\"OPEN_AI_ORG\")\n",
    "\n",
    "llm = ChatOpenAI(\n",
    "        temperature=0,\n",
    "        openai_api_key=api_key,\n",
    "        openai_organization=organization,\n",
    "        )\n",
    "\n",
    "checker = ToTChecker(\n",
    "    inputs ={chain1, chain2, chain3, chain4},\n",
    "    verbose=True\n",
    ")"
   ]
  },
  {
   "cell_type": "code",
   "execution_count": 4,
   "metadata": {},
   "outputs": [
    {
     "name": "stdout",
     "output_type": "stream",
     "text": [
      "\u001b[0;31mInit signature:\u001b[0m\n",
      "\u001b[0mToTChecker\u001b[0m\u001b[0;34m(\u001b[0m\u001b[0;34m\u001b[0m\n",
      "\u001b[0;34m\u001b[0m    \u001b[0;34m*\u001b[0m\u001b[0;34m,\u001b[0m\u001b[0;34m\u001b[0m\n",
      "\u001b[0;34m\u001b[0m    \u001b[0mmemory\u001b[0m\u001b[0;34m:\u001b[0m \u001b[0mOptional\u001b[0m\u001b[0;34m[\u001b[0m\u001b[0mlangchain\u001b[0m\u001b[0;34m.\u001b[0m\u001b[0mschema\u001b[0m\u001b[0;34m.\u001b[0m\u001b[0mmemory\u001b[0m\u001b[0;34m.\u001b[0m\u001b[0mBaseMemory\u001b[0m\u001b[0;34m]\u001b[0m \u001b[0;34m=\u001b[0m \u001b[0;32mNone\u001b[0m\u001b[0;34m,\u001b[0m\u001b[0;34m\u001b[0m\n",
      "\u001b[0;34m\u001b[0m    \u001b[0mcallbacks\u001b[0m\u001b[0;34m:\u001b[0m \u001b[0mUnion\u001b[0m\u001b[0;34m[\u001b[0m\u001b[0mList\u001b[0m\u001b[0;34m[\u001b[0m\u001b[0mlangchain\u001b[0m\u001b[0;34m.\u001b[0m\u001b[0mcallbacks\u001b[0m\u001b[0;34m.\u001b[0m\u001b[0mbase\u001b[0m\u001b[0;34m.\u001b[0m\u001b[0mBaseCallbackHandler\u001b[0m\u001b[0;34m]\u001b[0m\u001b[0;34m,\u001b[0m \u001b[0mlangchain\u001b[0m\u001b[0;34m.\u001b[0m\u001b[0mcallbacks\u001b[0m\u001b[0;34m.\u001b[0m\u001b[0mbase\u001b[0m\u001b[0;34m.\u001b[0m\u001b[0mBaseCallbackManager\u001b[0m\u001b[0;34m,\u001b[0m \u001b[0mNoneType\u001b[0m\u001b[0;34m]\u001b[0m \u001b[0;34m=\u001b[0m \u001b[0;32mNone\u001b[0m\u001b[0;34m,\u001b[0m\u001b[0;34m\u001b[0m\n",
      "\u001b[0;34m\u001b[0m    \u001b[0mcallback_manager\u001b[0m\u001b[0;34m:\u001b[0m \u001b[0mOptional\u001b[0m\u001b[0;34m[\u001b[0m\u001b[0mlangchain\u001b[0m\u001b[0;34m.\u001b[0m\u001b[0mcallbacks\u001b[0m\u001b[0;34m.\u001b[0m\u001b[0mbase\u001b[0m\u001b[0;34m.\u001b[0m\u001b[0mBaseCallbackManager\u001b[0m\u001b[0;34m]\u001b[0m \u001b[0;34m=\u001b[0m \u001b[0;32mNone\u001b[0m\u001b[0;34m,\u001b[0m\u001b[0;34m\u001b[0m\n",
      "\u001b[0;34m\u001b[0m    \u001b[0mverbose\u001b[0m\u001b[0;34m:\u001b[0m \u001b[0mbool\u001b[0m \u001b[0;34m=\u001b[0m \u001b[0;32mNone\u001b[0m\u001b[0;34m,\u001b[0m\u001b[0;34m\u001b[0m\n",
      "\u001b[0;34m\u001b[0m    \u001b[0mtags\u001b[0m\u001b[0;34m:\u001b[0m \u001b[0mOptional\u001b[0m\u001b[0;34m[\u001b[0m\u001b[0mList\u001b[0m\u001b[0;34m[\u001b[0m\u001b[0mstr\u001b[0m\u001b[0;34m]\u001b[0m\u001b[0;34m]\u001b[0m \u001b[0;34m=\u001b[0m \u001b[0;32mNone\u001b[0m\u001b[0;34m,\u001b[0m\u001b[0;34m\u001b[0m\n",
      "\u001b[0;34m\u001b[0m    \u001b[0mmetadata\u001b[0m\u001b[0;34m:\u001b[0m \u001b[0mOptional\u001b[0m\u001b[0;34m[\u001b[0m\u001b[0mDict\u001b[0m\u001b[0;34m[\u001b[0m\u001b[0mstr\u001b[0m\u001b[0;34m,\u001b[0m \u001b[0mAny\u001b[0m\u001b[0;34m]\u001b[0m\u001b[0;34m]\u001b[0m \u001b[0;34m=\u001b[0m \u001b[0;32mNone\u001b[0m\u001b[0;34m,\u001b[0m\u001b[0;34m\u001b[0m\n",
      "\u001b[0;34m\u001b[0m    \u001b[0moutput_key\u001b[0m\u001b[0;34m:\u001b[0m \u001b[0mstr\u001b[0m \u001b[0;34m=\u001b[0m \u001b[0;34m'validity'\u001b[0m\u001b[0;34m,\u001b[0m\u001b[0;34m\u001b[0m\n",
      "\u001b[0;34m\u001b[0m\u001b[0;34m)\u001b[0m \u001b[0;34m->\u001b[0m \u001b[0;32mNone\u001b[0m\u001b[0;34m\u001b[0m\u001b[0;34m\u001b[0m\u001b[0m\n",
      "\u001b[0;31mDocstring:\u001b[0m     \n",
      "Tree of Thought (ToT) checker.\n",
      "\n",
      "This is an abstract ToT checker that must be implemented by the user. You\n",
      "can implement a simple rule-based checker or a more sophisticated\n",
      "neural network based classifier.\n",
      "\u001b[0;31mInit docstring:\u001b[0m\n",
      "Create a new model by parsing and validating input data from keyword arguments.\n",
      "\n",
      "Raises ValidationError if the input data cannot be parsed to form a valid model.\n",
      "\u001b[0;31mFile:\u001b[0m           /opt/homebrew/lib/python3.11/site-packages/langchain_experimental/tot/checker.py\n",
      "\u001b[0;31mType:\u001b[0m           ModelMetaclass\n",
      "\u001b[0;31mSubclasses:\u001b[0m     "
     ]
    }
   ],
   "source": [
    "from langchain_experimental.tot.checker import ToTChecker\n",
    "ToTChecker?"
   ]
  },
  {
   "cell_type": "code",
   "execution_count": null,
   "metadata": {},
   "outputs": [],
   "source": [
    "chain = ToTChain(\n",
    "    llm = llm,\n",
    "    memory = ConversationBufferWindowMemory(),\n",
    "    checker = checker,\n",
    "    verbose = True,\n",
    "    verbose_llm = True\n",
    ")\n",
    "\n",
    "chain.run()"
   ]
  },
  {
   "attachments": {},
   "cell_type": "markdown",
   "metadata": {},
   "source": [
    "# Reference \n",
    "https://medium.com/@astropomeai/implementing-the-tree-of-thoughts-in-langchains-chain-f2ebc5864fac\n",
    "https://github.com/mrspiggot/forestOfThoughts/blob/master/langchain_monoculture.py"
   ]
  },
  {
   "attachments": {},
   "cell_type": "markdown",
   "metadata": {},
   "source": []
  }
 ],
 "metadata": {
  "kernelspec": {
   "display_name": "Python 3",
   "language": "python",
   "name": "python3"
  },
  "language_info": {
   "codemirror_mode": {
    "name": "ipython",
    "version": 3
   },
   "file_extension": ".py",
   "mimetype": "text/x-python",
   "name": "python",
   "nbconvert_exporter": "python",
   "pygments_lexer": "ipython3",
   "version": "3.11.6"
  },
  "orig_nbformat": 4
 },
 "nbformat": 4,
 "nbformat_minor": 2
}
