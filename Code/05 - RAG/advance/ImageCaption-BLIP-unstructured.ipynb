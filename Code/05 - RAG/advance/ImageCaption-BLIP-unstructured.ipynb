{
 "cells": [
  {
   "attachments": {},
   "cell_type": "markdown",
   "id": "9584158a-8f4e-473d-ab19-745ce4f995b4",
   "metadata": {},
   "source": [
    "## Images\n",
    "\n",
    "This covers how to load images such as JPG or PNG into a document format that we can use downstream."
   ]
  },
  {
   "cell_type": "code",
   "execution_count": 1,
   "id": "4f5bd3d2-4dd8-4e49-9638-8daf879550b5",
   "metadata": {},
   "outputs": [
    {
     "name": "stderr",
     "output_type": "stream",
     "text": [
      "/usr/local/lib/python3.10/dist-packages/tqdm/auto.py:21: TqdmWarning: IProgress not found. Please update jupyter and ipywidgets. See https://ipywidgets.readthedocs.io/en/stable/user_install.html\n",
      "  from .autonotebook import tqdm as notebook_tqdm\n",
      "Downloading (…)l0.05_quantized.onnx: 100%|██████████| 54.6M/54.6M [00:04<00:00, 11.6MB/s]\n"
     ]
    },
    {
     "data": {
      "text/plain": [
       "Document(page_content=\"What are the meals that | can cook with these?\\n\\nWith the variety of food items stored in the refrigerator, you can prepare several meals. For example, you can create a fruit salad using the strawberries, blueberries, and carrots. Additionally, you can make a delicious smoothie using the fruits and vegetables, which would be a healthy and nutritious snack or breakfast option. The milk and eggs can be used to create various dishes, such as a milk-based smoothie, a baked casserole, or scrambled eggs. The juice can also be used to make a fresh fruit and juice mix or as a refreshing homemade popsicle. The possibilities are vast, and the meals you can create will depend on your preferences and dietary needs.\\n\\n| would like to do the fruit salad. Show me the recipe.\\n\\nCertainly! Here's a simple fruit salad recipe using the items in your refrigerator:\\n\\nIngredients:\\n\\n- 2 cups fresh strawberries, sliced\\n\\n- 1 cup fresh blueberries\\n\\n- 1 large carrot, grated\\n\\n- Juice of half a lemon\\n\\n- A handful of chopped fresh parsley or mint\\n\\n- A few ice cubes\\n\\n- Optional: honey or maple syrup (adjust to taste)\\n\\nInstructions:\\n\\nIna large bowl, combine the sliced strawberries, blueberries, and carrot. Gently toss them together to mix. Drizzle the juice of half a lemon over the fruit and vegetables to prevent them from oxidizing and add a refreshing citrus flavor. Sprinkle the chopped fresh parsley or mint over the fruit and gently toss once more. |f desired, add a drizzle of honey or maple syrup for a touch of sweetness. Adjust the amount according to your taste preferences. Cover the bowl and refrigerate the fruit salad for at least 30 minutes or up to a few hours. This allows the flavors to meld and creates more refreshing salad.\\n\\n1.\\n\\n2.\\n\\n3.\\n\\n4.\\n\\n5.\\n\\na\\n\\n6. Serve the fruit salad in cups or bowls, garnished with a sprinkle of fresh parsley or mint, if desired.\\n\\nThis fruit salad recipe is perfect for a healthy snack or side dish, and with the variety of ingredients available in your refrigerator, it should easy to put together quickly.\\n\\nbe\\n\\n©\", metadata={'source': './papers/figure-18-1.jpg'})"
      ]
     },
     "execution_count": 1,
     "metadata": {},
     "output_type": "execute_result"
    }
   ],
   "source": [
    "from langchain.document_loaders.image import UnstructuredImageLoader\n",
    "        \n",
    "loader = UnstructuredImageLoader(\"./papers/figure-18-1.jpg\")\n",
    "data = loader.load()\n",
    "data[0]"
   ]
  },
  {
   "cell_type": "code",
   "execution_count": 4,
   "id": "556fa83d-b690-428c-ab0c-cb2dbb894a02",
   "metadata": {},
   "outputs": [],
   "source": [
    "loader = UnstructuredImageLoader(\"./papers/figure-18-1.jpg\", mode=\"elements\")\n",
    "data = loader.load()"
   ]
  },
  {
   "cell_type": "code",
   "execution_count": 5,
   "id": "cdeb5e6d-a1fd-483d-a0c2-01c750d0326d",
   "metadata": {},
   "outputs": [
    {
     "data": {
      "text/plain": [
       "Document(page_content='What are the meals that | can cook with these?', metadata={'source': './papers/figure-18-1.jpg', 'coordinates': {'points': ((702.8848266601562, 187.0473175048828), (702.8848266601562, 204.4428253173828), (1024.319091796875, 204.4428253173828), (1024.319091796875, 187.0473175048828)), 'system': 'PixelSpace', 'layout_width': 1100, 'layout_height': 855}, 'filename': 'figure-18-1.jpg', 'file_directory': './papers', 'last_modified': '2023-11-07T09:20:57', 'filetype': 'JPEG', 'page_number': 1, 'detection_class_prob': 0.388230562210083, 'category': 'NarrativeText'})"
      ]
     },
     "execution_count": 5,
     "metadata": {},
     "output_type": "execute_result"
    }
   ],
   "source": [
    "data[0]"
   ]
  },
  {
   "cell_type": "code",
   "execution_count": 6,
   "id": "a39c63d0-e4d1-4aea-b37b-7736291688d6",
   "metadata": {},
   "outputs": [
    {
     "data": {
      "text/plain": [
       "Document(page_content='With the variety of food items stored in the refrigerator, you can prepare several meals. For example, you can create a fruit salad using the strawberries, blueberries, and carrots. Additionally, you can make a delicious smoothie using the fruits and vegetables, which would be a healthy and nutritious snack or breakfast option. The milk and eggs can be used to create various dishes, such as a milk-based smoothie, a baked casserole, or scrambled eggs. The juice can also be used to make a fresh fruit and juice mix or as a refreshing homemade popsicle. The possibilities are vast, and the meals you can create will depend on your preferences and dietary needs.', metadata={'source': './papers/figure-18-1.jpg', 'coordinates': {'points': ((88.8476333618164, 231.98199462890625), (88.8476333618164, 327.2592468261719), (1005.2608642578125, 327.2592468261719), (1005.2608642578125, 231.98199462890625)), 'system': 'PixelSpace', 'layout_width': 1100, 'layout_height': 855}, 'filename': 'figure-18-1.jpg', 'file_directory': './papers', 'last_modified': '2023-11-07T09:20:57', 'filetype': 'JPEG', 'page_number': 1, 'detection_class_prob': 0.9352942705154419, 'category': 'NarrativeText'})"
      ]
     },
     "execution_count": 6,
     "metadata": {},
     "output_type": "execute_result"
    }
   ],
   "source": [
    "data[1]"
   ]
  },
  {
   "cell_type": "code",
   "execution_count": 9,
   "id": "69558348-5561-40ce-8f8a-5967fc1f3eff",
   "metadata": {},
   "outputs": [],
   "source": [
    "import os\n",
    "folder_path = './papers/'\n",
    "list_image = []\n",
    "for filename in os.listdir(folder_path):\n",
    "    if filename.endswith('.jpg'):\n",
    "        list_image.append(folder_path + filename)\n",
    "        \n",
    "documents = []\n",
    "image_loaders = [UnstructuredImageLoader(image) for image in list_image]\n",
    "for loader in image_loaders:\n",
    "    documents.extend(loader.load())"
   ]
  },
  {
   "attachments": {},
   "cell_type": "markdown",
   "id": "2e185b90-2918-4bd8-b6c7-5553da86ae01",
   "metadata": {},
   "source": [
    "*Note UnstructuredImageLoader doesn't understand image without context*  "
   ]
  },
  {
   "attachments": {},
   "cell_type": "markdown",
   "id": "14f96dba-2392-4ba9-b098-411666c5ea9b",
   "metadata": {},
   "source": [
    "## Image captions\n",
    "\n",
    "By default, the loader utilizes the pre-trained [Salesforce BLIP image captioning model](https://huggingface.co/Salesforce/blip-image-captioning-base).\n",
    "\n",
    "This notebook shows how to use the ImageCaptionLoader to generate a query-able index of image captions"
   ]
  },
  {
   "cell_type": "code",
   "execution_count": 8,
   "id": "d8641b07-e860-49cf-a767-0e5251402687",
   "metadata": {},
   "outputs": [
    {
     "name": "stderr",
     "output_type": "stream",
     "text": [
      "Downloading (…)rocessor_config.json: 100%|██████████| 287/287 [00:00<00:00, 2.71MB/s]\n",
      "Downloading (…)okenizer_config.json: 100%|██████████| 506/506 [00:00<00:00, 3.24MB/s]\n",
      "Downloading (…)solve/main/vocab.txt: 100%|██████████| 232k/232k [00:00<00:00, 459kB/s]\n",
      "Downloading (…)/main/tokenizer.json: 100%|██████████| 711k/711k [00:01<00:00, 704kB/s]\n",
      "Downloading (…)cial_tokens_map.json: 100%|██████████| 125/125 [00:00<00:00, 1.37MB/s]\n",
      "Downloading (…)lve/main/config.json: 100%|██████████| 4.56k/4.56k [00:00<00:00, 44.9MB/s]\n",
      "Downloading pytorch_model.bin: 100%|██████████| 990M/990M [01:25<00:00, 11.6MB/s] \n",
      "/home/todsavadt/.local/lib/python3.10/site-packages/transformers/generation/utils.py:1260: UserWarning: Using the model-agnostic default `max_length` (=20) to control the generation length. We recommend setting `max_new_tokens` to control the maximum length of the generation.\n",
      "  warnings.warn(\n",
      "/home/todsavadt/.local/lib/python3.10/site-packages/transformers/generation/utils.py:1260: UserWarning: Using the model-agnostic default `max_length` (=20) to control the generation length. We recommend setting `max_new_tokens` to control the maximum length of the generation.\n",
      "  warnings.warn(\n"
     ]
    },
    {
     "data": {
      "text/plain": [
       "[Document(page_content='an image of a man riding a bike [SEP]', metadata={'image_path': './papers/figure-7-1.jpg'}),\n",
       " Document(page_content='an image of a boat and a text that reads what is the water? [SEP]', metadata={'image_path': './papers/figure-18-2.jpg'}),\n",
       " Document(page_content=\"an image of a woman's face with the words'you are not allowed'[SEP]\", metadata={'image_path': './papers/figure-19-2.jpg'}),\n",
       " Document(page_content='an image of a pan with chicken on it [SEP]', metadata={'image_path': './papers/figure-8-1.jpg'}),\n",
       " Document(page_content='an image of a parking garage with a lot of luggage [SEP]', metadata={'image_path': './papers/figure-3-1.jpg'}),\n",
       " Document(page_content=\"an image of a woman with a sword and a text that reads,'the princess is a\", metadata={'image_path': './papers/figure-19-1.jpg'}),\n",
       " Document(page_content='an image of a text description for a customer [SEP]', metadata={'image_path': './papers/figure-18-1.jpg'})]"
      ]
     },
     "execution_count": 8,
     "metadata": {},
     "output_type": "execute_result"
    }
   ],
   "source": [
    "from langchain.document_loaders import ImageCaptionLoader\n",
    "import os\n",
    "\n",
    "folder_path = './papers/'\n",
    "list_image = []\n",
    "for filename in os.listdir(folder_path):\n",
    "    if filename.endswith('.jpg'):\n",
    "        list_image.append(folder_path + filename)\n",
    "\n",
    "loader = ImageCaptionLoader(path_images=list_image)\n",
    "list_docs = loader.load()\n",
    "list_docs"
   ]
  },
  {
   "attachments": {},
   "cell_type": "markdown",
   "id": "6bce4f85-16d4-48f6-8601-6ee875a9d1c5",
   "metadata": {},
   "source": [
    "*Note ImageCaptionLoader provide only few explanation*  "
   ]
  }
 ],
 "metadata": {
  "kernelspec": {
   "display_name": "Python 3 (ipykernel)",
   "language": "python",
   "name": "python3"
  },
  "language_info": {
   "codemirror_mode": {
    "name": "ipython",
    "version": 3
   },
   "file_extension": ".py",
   "mimetype": "text/x-python",
   "name": "python",
   "nbconvert_exporter": "python",
   "pygments_lexer": "ipython3",
   "version": "3.10.6"
  }
 },
 "nbformat": 4,
 "nbformat_minor": 5
}
