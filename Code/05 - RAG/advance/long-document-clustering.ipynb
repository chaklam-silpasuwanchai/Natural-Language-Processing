{
 "cells": [
  {
   "attachments": {},
   "cell_type": "markdown",
   "metadata": {},
   "source": [
    "# Best Representation Vectors - Summarize an entire book\n",
    "In the above method we pass the entire document (all 9.5K tokens of it) to the LLM. But what if you have more tokens than that?\n",
    "\n",
    "What if you had a book you wanted to summarize? Let's load one up, we're going to load [Into Thin Air](https://www.amazon.com/Into-Thin-Air-Personal-Disaster/dp/0385494785) about the 1996 Everest Disaster"
   ]
  },
  {
   "cell_type": "code",
   "execution_count": 1,
   "metadata": {},
   "outputs": [
    {
     "data": {
      "text/plain": [
       "'0.0.350'"
      ]
     },
     "execution_count": 1,
     "metadata": {},
     "output_type": "execute_result"
    }
   ],
   "source": [
    "import langchain\n",
    "langchain.__version__"
   ]
  },
  {
   "cell_type": "code",
   "execution_count": 17,
   "metadata": {},
   "outputs": [],
   "source": [
    "from dotenv import load_dotenv\n",
    "import os\n",
    "\n",
    "load_dotenv()\n",
    "openai_api_key = os.getenv(\"OPENAI_API_KEY\")\n",
    "openai_organization = os.getenv(\"OPEN_AI_ORG\")\n",
    "\n",
    "from langchain_openai import OpenAI\n",
    "llm = OpenAI(\n",
    "    temperature=0, \n",
    "    openai_api_key=openai_api_key,\n",
    "    openai_organization = openai_organization\n",
    ")"
   ]
  },
  {
   "attachments": {},
   "cell_type": "markdown",
   "metadata": {},
   "source": [
    "I'm going to initialize two models, gpt-3.5 and gpt4. I'll use gpt 3.5 for the first set of summaries to reduce cost and then gpt4 for the final pass which should hopefully increase the quality."
   ]
  },
  {
   "cell_type": "code",
   "execution_count": 5,
   "metadata": {},
   "outputs": [],
   "source": [
    "# Loaders\n",
    "from langchain.schema import Document\n",
    "# Splitters\n",
    "from langchain.text_splitter import RecursiveCharacterTextSplitter\n",
    "# Model\n",
    "from langchain_openai import ChatOpenAI\n",
    "# Embedding Support\n",
    "from langchain.vectorstores import FAISS\n",
    "from langchain_openai.embeddings import OpenAIEmbeddings\n",
    "# Summarizer we'll use for Map Reduce\n",
    "from langchain.chains.summarize import load_summarize_chain\n",
    "# Data Science\n",
    "import numpy as np\n",
    "from sklearn.cluster import KMeans\n",
    "\n",
    "from langchain import PromptTemplate\n",
    "import os"
   ]
  },
  {
   "cell_type": "code",
   "execution_count": null,
   "metadata": {},
   "outputs": [],
   "source": [
    "from langchain.document_loaders import PyPDFLoader\n",
    "\n",
    "# Load the book\n",
    "loader = PyPDFLoader(\"./data/IntoThinAirBook.pdf\")\n",
    "pages = loader.load()"
   ]
  },
  {
   "cell_type": "code",
   "execution_count": 42,
   "metadata": {},
   "outputs": [
    {
     "data": {
      "text/plain": [
       "282"
      ]
     },
     "execution_count": 42,
     "metadata": {},
     "output_type": "execute_result"
    }
   ],
   "source": [
    "len(pages)"
   ]
  },
  {
   "cell_type": "code",
   "execution_count": 43,
   "metadata": {},
   "outputs": [],
   "source": [
    "# Cut out the open and closing parts\n",
    "pages = pages[26:277]\n",
    "\n",
    "# Combine the pages, and replace the tabs with spaces\n",
    "text = \"\"\n",
    "\n",
    "for page in pages:\n",
    "    text += page.page_content\n",
    "    \n",
    "text = text.replace('\\t', ' ')"
   ]
  },
  {
   "cell_type": "code",
   "execution_count": 44,
   "metadata": {},
   "outputs": [
    {
     "data": {
      "text/plain": [
       "251"
      ]
     },
     "execution_count": 44,
     "metadata": {},
     "output_type": "execute_result"
    }
   ],
   "source": [
    "len(pages)"
   ]
  },
  {
   "attachments": {},
   "cell_type": "markdown",
   "metadata": {},
   "source": [
    "Now our book is split up into 78 documents\n",
    "Let's get our embeddings of those 78 documents"
   ]
  },
  {
   "cell_type": "code",
   "execution_count": 10,
   "metadata": {},
   "outputs": [
    {
     "name": "stdout",
     "output_type": "stream",
     "text": [
      "This book has 131710 tokens in it\n"
     ]
    }
   ],
   "source": [
    "num_tokens = llm.get_num_tokens(text)\n",
    "print (f\"This book has {num_tokens} tokens in it\")"
   ]
  },
  {
   "attachments": {},
   "cell_type": "markdown",
   "metadata": {},
   "source": [
    "This book has 139472 tokens in it\n",
    "Wow, that's over 100K tokens, even [GPT 32K](https://help.openai.com/en/articles/7127966-what-is-the-difference-between-the-gpt-4-models) wouldn't be able to handle that in one go. At [0.03 per 1K prompt tokens](https://help.openai.com/en/articles/7127956-how-much-does-gpt-4-cost), this would cost us $4.17 just for the prompt alone.\n",
    "\n",
    "So how do we do this without going through all the tokens? Pick random chunks? Pick equally spaced chunks?\n",
    "\n",
    "I kicked off a [twitter thread](https://twitter.com/GregKamradt/status/1653060004226924544) with a proposed solution to see if I was off base. I'm calling it the Best Representation Vectors method (not sure if a name already exists for it).\n",
    "\n",
    "Goal: Chunk your book then get embeddings of the chunks. Pick a subset of chunks which represent a wholistic but diverse view of the book. Or another way, is there a way to pick the top 10 passages that describe the book the best?\n",
    "\n",
    "Once we have our chunks that represent the book then we can summarize those chunks and hopefully get a pretty good summary.\n",
    "\n",
    "Keep in mind there are tools that would likely do this for you, and with token limits increasing this won't be a problem for long. But if you want to do it from scratch this might help.\n",
    "\n",
    "This is most definitely not the optimal answer, but it's my take on it for now! If the [clustering](https://scikit-learn.org/stable/modules/clustering.html) experts wanna help improve it that would be awesome.\n",
    "\n",
    "**The BRV Steps:**\n",
    "\n",
    "1. Load your book into a single text file\n",
    "2. Split your text into large-ish chunks\n",
    "3. Embed your chunks to get vectors\n",
    "4. Cluster the vectors to see which are similar to each other and likely talk about the same parts of the book\n",
    "5. Pick embeddings that represent the cluster the most (method: closest to each cluster centroid)\n",
    "6. Summarize the documents that these embeddings represent\n",
    "7. Another way to phrase this process, \"Which ~10 documents from this book represent most of the meaning? I want to build a summary off those.\"\n",
    "\n",
    "Note: There will be a bit of information loss, but show me a summary of a whole book that doesn't have information loss ;)"
   ]
  },
  {
   "cell_type": "code",
   "execution_count": 7,
   "metadata": {},
   "outputs": [],
   "source": [
    "text_splitter = RecursiveCharacterTextSplitter(separators=[\"\\n\\n\", \"\\n\", \"\\t\"], chunk_size=10000, chunk_overlap=3000)\n",
    "docs = text_splitter.create_documents([text])"
   ]
  },
  {
   "cell_type": "code",
   "execution_count": 8,
   "metadata": {},
   "outputs": [
    {
     "name": "stdout",
     "output_type": "stream",
     "text": [
      "Now our book is split up into 78 documents\n"
     ]
    }
   ],
   "source": [
    "num_documents = len(docs)\n",
    "print (f\"Now our book is split up into {num_documents} documents\")"
   ]
  },
  {
   "cell_type": "code",
   "execution_count": 18,
   "metadata": {},
   "outputs": [],
   "source": [
    "embeddings = OpenAIEmbeddings(\n",
    "    openai_api_key=openai_api_key,\n",
    "    openai_organization = openai_organization\n",
    ")\n",
    "vectors = embeddings.embed_documents([x.page_content for x in docs])"
   ]
  },
  {
   "attachments": {},
   "cell_type": "markdown",
   "metadata": {},
   "source": [
    "Now let's cluster our embeddings. There are a ton of clustering algorithms you can chose from. Please try a few out to see what works best for you!"
   ]
  },
  {
   "cell_type": "code",
   "execution_count": 19,
   "metadata": {},
   "outputs": [
    {
     "name": "stderr",
     "output_type": "stream",
     "text": [
      "/opt/homebrew/lib/python3.11/site-packages/sklearn/cluster/_kmeans.py:870: FutureWarning: The default value of `n_init` will change from 10 to 'auto' in 1.4. Set the value of `n_init` explicitly to suppress the warning\n",
      "  warnings.warn(\n"
     ]
    }
   ],
   "source": [
    "# Assuming 'embeddings' is a list or array of 1536-dimensional embeddings\n",
    "\n",
    "# Choose the number of clusters, this can be adjusted based on the book's content.\n",
    "# I played around and found ~10 was the best.\n",
    "# Usually if you have 10 passages from a book you can tell what it's about\n",
    "num_clusters = 11\n",
    "\n",
    "# Perform K-means clustering\n",
    "kmeans = KMeans(n_clusters=num_clusters, random_state=42).fit(vectors)"
   ]
  },
  {
   "cell_type": "code",
   "execution_count": 20,
   "metadata": {},
   "outputs": [
    {
     "data": {
      "text/plain": [
       "array([ 0,  0,  0,  0,  0,  0,  1,  1,  0,  0,  0,  1,  8,  1,  1,  1,  1,\n",
       "        8,  8,  8,  8,  1,  1,  9,  8,  3,  3,  3,  9,  9,  1,  1,  1,  4,\n",
       "        3,  1,  4,  4,  4,  4,  4,  4,  2,  4,  4,  4,  5,  4,  5,  2,  5,\n",
       "        5,  5,  2,  2,  2,  2,  2,  2,  4,  5,  4,  4,  4,  1,  1,  1,  1,\n",
       "        1,  1, 10, 10, 10,  7,  7,  7,  6,  6], dtype=int32)"
      ]
     },
     "execution_count": 20,
     "metadata": {},
     "output_type": "execute_result"
    }
   ],
   "source": [
    "kmeans.labels_"
   ]
  },
  {
   "cell_type": "code",
   "execution_count": 25,
   "metadata": {},
   "outputs": [
    {
     "data": {
      "image/png": "[encoded data removed]",
      "text/plain": [
       "<Figure size 640x480 with 1 Axes>"
      ]
     },
     "metadata": {},
     "output_type": "display_data"
    }
   ],
   "source": [
    "from sklearn.manifold import TSNE\n",
    "import matplotlib.pyplot as plt\n",
    "\n",
    "# Taking out the warnings\n",
    "import warnings\n",
    "from warnings import simplefilter\n",
    "\n",
    "# Filter out FutureWarnings\n",
    "simplefilter(action='ignore', category=FutureWarning)\n",
    "\n",
    "# Perform t-SNE and reduce to 2 dimensions\n",
    "tsne = TSNE(n_components=2, random_state=42)\n",
    "reduced_data_tsne = tsne.fit_transform(np.array(vectors))\n",
    "\n",
    "# Plot the reduced data\n",
    "plt.scatter(reduced_data_tsne[:, 0], reduced_data_tsne[:, 1], c=kmeans.labels_)\n",
    "plt.xlabel('Dimension 1')\n",
    "plt.ylabel('Dimension 2')\n",
    "plt.title('Book Embeddings Clustered')\n",
    "plt.show()"
   ]
  },
  {
   "attachments": {},
   "cell_type": "markdown",
   "metadata": {},
   "source": [
    "Awesome, not perfect, but pretty good directionally. Now we need to get the vectors which are closest to the cluster centroids (the center).\n",
    "\n",
    "The function below is a quick way to do that (w/ help from ChatGPT)"
   ]
  },
  {
   "cell_type": "code",
   "execution_count": 26,
   "metadata": {},
   "outputs": [],
   "source": [
    "# Find the closest embeddings to the centroids\n",
    "\n",
    "# Create an empty list that will hold your closest points\n",
    "closest_indices = []\n",
    "\n",
    "# Loop through the number of clusters you have\n",
    "for i in range(num_clusters):\n",
    "    \n",
    "    # Get the list of distances from that particular cluster center\n",
    "    distances = np.linalg.norm(vectors - kmeans.cluster_centers_[i], axis=1)\n",
    "    \n",
    "    # Find the list position of the closest one (using argmin to find the smallest distance)\n",
    "    closest_index = np.argmin(distances)\n",
    "    \n",
    "    # Append that position to your closest indices list\n",
    "    closest_indices.append(closest_index)"
   ]
  },
  {
   "attachments": {},
   "cell_type": "markdown",
   "metadata": {},
   "source": [
    "Now sort them (so the chunks are processed in order)"
   ]
  },
  {
   "cell_type": "code",
   "execution_count": 27,
   "metadata": {},
   "outputs": [
    {
     "data": {
      "text/plain": [
       "[5, 12, 26, 28, 39, 51, 56, 65, 71, 74, 76]"
      ]
     },
     "execution_count": 27,
     "metadata": {},
     "output_type": "execute_result"
    }
   ],
   "source": [
    "selected_indices = sorted(closest_indices)\n",
    "selected_indices"
   ]
  },
  {
   "attachments": {},
   "cell_type": "markdown",
   "metadata": {},
   "source": [
    "It's intersting to see which chunks pop up at most descriptive. How does your distribution look?\n",
    "\n",
    "Let's create our custom prompts. I'm going to use gpt4 (which has a bigger token limit) for the combine step so I'm asking for long summaries in the map step to reduce the information loss."
   ]
  },
  {
   "cell_type": "code",
   "execution_count": 28,
   "metadata": {},
   "outputs": [],
   "source": [
    "llm3 = ChatOpenAI(\n",
    "    temperature=0,\n",
    "    openai_api_key=openai_api_key,\n",
    "    openai_organization = openai_organization,\n",
    "    max_tokens=1000,\n",
    "    model='gpt-3.5-turbo'\n",
    ")"
   ]
  },
  {
   "cell_type": "code",
   "execution_count": 29,
   "metadata": {},
   "outputs": [],
   "source": [
    "map_prompt = \"\"\"\n",
    "You will be given a single passage of a book. This section will be enclosed in triple backticks (```)\n",
    "Your goal is to give a summary of this section so that a reader will have a full understanding of what happened.\n",
    "Your response should be at least three paragraphs and fully encompass what was said in the passage.\n",
    "\n",
    "```{text}```\n",
    "FULL SUMMARY:\n",
    "\"\"\"\n",
    "map_prompt_template = PromptTemplate(template=map_prompt, input_variables=[\"text\"])"
   ]
  },
  {
   "attachments": {},
   "cell_type": "markdown",
   "metadata": {},
   "source": [
    "I kept getting a timeout errors so I'm actually going to do this map reduce manually"
   ]
  },
  {
   "cell_type": "code",
   "execution_count": 30,
   "metadata": {},
   "outputs": [],
   "source": [
    "map_chain = load_summarize_chain(\n",
    "    llm=llm3,\n",
    "    chain_type=\"stuff\",\n",
    "    prompt=map_prompt_template)"
   ]
  },
  {
   "attachments": {},
   "cell_type": "markdown",
   "metadata": {},
   "source": [
    "Then go get your docs which the top vectors represented."
   ]
  },
  {
   "cell_type": "code",
   "execution_count": 39,
   "metadata": {},
   "outputs": [
    {
     "data": {
      "text/plain": [
       "11"
      ]
     },
     "execution_count": 39,
     "metadata": {},
     "output_type": "execute_result"
    }
   ],
   "source": [
    "selected_docs = [docs[doc] for doc in selected_indices]\n",
    "len(selected_docs)"
   ]
  },
  {
   "attachments": {},
   "cell_type": "markdown",
   "metadata": {},
   "source": [
    "Let's loop through our selected docs and get a good summary for each chunk. We'll store the summary in a list."
   ]
  },
  {
   "cell_type": "code",
   "execution_count": 32,
   "metadata": {},
   "outputs": [
    {
     "name": "stdout",
     "output_type": "stream",
     "text": [
      "Summary #0 (chunk #5) - Preview: In this passage, the narrator reflects on his past climbing experiences and his current life situation. He recounts his previous challenging climbs, including scaling the Devils Thumb and Cerro Torre, but acknowledges that these were done when he was \n",
      "\n",
      "Summary #1 (chunk #12) - Preview: In this passage, the author describes the dangerous conditions and treacherous terrain of Mount Everest. They mention how the altitude is too high for safe evacuation by helicopter, so Tenzing, who had fallen into a crevasse, would have to be carried \n",
      "\n",
      "Summary #2 (chunk #26) - Preview: In this passage, the author recounts the events surrounding the illness and rescue of a Sherpa named Ngawang on Mount Everest. Ngawang had been feeling weak and short of breath for several days but ignored instructions to descend to Base Camp and ins \n",
      "\n",
      "Summary #3 (chunk #28) - Preview: This passage provides information about the use of the internet at Everest Base Camp during a climbing expedition. Multiple internet sites were posting updates from correspondents at the camp, including the South African team, Mal Duff's Internationa \n",
      "\n",
      "Summary #4 (chunk #39) - Preview: In this passage, the narrator is climbing Mount Everest and is trying to move to the head of the line. They are concerned about the danger of falling rocks and the difficulty of passing slower climbers. They are also adjusting to climbing with oxygen \n",
      "\n",
      "Summary #5 (chunk #51) - Preview: In this passage, the climbers find themselves in a dire situation at the lip of a 7,000-foot drop down the Kangshung Face. They are exhausted and running out of oxygen, making them vulnerable to the extreme cold. They huddle together for warmth and t \n",
      "\n",
      "Summary #6 (chunk #56) - Preview: In this passage, the storm on Everest continues to worsen, with thunder and lightning striking close to the climbers. Fischer and Lopsang encounter Makalu Gau and his Sherpas, but Gau is too weak to continue and is left behind. Lopsang stays with Fis \n",
      "\n",
      "Summary #7 (chunk #65) - Preview: In this passage, the narrator reflects on the aftermath of the tragic events on Mount Everest. They attend a memorial service for the climbers who died and feel guilty for having survived. They then leave Base Camp and are evacuated by helicopter alo \n",
      "\n",
      "Summary #8 (chunk #71) - Preview: In this passage, the author discusses the book \"The Climb\" by Anatoli Boukreev, which serves as a defense of his actions on Mount Everest during the 1996 disaster. The author explains that Boukreev strongly disagreed with how he was portrayed in the  \n",
      "\n",
      "Summary #9 (chunk #74) - Preview: This passage discusses the controversy surrounding Anatoli Boukreev's actions during the 1996 Mount Everest disaster. The author argues against claims made by Jon Krakauer and Tim DeWalt that Boukreev had a plan to descend from the summit ahead of hi \n",
      "\n",
      "Summary #10 (chunk #76) - Preview: This passage provides a glimpse into the life and career of Anatoli Boukreev, a Soviet mountaineer. Boukreev began his climbing career at a young age and eventually became a member of the elite national climbing team. However, with the breakup of the \n",
      "\n"
     ]
    }
   ],
   "source": [
    "# Make an empty list to hold your summaries\n",
    "summary_list = []\n",
    "\n",
    "# Loop through a range of the lenght of your selected docs\n",
    "for i, doc in enumerate(selected_docs):\n",
    "    \n",
    "    # Go get a summary of the chunk\n",
    "    chunk_summary = map_chain.run([doc])\n",
    "    \n",
    "    # Append that summary to your list\n",
    "    summary_list.append(chunk_summary)\n",
    "    \n",
    "    print (f\"Summary #{i} (chunk #{selected_indices[i]}) - Preview: {chunk_summary[:250]} \\n\")"
   ]
  },
  {
   "attachments": {},
   "cell_type": "markdown",
   "metadata": {},
   "source": [
    "Great, now that we have our list of summaries, let's get a summary of the summaries"
   ]
  },
  {
   "cell_type": "code",
   "execution_count": 33,
   "metadata": {},
   "outputs": [
    {
     "name": "stdout",
     "output_type": "stream",
     "text": [
      "Your total summary has 3706 tokens\n"
     ]
    }
   ],
   "source": [
    "summaries = \"\\n\".join(summary_list)\n",
    "\n",
    "# Convert it back to a document\n",
    "summaries = Document(page_content=summaries)\n",
    "\n",
    "print (f\"Your total summary has {llm.get_num_tokens(summaries.page_content)} tokens\")"
   ]
  },
  {
   "cell_type": "code",
   "execution_count": 34,
   "metadata": {},
   "outputs": [],
   "source": [
    "llm4 = ChatOpenAI(\n",
    "    temperature=0,\n",
    "    openai_api_key=openai_api_key,\n",
    "    openai_organization = openai_organization,\n",
    "    max_tokens=3000,\n",
    "    model='gpt-4',\n",
    "    request_timeout=120)"
   ]
  },
  {
   "cell_type": "code",
   "execution_count": 35,
   "metadata": {},
   "outputs": [],
   "source": [
    "combine_prompt = \"\"\"\n",
    "You will be given a series of summaries from a book. The summaries will be enclosed in triple backticks (```)\n",
    "Your goal is to give a verbose summary of what happened in the story.\n",
    "The reader should be able to grasp what happened in the book.\n",
    "\n",
    "```{text}```\n",
    "VERBOSE SUMMARY:\n",
    "\"\"\"\n",
    "combine_prompt_template = PromptTemplate(template=combine_prompt, input_variables=[\"text\"])"
   ]
  },
  {
   "cell_type": "code",
   "execution_count": 36,
   "metadata": {},
   "outputs": [],
   "source": [
    "reduce_chain = load_summarize_chain(\n",
    "    llm=llm4,\n",
    "    chain_type=\"stuff\",\n",
    "    prompt=combine_prompt_template,\n",
    "    verbose=True # Set this to true if you want to see the inner workings\n",
    ")"
   ]
  },
  {
   "cell_type": "code",
   "execution_count": 37,
   "metadata": {},
   "outputs": [
    {
     "name": "stdout",
     "output_type": "stream",
     "text": [
      "\n",
      "\n",
      "\u001b[1m> Entering new StuffDocumentsChain chain...\u001b[0m\n",
      "\n",
      "\n",
      "\u001b[1m> Entering new LLMChain chain...\u001b[0m\n",
      "Prompt after formatting:\n",
      "\u001b[32;1m\u001b[1;3m\n",
      "You will be given a series of summaries from a book. The summaries will be enclosed in triple backticks (```)\n",
      "Your goal is to give a verbose summary of what happened in the story.\n",
      "The reader should be able to grasp what happened in the book.\n",
      "\n",
      "```In this passage, the narrator reflects on his past climbing experiences and his current life situation. He recounts his previous challenging climbs, including scaling the Devils Thumb and Cerro Torre, but acknowledges that these were done when he was younger and in his prime. He is now married, has a stable career, and is content with his life. However, despite the risks and dangers associated with climbing Everest, the narrator's childhood dream of climbing the mountain resurfaces, and he eagerly accepts an invitation to join Rob Hall's expedition.\n",
      "\n",
      "The passage then transitions to the narrator's journey to Kathmandu, where he catches a glimpse of the Himalayas from the airplane. He is in awe of the mountains, particularly Everest, and feels a sense of trepidation about his decision to climb to its summit. Upon arrival, he meets Andy Harris, one of Hall's guides, and they discuss their climbing experiences. The narrator also meets Lou Kasischke, another client on the expedition. They are all staying at the Garuda Hotel, a popular choice for climbers, and the walls are adorned with photographs of famous alpinists. The narrator is introduced to Rob Hall, the expedition leader, who is described as tall, skinny, and with a charismatic personality.\n",
      "\n",
      "Overall, this passage sets the stage for the narrator's upcoming climb of Everest. It highlights his personal history as a climber, his current life circumstances, and his decision to embark on this dangerous and challenging adventure. The introduction of the other members of the expedition and the description of the hotel and its climbing history further immerse the reader in the world of mountaineering.\n",
      "In this passage, the author describes the dangerous conditions and treacherous terrain of Mount Everest. They mention how the altitude is too high for safe evacuation by helicopter, so Tenzing, who had fallen into a crevasse, would have to be carried down to Base Camp. The author also highlights the importance of the Sherpas and the need to show them gratitude and respect. They mention a previous incident where a Sherpa died due to lack of proper training and emphasize the responsibility of expedition leaders to prevent such accidents.\n",
      "\n",
      "The passage then transitions to the author's own experience at Lobuje, a village near Everest. They describe the unclean surroundings and how some members of their group fell ill. The author and their companion, Andy, decide to move into a tent outside the lodge to escape the smoke-filled environment. However, Andy becomes violently ill during the night and is unable to continue the journey. Despite his weakness and dehydration, Andy insists on continuing to Base Camp with the rest of the group.\n",
      "\n",
      "The group sets off in the morning, with the author and Helen staying behind to support Andy. They describe the challenging terrain of the Khumbu Glacier and the beauty of the ice pinnacles in Phantom Alley. Finally, they reach Base Camp, where they find a large number of tents housing climbers and Sherpas from various expeditions.\n",
      "\n",
      "Overall, this passage provides insight into the dangerous conditions and challenges faced by climbers on Mount Everest, as well as the importance of the Sherpas in ensuring their safety. It also highlights the determination and resilience of the climbers, as seen in Andy's refusal to give up despite his illness.\n",
      "In this passage, the author recounts the events surrounding the illness and rescue of a Sherpa named Ngawang on Mount Everest. Ngawang had been feeling weak and short of breath for several days but ignored instructions to descend to Base Camp and instead went up to Camp Two. By the time he arrived at the tents, Ngawang was delirious and coughing up blood, indicating a severe case of High Altitude Pulmonary Edema (HAPE). Four of Scott Fischer's clients were present at Camp Two but no guides, so the responsibility for rescuing Ngawang fell to Kev Schoening and Tim Madsen. They dragged Ngawang down the mountain, with guide Neal Beidleman taking over the rescue near the top of the Icefall. Ngawang's condition continued to worsen, and he was eventually brought back to Base Camp.\n",
      "\n",
      "At Base Camp, Ngawang's condition did not improve, and it was decided that he needed to be evacuated. However, the cloudy sky ruled out a helicopter flight, so a team of Sherpas was assembled to take Ngawang down the valley on foot. Initially, Ngima Kale Sherpa, Fischer's Base Camp sirdar, believed that Ngawang was suffering from a stomachache rather than HAPE and opposed the evacuation. Eventually, two Sherpas were allowed to help escort Ngawang, but his condition deteriorated further, and he refused treatment. The situation grew more critical, and the doctors at Base Camp realized that they were ill-equipped to handle the situation.\n",
      "\n",
      "Ingrid Hunt, the team physician and Base Camp manager, had accepted the job without prior experience in high-altitude medicine. She struggled to manage the medical needs of the team and faced difficulties acclimatizing herself. The evacuation of Ngawang was aborted, and he returned to Base Camp, where his condition worsened. Dr. Jim Litch, an expert in high-altitude medicine, was urgently called to assist in Ngawang's treatment. He arrived and found Ngawang in a tent without oxygen, and he was shocked by the lack of care. The passage ends with Ngawang's condition still critical and the doctors realizing the severity of the situation.\n",
      "This passage provides information about the use of the internet at Everest Base Camp during a climbing expedition. Multiple internet sites were posting updates from correspondents at the camp, including the South African team, Mal Duff's International Commercial Expedition, and the Nova PBS television show. Scott Fischer's expedition had two correspondents, one of whom was Sandy Hill Pittman, a millionaire socialite and climber. Pittman was attempting to climb Everest for the third time and generate publicity for her quest to climb the Seven Summits. The passage also provides background information about Pittman's personal life and previous attempts on Everest.\n",
      "\n",
      "Pittman's previous attempts on Everest in 1993 and 1994 are described, as well as her extravagant and unique approach to climbing. She brought gourmet food, a portable television, and other luxury items on her expeditions. Despite some criticism from other climbers, Pittman was generally well-liked by her teammates and known for her energetic and upbeat personality. The passage also mentions her use of the internet to document her climb and her extensive collection of electronic equipment and personal items.\n",
      "\n",
      "Overall, this passage highlights the use of the internet at Everest Base Camp and provides background information on Sandy Hill Pittman and her previous attempts on Everest. It also gives insight into Pittman's unique approach to climbing and her desire for publicity.\n",
      "In this passage, the narrator is climbing Mount Everest and is trying to move to the head of the line. They are concerned about the danger of falling rocks and the difficulty of passing slower climbers. They are also adjusting to climbing with oxygen for the first time. Eventually, they make their way to the front of the line and continue climbing, enjoying the solitude and the view. They reach the South Col, a plateau between Lhotse and Everest, and set up camp. The weather worsens, and they are joined by a member of the South African team who is in trouble. The narrator's teammate, Doug, is also struggling but determined to reach the summit. Despite the challenging conditions, the wind suddenly stops, and their guide, Hall, announces that they will begin their summit climb. The narrator and their team prepare for the climb, ignoring their physical ailments, and set off into the darkness.\n",
      "\n",
      "In this section, the narrator faces various challenges while climbing Mount Everest. They have to navigate falling rocks and pass slower climbers, all while being aware of the dangers of being unclipped from the rope. They also struggle with adjusting to climbing with oxygen. However, they eventually make their way to the front of the line and find solitude and a remarkable view. They reach the South Col and set up camp, but the weather worsens, and they are joined by a member of the South African team who is in distress. Despite the difficult conditions, the wind suddenly stops, and their guide announces that they will begin their summit climb.\n",
      "\n",
      "The passage also highlights the individualistic nature of the climbers. Although they are part of a team, each person is primarily focused on their own goal of reaching the summit. The narrator acknowledges that they hope their teammate, Doug, will succeed, but they are also determined to continue climbing even if Doug turns back. The passage ends with the team preparing for their summit climb, despite their physical ailments and the challenging conditions.\n",
      "In this passage, the climbers find themselves in a dire situation at the lip of a 7,000-foot drop down the Kangshung Face. They are exhausted and running out of oxygen, making them vulnerable to the extreme cold. They huddle together for warmth and try to keep moving their arms and legs to stay warm. One of the climbers, Sandy, becomes hysterical and expresses her fear of dying. Meanwhile, the author is shivering uncontrollably in his tent, unable to respond to his tent-mate's request for help.\n",
      "\n",
      "Stuart Hutchison, the author's tent-mate, goes out into the storm multiple times to look for the missing climbers but is unable to venture far due to the fierce winds and cold. Eventually, the storm starts to clear, and Klev Schoening believes he knows the way back to the tents. The guide, Beidleman, tries to get everyone to their feet and follow Schoening, but some climbers are too weak to walk. Beidleman and a few others decide to go for help, leaving behind the incapacitated climbers with Tim Madsen.\n",
      "\n",
      "Beidleman's group manages to make it back to camp and informs Anatoli Boukreev of the situation. Boukreev had descended ahead of his clients and was already at Camp Four. He had tried to bring oxygen to the missing climbers but was unable to find them in the storm. Boukreev returns to camp and sits down, exhausted and concerned about his missing teammates. Eventually, Beidleman, Groom, Schoening, and Gammelgaard arrive at camp and inform Boukreev of the general location of the missing climbers.\n",
      "In this passage, the storm on Everest continues to worsen, with thunder and lightning striking close to the climbers. Fischer and Lopsang encounter Makalu Gau and his Sherpas, but Gau is too weak to continue and is left behind. Lopsang stays with Fischer for a while, but eventually Fischer tells him to go down and send help. Lopsang descends through the storm and reaches safety, while Fischer and Gau are left on a ledge.\n",
      "\n",
      "Meanwhile, Guy Cotter, a friend of Hall and Harris, is monitoring Hall's radio transmissions from Base Camp. Hall calls for help, as Doug is out of oxygen and unable to move. Cotter urges Hall to descend, but Hall refuses to leave Hansen behind. Hours later, Hall is still struggling on the Hillary Step, and his transmissions become confused and irrational. He mentions that Hansen is no longer with him, and it is later discovered that Hansen's body is missing.\n",
      "\n",
      "The fate of Harris is also unknown, but it is confirmed that he was with Hall at the South Summit. Hall continues to struggle, but eventually manages to de-ice his oxygen mask and starts breathing supplemental oxygen. Despite several false starts, Hall finally begins his descent.\n",
      "In this passage, the narrator reflects on the aftermath of the tragic events on Mount Everest. They attend a memorial service for the climbers who died and feel guilty for having survived. They then leave Base Camp and are evacuated by helicopter along with other climbers who suffered frostbite. In Kathmandu, they are confronted by reporters and officials who want to know what happened on the mountain. The narrator struggles with guilt and shame, and their relationships with loved ones are strained. They eventually return home to Seattle, where they try to come to terms with the tragedy and their role in it. The narrator also reflects on the dangers of climbing and the hubris that may have contributed to the disaster.\n",
      "In this passage, the author discusses the book \"The Climb\" by Anatoli Boukreev, which serves as a defense of his actions on Mount Everest during the 1996 disaster. The author explains that Boukreev strongly disagreed with how he was portrayed in the author's book, \"Into Thin Air,\" and dedicated a significant portion of \"The Climb\" to challenging the accuracy of the author's account and questioning his integrity as a journalist. The author also mentions that Boukreev's spokesman, DeWalt, actively criticized \"Into Thin Air\" and cited an article that raised doubts about its accuracy.\n",
      "\n",
      "The author goes on to explain that he initially chose not to publicly rebut DeWalt's charges but instead documented the errors in a series of letters to DeWalt and his editors. However, when a paperback edition of \"The Climb\" was released with most of the errors uncorrected, the author decided to speak out and defend the accuracy and integrity of \"Into Thin Air.\" The author broke his silence by talking to a reporter from Salon and publishing a rebuttal in an addendum to the illustrated edition of \"Into Thin Air.\"\n",
      "\n",
      "Furthermore, the author criticizes DeWalt's research and reporting methods in \"The Climb.\" The author points out that DeWalt failed to interview other survivors of the disaster, such as Michael Groom and Neal Beidleman, as well as Lopsang Jangbu, Scott Fischer's head climbing Sherpa, who played a pivotal role in the tragedy. The author suggests that DeWalt's lack of prior knowledge of mountaineering and his failure to fact-check important details resulted in numerous errors in \"The Climb.\" The author also accuses DeWalt of deliberate distortions of the truth to discredit his reporting in \"Into Thin Air.\"\n",
      "\n",
      "Overall, this passage highlights the ongoing dispute between the author and Boukreev, as well as their differing accounts of the 1996 Mount Everest disaster. The author defends the accuracy of his book and criticizes the errors and distortions in Boukreev's book, \"The Climb.\"\n",
      "This passage discusses the controversy surrounding Anatoli Boukreev's actions during the 1996 Mount Everest disaster. The author argues against claims made by Jon Krakauer and Tim DeWalt that Boukreev had a plan to descend from the summit ahead of his clients. The author asserts that Boukreev's decision to guide without supplemental oxygen likely led to his subsequent decision to leave his clients on the summit ridge and descend quickly. The passage also emphasizes the importance of bottled oxygen in warding off the effects of cold at high altitudes.\n",
      "\n",
      "The author highlights the consensus among high-altitude guides and experts that it is risky for a guide to lead clients on Everest without using bottled oxygen. The author mentions that Peter Hackett, a renowned authority on high-altitude medicine, unequivocally stated that it was dangerous and ill-advised to guide Everest without oxygen. However, DeWalt deliberately omitted this opinion in his book and continued to argue that not using bottled oxygen made Boukreev a more capable guide.\n",
      "\n",
      "The passage also addresses the misrepresentation of endorsements by respected mountaineers. The author reveals that Reinhold Messner, one of the most accomplished mountaineers, stated that Boukreev was wrong to descend ahead of his clients and that no one should guide Everest without using bottled oxygen. The author also mentions that David Breashears, another respected mountaineer, criticized DeWalt's portrayal of Sandy Hill Pittman and expressed disagreement with DeWalt's claims about climbing without oxygen.\n",
      "\n",
      "Overall, the passage provides a counterargument to the claims made by Krakauer and DeWalt, emphasizing the importance of using bottled oxygen and questioning the credibility of their assertions.\n",
      "This passage provides a glimpse into the life and career of Anatoli Boukreev, a Soviet mountaineer. Boukreev began his climbing career at a young age and eventually became a member of the elite national climbing team. However, with the breakup of the Soviet Union, Boukreev's status and privileges vanished, and he had to adapt to the new world of private enterprise. He took on various jobs as a guide and occasionally resorted to common labor to make ends meet. Despite not enjoying guiding, Boukreev continued to take novice climbers to high peaks.\n",
      "\n",
      "The passage then describes Boukreev's expedition to Mount Everest with a team of Indonesian Army officers. None of the Indonesians had any prior mountaineering experience, but Boukreev employed two highly accomplished Russian mountaineers and a Sherpa to assist him. The team relied on bottled oxygen for the summit assault, including Boukreev himself. They encountered difficulties on the way up, and Boukreev compelled two of the Indonesians to turn around, even though one of them was close to the top. The team made it down safely, but Boukreev's friend Vladimir Bashkirov died during a separate climb.\n",
      "\n",
      "Despite the loss of his friend, Boukreev continued to pursue his passion for climbing. He made solo ascents of Broad Peak and Gasherbrum II, bringing his total number of 8,000-meter peaks ascended to eleven out of fourteen. Boukreev then sought advice from Reinhold Messner, a legendary Italian alpinist, who advised him to focus on steeper and more difficult routes to be considered among the world's great mountaineers. Boukreev took this advice to heart and decided to attempt Annapurna I via a notoriously difficult route on the mountain's south face in winter.\n",
      "\n",
      "Boukreev and his team faced challenges due to early winter storms and frequent avalanches. They had to abandon their original plan and attempt a different route. The new route involved ascending a formidable satellite peak called the Fang. Despite the extreme difficulties, Boukreev and his team embarked on the climb on Christmas Day.```\n",
      "VERBOSE SUMMARY:\n",
      "\u001b[0m\n",
      "\n",
      "\u001b[1m> Finished chain.\u001b[0m\n",
      "\n",
      "\u001b[1m> Finished chain.\u001b[0m\n"
     ]
    }
   ],
   "source": [
    "output = reduce_chain.run([summaries])"
   ]
  },
  {
   "cell_type": "code",
   "execution_count": 40,
   "metadata": {},
   "outputs": [
    {
     "name": "stdout",
     "output_type": "stream",
     "text": [
      "The story begins with the narrator reflecting on his past climbing experiences and his current life situation. He recalls his previous challenging climbs, including scaling the Devils Thumb and Cerro Torre, but acknowledges that these were done when he was younger and in his prime. Now, he is married, has a stable career, and is content with his life. However, his childhood dream of climbing Everest resurfaces, and he eagerly accepts an invitation to join Rob Hall's expedition. The narrator then travels to Kathmandu, where he catches a glimpse of the Himalayas from the airplane. He is in awe of the mountains, particularly Everest, and feels a sense of trepidation about his decision to climb to its summit. Upon arrival, he meets Andy Harris, one of Hall's guides, and they discuss their climbing experiences. The narrator also meets Lou Kasischke, another client on the expedition. They are all staying at the Garuda Hotel, a popular choice for climbers, and the walls are adorned with photographs of famous alpinists. The narrator is introduced to Rob Hall, the expedition leader, who is described as tall, skinny, and with a charismatic personality.\n",
      "\n",
      "The story then transitions to the author's own experience at Lobuje, a village near Everest. They describe the unclean surroundings and how some members of their group fell ill. The author and their companion, Andy, decide to move into a tent outside the lodge to escape the smoke-filled environment. However, Andy becomes violently ill during the night and is unable to continue the journey. Despite his weakness and dehydration, Andy insists on continuing to Base Camp with the rest of the group. The group sets off in the morning, with the author and Helen staying behind to support Andy. They describe the challenging terrain of the Khumbu Glacier and the beauty of the ice pinnacles in Phantom Alley. Finally, they reach Base Camp, where they find a large number of tents housing climbers and Sherpas from various expeditions.\n",
      "\n",
      "The story then recounts the events surrounding the illness and rescue of a Sherpa named Ngawang on Mount Everest. Ngawang had been feeling weak and short of breath for several days but ignored instructions to descend to Base Camp and instead went up to Camp Two. By the time he arrived at the tents, Ngawang was delirious and coughing up blood, indicating a severe case of High Altitude Pulmonary Edema (HAPE). Four of Scott Fischer's clients were present at Camp Two but no guides, so the responsibility for rescuing Ngawang fell to Kev Schoening and Tim Madsen. They dragged Ngawang down the mountain, with guide Neal Beidleman taking over the rescue near the top of the Icefall. Ngawang's condition continued to worsen, and he was eventually brought back to Base Camp.\n",
      "\n",
      "At Base Camp, Ngawang's condition did not improve, and it was decided that he needed to be evacuated. However, the cloudy sky ruled out a helicopter flight, so a team of Sherpas was assembled to take Ngawang down the valley on foot. Initially, Ngima Kale Sherpa, Fischer's Base Camp sirdar, believed that Ngawang was suffering from a stomachache rather than HAPE and opposed the evacuation. Eventually, two Sherpas were allowed to help escort Ngawang, but his condition deteriorated further, and he refused treatment. The situation grew more critical, and the doctors at Base Camp realized that they were ill-equipped to handle the situation.\n",
      "\n",
      "Ingrid Hunt, the team physician and Base Camp manager, had accepted the job without prior experience in high-altitude medicine. She struggled to manage the medical needs of the team and faced difficulties acclimatizing herself. The evacuation of Ngawang was aborted, and he returned to Base Camp, where his condition worsened. Dr. Jim Litch, an expert in high-altitude medicine, was urgently called to assist in Ngawang's treatment. He arrived and found Ngawang in a tent without oxygen, and he was shocked by the lack of care. The passage ends with Ngawang's condition still critical and the doctors realizing the severity of the situation.\n",
      "\n",
      "The story then provides information about the use of the internet at Everest Base Camp during a climbing expedition. Multiple internet sites were posting updates from correspondents at the camp, including the South African team, Mal Duff's International Commercial Expedition, and the Nova PBS television show. Scott Fischer's expedition had two correspondents, one of whom was Sandy Hill Pittman, a millionaire socialite and climber. Pittman was attempting to climb Everest for the third time and generate publicity for her quest to climb the Seven Summits. The passage also provides background information about Pittman's personal life and previous attempts on Everest.\n",
      "\n",
      "Pittman's previous attempts on Everest in 1993 and 1994 are described, as well as her extravagant and unique approach to climbing. She brought gourmet food, a portable television, and other luxury items on her expeditions. Despite some criticism from other climbers, Pittman was generally well-liked by her teammates and known for her energetic and upbeat personality. The passage also mentions her use of the internet to document her climb and her extensive collection of electronic equipment and personal items.\n",
      "\n",
      "The story then transitions to the narrator's climb of Mount Everest. They are concerned about the danger of falling rocks and the difficulty of passing slower climbers. They are also adjusting to climbing with oxygen for the first time. Eventually, they make their way to the front of the line and continue climbing, enjoying the solitude and the view. They reach the South Col, a plateau between Lhotse and Everest, and set up camp. The weather worsens, and they are joined by a member of the South African team who is in trouble. The narrator's teammate, Doug, is also struggling but determined to reach the summit. Despite the challenging conditions, the wind suddenly stops, and their guide, Hall, announces that they will begin their summit climb. The narrator and their team prepare for the climb, ignoring their physical ailments, and set off into the darkness.\n",
      "\n",
      "The story then shifts to a dire situation at the lip of a 7,000-foot drop down the Kangshung Face. The climbers are exhausted and running out of oxygen, making them vulnerable to the extreme cold. They huddle together for warmth and try to keep moving their arms and legs to stay warm. One of the climbers, Sandy, becomes hysterical and expresses her fear of dying. Meanwhile, the author is shivering uncontrollably in his tent, unable to respond to his tent-mate's request for help.\n",
      "\n",
      "Stuart Hutchison, the author's tent-mate, goes out into the storm multiple times to look for the missing climbers but is unable to venture far due to the fierce winds and cold. Eventually, the storm starts to clear, and Klev Schoening believes he knows the way back to the tents. The guide, Beidleman, tries to get everyone to their feet and follow Schoening, but some climbers are too weak to walk. Beidleman and a few others decide to go for help, leaving behind the incapacitated climbers with Tim Madsen.\n",
      "\n",
      "Beidleman's group manages to make it back to camp and informs Anatoli Boukreev of the situation. Boukreev had descended ahead of his clients and was already at Camp Four. He had tried to bring oxygen to the missing climbers but was unable to find them in the storm. Boukreev returns to camp and sits down, exhausted and concerned about his missing teammates. Eventually, Beidleman, Groom, Schoening, and Gammelgaard arrive at camp and inform Boukreev of the general location of the missing climbers.\n",
      "\n",
      "The story then transitions to the storm on Everest continuing to worsen, with thunder and lightning striking close to the climbers. Fischer and Lopsang encounter Makalu Gau and his Sherpas, but Gau is too weak to continue and is left behind. Lopsang stays with Fischer for a while, but eventually Fischer tells him to go down and send help. Lopsang descends through the storm and reaches safety, while Fischer and Gau are left on a ledge.\n",
      "\n",
      "Meanwhile, Guy Cotter, a friend of Hall and Harris, is monitoring Hall's radio transmissions from Base Camp. Hall calls for help, as Doug is out of oxygen and unable to move. Cotter urges Hall to descend, but Hall refuses to leave Hansen behind. Hours later, Hall is still struggling on the Hillary Step, and his transmissions become confused and irrational. He mentions that Hansen is no longer with him, and it is later discovered that Hansen's body is missing.\n",
      "\n",
      "The fate of Harris is also unknown, but it is confirmed that he was with Hall at the South Summit. Hall continues to struggle, but eventually manages to de-ice his oxygen mask and starts breathing supplemental oxygen. Despite several false starts, Hall finally begins his descent.\n",
      "\n",
      "The story then shifts to the narrator reflecting on the aftermath of the tragic events on Mount Everest. They attend a memorial service for the climbers who died and feel guilty for having survived. They then leave Base Camp and are evacuated by helicopter along with other climbers who suffered frostbite. In Kathmandu, they are confronted by reporters and officials who want to know what happened on the mountain. The narrator struggles with guilt and shame, and their relationships with loved ones are strained. They eventually return home to Seattle, where they try to come to terms with the tragedy and their role in it. The narrator also reflects on the dangers of climbing and the hubris that may have contributed to the disaster.\n",
      "\n",
      "The story then discusses the book \"The Climb\" by Anatoli Boukreev, which serves as a defense of his actions on Mount Everest during the 1996 disaster. The author explains that Boukreev strongly disagreed with how he was portrayed in the author's book, \"Into Thin Air,\" and dedicated a significant portion of \"The Climb\" to challenging the accuracy of the author's account and questioning his integrity as a journalist. The author also mentions that Boukreev's spokesman, DeWalt, actively criticized \"Into Thin Air\" and cited an article that raised doubts about its accuracy.\n",
      "\n",
      "The author goes on to explain that he initially chose not to publicly rebut DeWalt's charges but instead documented the errors in a series of letters to DeWalt and his editors. However, when a paperback edition of \"The Climb\" was released with most of the errors uncorrected, the author decided to speak out and defend the accuracy and integrity of \"Into Thin Air.\" The author broke his silence by talking to a reporter from Salon and publishing a rebuttal in an addendum to the illustrated edition of \"Into Thin Air.\"\n",
      "\n",
      "Furthermore, the author criticizes DeWalt's research and reporting methods in \"The Climb.\" The author points out that DeWalt failed to interview other survivors of the disaster, such as Michael Groom and Neal Beidleman, as well as Lopsang Jangbu, Scott Fischer's head climbing Sherpa, who played a pivotal role in the tragedy. The author suggests that DeWalt's lack of prior knowledge of mountaineering and his failure to fact-check important details resulted in numerous errors in \"The Climb.\" The author also accuses DeWalt of deliberate distortions of the truth to discredit his reporting in \"Into Thin Air.\"\n",
      "\n",
      "The story then discusses the controversy surrounding Anatoli Boukreev's actions during the 1996 Mount Everest disaster. The author argues against claims made by Jon Krakauer and Tim DeWalt that Boukreev had a plan to descend from the summit ahead of his clients. The author asserts that Boukreev's decision to guide without supplemental oxygen likely led to his subsequent decision to leave his clients on the summit ridge and descend quickly. The passage also emphasizes the importance of bottled oxygen in warding off the effects of cold at high altitudes.\n",
      "\n",
      "The author highlights the consensus among high-altitude guides and experts that it is risky for a guide to lead clients on Everest without using bottled oxygen. The author mentions that Peter Hackett, a renowned authority on high-altitude medicine, unequivocally stated that it was dangerous and ill-advised to guide Everest without oxygen. However, DeWalt deliberately omitted this opinion in his book and continued to argue that not using bottled oxygen made Boukreev a more capable guide.\n",
      "\n",
      "The passage also addresses the misrepresentation of endorsements by respected mountaineers. The author reveals that Reinhold Messner, one of the most accomplished mountaineers, stated that Boukreev was wrong to descend ahead of his clients and that no one should guide Everest without using bottled oxygen. The author also mentions that David Breashears, another respected mountaineer, criticized DeWalt's portrayal of Sandy Hill Pittman and expressed disagreement with DeWalt's claims about climbing without oxygen.\n",
      "\n",
      "The story then provides a glimpse into the life and career of Anatoli Boukreev, a Soviet mountaineer. Boukreev began his climbing career at a young age and eventually became a member of the elite national climbing team. However, with the breakup of the Soviet Union, Boukreev's status and privileges vanished, and he had to adapt to the new world of private enterprise. He took on various jobs as a guide and occasionally resorted to common labor to make ends meet. Despite not enjoying guiding, Boukreev continued to take novice climbers to high peaks.\n",
      "\n",
      "The story then describes Boukreev's expedition to Mount Everest with a team of Indonesian Army officers. None of the Indonesians had any prior mountaineering experience, but Boukreev employed two highly accomplished Russian mountaineers and a Sherpa to assist him. The team relied on bottled oxygen for the summit assault, including Boukreev himself. They encountered difficulties on the way up, and Boukreev compelled two of the Indonesians to turn around, even though one of them was close to the top. The team made it down safely, but Boukreev's friend Vladimir Bashkirov died during a separate climb.\n",
      "\n",
      "Despite the loss of his friend, Boukreev continued to pursue his passion for climbing. He made solo ascents of Broad Peak and Gasherbrum II, bringing his total number of 8,000-meter peaks ascended to eleven out of fourteen. Boukreev then sought advice from Reinhold Messner, a legendary Italian alpinist, who advised him to focus on steeper and more difficult routes to be considered among the world's great mountaineers. Boukreev took this advice to heart and decided to attempt\n"
     ]
    }
   ],
   "source": [
    "print(output)"
   ]
  },
  {
   "cell_type": "code",
   "execution_count": null,
   "metadata": {},
   "outputs": [],
   "source": []
  }
 ],
 "metadata": {
  "kernelspec": {
   "display_name": "Python 3",
   "language": "python",
   "name": "python3"
  },
  "language_info": {
   "codemirror_mode": {
    "name": "ipython",
    "version": 3
   },
   "file_extension": ".py",
   "mimetype": "text/x-python",
   "name": "python",
   "nbconvert_exporter": "python",
   "pygments_lexer": "ipython3",
   "version": "3.11.6"
  },
  "orig_nbformat": 4
 },
 "nbformat": 4,
 "nbformat_minor": 2
}
