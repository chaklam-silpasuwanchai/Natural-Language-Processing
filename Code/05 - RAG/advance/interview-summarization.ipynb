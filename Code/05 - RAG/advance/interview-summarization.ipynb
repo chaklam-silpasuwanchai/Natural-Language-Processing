{
  "cells": [
    {
      "attachments": {},
      "cell_type": "markdown",
      "metadata": {
        "id": "wW6FD6FsT5Qf"
      },
      "source": [
        "# Interview Summarization"
      ]
    },
    {
      "attachments": {},
      "cell_type": "markdown",
      "metadata": {
        "id": "HqwsGJDhvAQ5"
      },
      "source": [
        "### Setting up Summarization Chain"
      ]
    },
    {
      "cell_type": "code",
      "execution_count": 1,
      "metadata": {
        "id": "lgesD0jrvDyG"
      },
      "outputs": [],
      "source": [
        "from langchain import OpenAI, PromptTemplate, LLMChain\n",
        "from langchain.text_splitter import CharacterTextSplitter\n",
        "from langchain.chains.mapreduce import MapReduceChain\n",
        "from langchain.prompts import PromptTemplate\n",
        "\n",
        "from langchain.memory import ConversationSummaryMemory, ChatMessageHistory\n",
        "from langchain.llms import OpenAI\n",
        "from dotenv import load_dotenv\n",
        "import os\n",
        "# Load environment variables from the .env file\n",
        "load_dotenv()\n",
        "\n",
        "api_key = os.getenv(\"OPEN_AI_KEY\")\n",
        "organization = os.getenv(\"OPEN_AI_ORG\")\n",
        "# elevenlabs_key = os.getenv(\"ELEVENLABS_KEY\")\n",
        "\n",
        "llm = OpenAI(\n",
        "    temperature=0,\n",
        "    openai_api_key=api_key,\n",
        "    openai_organization=organization,\n",
        ")"
      ]
    },
    {
      "attachments": {},
      "cell_type": "markdown",
      "metadata": {},
      "source": [
        "### Mockup Dialogues"
      ]
    },
    {
      "cell_type": "code",
      "execution_count": 3,
      "metadata": {},
      "outputs": [],
      "source": [
        "dialogues = [\n",
        "    { \"input\": \"Tell me about your background and experience.\", \n",
        "     \"output\": \"I have a degree in computer science and have been working in the tech industry for the past 7 years. My experience includes developing software solutions for various clients and industries, with a focus on web and mobile applications.\" },\n",
        "    { \"input\": \"What motivated you to pursue a career in your field?\", \n",
        "     \"output\": \"I've always been fascinated by technology and its ability to solve real-world problems. This passion led me to pursue a career in computer science, where I could apply my skills to create innovative solutions and contribute to the ever-evolving tech landscape.\" },\n",
        "    { \"input\": \"Can you share a challenging project you've worked on and how you overcame obstacles?\", \"output\": \"One challenging project involved tight deadlines and complex requirements. I organized a cross-functional team, established clear communication channels, and implemented an agile development approach. This allowed us to adapt quickly to changes and deliver a successful project within the given constraints.\" },\n",
        "    { \"input\": \"How do you stay updated with the latest industry trends and technologies?\", \n",
        "     \"output\": \"I am an avid reader of tech blogs, attend industry conferences, and participate in online forums. Additionally, I allocate time for continuous learning through online courses and certifications to stay abreast of the latest trends, ensuring that my skills are always up-to-date.\" },\n",
        "    { \"input\": \"What programming languages and tools are you most proficient in?\", \n",
        "     \"output\": \"I am proficient in several programming languages, including Python, JavaScript, and Java. I have extensive experience with popular frameworks such as React and Django. Additionally, I am well-versed in using version control systems like Git and have a strong foundation in cloud computing platforms like AWS.\" },\n",
        "    { \"input\": \"Describe your approach to problem-solving and decision-making.\", \n",
        "     \"output\": \"I believe in a systematic approach to problem-solving. I start by thoroughly understanding the problem, breaking it down into manageable components, and then devising a step-by-step plan. I also value input from team members and stakeholders, fostering a collaborative decision-making process that takes diverse perspectives into account.\" },\n",
        "    { \"input\": \"How do you handle tight deadlines and high-pressure situations?\", \n",
        "     \"output\": \"In high-pressure situations, I prioritize tasks, set realistic goals, and communicate transparently with the team. I believe in maintaining a positive attitude and motivating the team to work efficiently. By staying organized and focused, I ensure that we meet deadlines without compromising the quality of our work.\" },\n",
        "    { \"input\": \"Tell me about a time when you had to adapt to a significant change in a project.\", \n",
        "     \"output\": \"During a project, the client's requirements underwent a major shift. I promptly held a team meeting to discuss the changes, reassessed our project plan, and adjusted our strategy accordingly. This flexibility allowed us to accommodate the client's needs while still meeting our project objectives.\" },\n",
        "    { \"input\": \"How do you prioritize tasks and manage your time effectively?\", \n",
        "     \"output\": \"I prioritize tasks based on urgency and importance, utilizing tools like project management software and to-do lists. I set realistic deadlines, allocate time for each task, and regularly reassess priorities. This approach ensures that I can manage my time effectively and consistently meet project milestones.\" },\n",
        "    { \"input\": \"What role do communication and collaboration play in your work?\", \n",
        "     \"output\": \"Communication and collaboration are integral to my work. I maintain open lines of communication with team members, clients, and stakeholders. Regular team meetings, status updates, and clear documentation help ensure that everyone is on the same page, fostering a collaborative and efficient working environment.\" },\n",
        "    { \"input\": \"How do you handle feedback, and how do you incorporate it into your work?\", \n",
        "     \"output\": \"I see feedback as an opportunity for growth. I actively seek constructive feedback from team members and stakeholders, using it to identify areas for improvement. I take a proactive approach to address feedback, refining my work and incorporating valuable insights to enhance the overall quality of the project.\" },\n",
        "    { \"input\": \"Tell me about a successful team collaboration experience.\", \n",
        "     \"output\": \"In a previous project, effective team collaboration played a crucial role in its success. We had diverse skills and perspectives within the team, and by fostering open communication and mutual respect, we were able to capitalize on each team member's strengths. This collaborative effort resulted in a high-quality deliverable that exceeded the client's expectations.\" },\n",
        "    { \"input\": \"What do you consider your greatest professional achievement?\", \n",
        "     \"output\": \"My greatest professional achievement was leading a team in the successful development and launch of a complex e-commerce platform. This project required overcoming technical challenges, coordinating with various stakeholders, and ensuring a seamless user experience. The positive feedback from both the client and end-users was immensely rewarding.\" },\n",
        "    { \"input\": \"How do you contribute to creating a positive work culture?\", \n",
        "     \"output\": \"I believe in fostering a positive work culture through open communication, recognition of achievements, and a supportive team environment. I actively encourage collaboration, celebrate team successes, and provide constructive feedback. By promoting a positive work culture, I aim to create a motivating and enjoyable workplace for everyone on the team.\" },\n",
        "    { \"input\": \"What are your professional development goals for the next 12 months?\", \n",
        "     \"output\": \"In the next 12 months, I aim to deepen my expertise in machine learning and artificial intelligence. I plan to enroll in advanced courses, attend relevant conferences, and undertake hands-on projects to apply my learning. Additionally, I aspire to take on a leadership role within my team, contributing to both technical and strategic aspects of our projects.\" },\n",
        "    { \"input\": \"How do you handle disagreements or conflicts within a team?\", \n",
        "     \"output\": \"I approach conflicts within a team by first seeking to understand the perspectives of all parties involved. I encourage open and honest communication to identify the root causes of the disagreement. By fostering a collaborative environment and finding common ground, I work towards resolving conflicts amicably and maintaining a positive team dynamic.\" },\n",
        "    { \"input\": \"What do you enjoy most about your current role?\", \n",
        "     \"output\": \"I thoroughly enjoy the dynamic nature of my current role. The opportunity to work on diverse projects, tackle new challenges, and collaborate with talented individuals keeps me motivated. The continuous learning and growth within the ever-evolving tech industry make my work both fulfilling and exciting.\" },\n",
        "    { \"input\": \"How do you stay motivated and inspired in your work?\", \n",
        "     \"output\": \"I stay motivated by setting personal and professional goals, staying curious, and celebrating small achievements. I find inspiration in the potential impact of technology on society and the opportunity to contribute to meaningful projects. Additionally, I surround myself with a supportive network of colleagues and mentors, which helps fuel my enthusiasm for continuous learning and improvement.\" },\n",
        "    { \"input\": \"Where do you see yourself professionally in the next five years?\", \n",
        "     \"output\": \"In the next five years, I envision myself in a leadership role, leading innovative projects and contributing to the strategic direction of the organization. I aspire to continue growing as a technical expert while also mentoring and inspiring others within the team. Ultimately, I aim to make a significant impact on both the projects I lead and the professional development of those around me.\" },\n",
        "    { \"input\": \"Do you have any questions for us or anything else you'd like to share?\", \n",
        "     \"output\": \"Yes, I have a couple of questions. Firstly, I'm interested in learning more about the team dynamics and how collaboration is fostered within the company. Additionally, could you provide insights into the company's approach to professional development and growth opportunities for employees?\" },\n",
        "    { \"input\": \"Thank you for sharing your experiences with us. We'll be in touch soon.\", \n",
        "     \"output\": \"Thank you for the opportunity to discuss my background and experiences. I look forward to the possibility of contributing to the team. If you have any further questions or need additional information, please feel free to reach out. I appreciate your time and consideration.\" }\n",
        "]"
      ]
    },
    {
      "cell_type": "code",
      "execution_count": 4,
      "metadata": {},
      "outputs": [],
      "source": [
        "def generate_interview_content(dialogues):\n",
        "    formatted_content = \"\"\n",
        "    for pair in dialogues:\n",
        "        formatted_content += f'interview input: {pair[\"input\"]}\\n'\n",
        "        formatted_content += f'candidate output: {pair[\"output\"]}\\n\\n'\n",
        "\n",
        "    return formatted_content\n",
        "\n",
        "# Example usage:\n",
        "interview_text = generate_interview_content(dialogues)\n",
        "\n",
        "# Save to a file\n",
        "with open(\"interview_conversation.txt\", \"w\") as file:\n",
        "    interview_text_file = file.write(interview_text)"
      ]
    },
    {
      "attachments": {},
      "cell_type": "markdown",
      "metadata": {},
      "source": [
        "### Splitter & Chunking"
      ]
    },
    {
      "cell_type": "code",
      "execution_count": 5,
      "metadata": {
        "id": "sCfCSX9sOv2A"
      },
      "outputs": [
        {
          "data": {
            "text/plain": [
              "[\"interview input: Tell me about your background and experience.\\ncandidate output: I have a degree in computer science and have been working in the tech industry for the past 7 years. My experience includes developing software solutions for various clients and industries, with a focus on web and mobile applications.\\n\\ninterview input: What motivated you to pursue a career in your field?\\ncandidate output: I've always been fascinated by technology and its ability to solve real-world problems. This passion led me to pursue a career in computer science, where I could apply my skills to create innovative solutions and contribute to the ever-evolving tech landscape.\\n\\ninterview input: Can you share a challenging project you've worked on and how you overcame obstacles?\\ncandidate output: One challenging project involved tight deadlines and complex requirements. I organized a cross-functional team, established clear communication channels, and implemented an agile development approach. This allowed us to adapt quickly to changes and deliver a successful project within the given constraints.\\n\\ninterview input: How do you stay updated with the latest industry trends and technologies?\\ncandidate output: I am an avid reader of tech blogs, attend industry conferences, and participate in online forums. Additionally, I allocate time for continuous learning through online courses and certifications to stay abreast of the latest trends, ensuring that my skills are always up-to-date.\\n\\ninterview input: What programming languages and tools are you most proficient in?\\ncandidate output: I am proficient in several programming languages, including Python, JavaScript, and Java. I have extensive experience with popular frameworks such as React and Django. Additionally, I am well-versed in using version control systems like Git and have a strong foundation in cloud computing platforms like AWS.\\n\\ninterview input: Describe your approach to problem-solving and decision-making.\\ncandidate output: I believe in a systematic approach to problem-solving. I start by thoroughly understanding the problem, breaking it down into manageable components, and then devising a step-by-step plan. I also value input from team members and stakeholders, fostering a collaborative decision-making process that takes diverse perspectives into account.\\n\\ninterview input: How do you handle tight deadlines and high-pressure situations?\\ncandidate output: In high-pressure situations, I prioritize tasks, set realistic goals, and communicate transparently with the team. I believe in maintaining a positive attitude and motivating the team to work efficiently. By staying organized and focused, I ensure that we meet deadlines without compromising the quality of our work.\\n\\ninterview input: Tell me about a time when you had to adapt to a significant change in a project.\\ncandidate output: During a project, the client's requirements underwent a major shift. I promptly held a team meeting to discuss the changes, reassessed our project plan, and adjusted our strategy accordingly. This flexibility allowed us to accommodate the client's needs while still meeting our project objectives.\\n\\ninterview input: How do you prioritize tasks and manage your time effectively?\\ncandidate output: I prioritize tasks based on urgency and importance, utilizing tools like project management software and to-do lists. I set realistic deadlines, allocate time for each task, and regularly reassess priorities. This approach ensures that I can manage my time effectively and consistently meet project milestones.\\n\\ninterview input: What role do communication and collaboration play in your work?\\ncandidate output: Communication and collaboration are integral to my work. I maintain open lines of communication with team members, clients, and stakeholders. Regular team meetings, status updates, and clear documentation help ensure that everyone is on the same page, fostering a collaborative and efficient working environment.\",\n",
              " \"interview input: How do you handle feedback, and how do you incorporate it into your work?\\ncandidate output: I see feedback as an opportunity for growth. I actively seek constructive feedback from team members and stakeholders, using it to identify areas for improvement. I take a proactive approach to address feedback, refining my work and incorporating valuable insights to enhance the overall quality of the project.\\n\\ninterview input: Tell me about a successful team collaboration experience.\\ncandidate output: In a previous project, effective team collaboration played a crucial role in its success. We had diverse skills and perspectives within the team, and by fostering open communication and mutual respect, we were able to capitalize on each team member's strengths. This collaborative effort resulted in a high-quality deliverable that exceeded the client's expectations.\\n\\ninterview input: What do you consider your greatest professional achievement?\\ncandidate output: My greatest professional achievement was leading a team in the successful development and launch of a complex e-commerce platform. This project required overcoming technical challenges, coordinating with various stakeholders, and ensuring a seamless user experience. The positive feedback from both the client and end-users was immensely rewarding.\\n\\ninterview input: How do you contribute to creating a positive work culture?\\ncandidate output: I believe in fostering a positive work culture through open communication, recognition of achievements, and a supportive team environment. I actively encourage collaboration, celebrate team successes, and provide constructive feedback. By promoting a positive work culture, I aim to create a motivating and enjoyable workplace for everyone on the team.\\n\\ninterview input: What are your professional development goals for the next 12 months?\\ncandidate output: In the next 12 months, I aim to deepen my expertise in machine learning and artificial intelligence. I plan to enroll in advanced courses, attend relevant conferences, and undertake hands-on projects to apply my learning. Additionally, I aspire to take on a leadership role within my team, contributing to both technical and strategic aspects of our projects.\\n\\ninterview input: How do you handle disagreements or conflicts within a team?\\ncandidate output: I approach conflicts within a team by first seeking to understand the perspectives of all parties involved. I encourage open and honest communication to identify the root causes of the disagreement. By fostering a collaborative environment and finding common ground, I work towards resolving conflicts amicably and maintaining a positive team dynamic.\\n\\ninterview input: What do you enjoy most about your current role?\\ncandidate output: I thoroughly enjoy the dynamic nature of my current role. The opportunity to work on diverse projects, tackle new challenges, and collaborate with talented individuals keeps me motivated. The continuous learning and growth within the ever-evolving tech industry make my work both fulfilling and exciting.\\n\\ninterview input: How do you stay motivated and inspired in your work?\\ncandidate output: I stay motivated by setting personal and professional goals, staying curious, and celebrating small achievements. I find inspiration in the potential impact of technology on society and the opportunity to contribute to meaningful projects. Additionally, I surround myself with a supportive network of colleagues and mentors, which helps fuel my enthusiasm for continuous learning and improvement.\",\n",
              " \"interview input: Where do you see yourself professionally in the next five years?\\ncandidate output: In the next five years, I envision myself in a leadership role, leading innovative projects and contributing to the strategic direction of the organization. I aspire to continue growing as a technical expert while also mentoring and inspiring others within the team. Ultimately, I aim to make a significant impact on both the projects I lead and the professional development of those around me.\\n\\ninterview input: Do you have any questions for us or anything else you'd like to share?\\ncandidate output: Yes, I have a couple of questions. Firstly, I'm interested in learning more about the team dynamics and how collaboration is fostered within the company. Additionally, could you provide insights into the company's approach to professional development and growth opportunities for employees?\\n\\ninterview input: Thank you for sharing your experiences with us. We'll be in touch soon.\\ncandidate output: Thank you for the opportunity to discuss my background and experiences. I look forward to the possibility of contributing to the team. If you have any further questions or need additional information, please feel free to reach out. I appreciate your time and consideration.\"]"
            ]
          },
          "execution_count": 5,
          "metadata": {},
          "output_type": "execute_result"
        }
      ],
      "source": [
        "# load the doc\n",
        "with open(\"interview_conversation.txt\", \"r\") as file:\n",
        "    interview_text_file = file.read()\n",
        "\n",
        "text_splitter = CharacterTextSplitter()\n",
        "\n",
        "texts = text_splitter.split_text(interview_text_file)\n",
        "texts"
      ]
    },
    {
      "cell_type": "code",
      "execution_count": 6,
      "metadata": {
        "colab": {
          "base_uri": "https://localhost:8080/"
        },
        "id": "k6KdLobvkLje",
        "outputId": "046af023-0ed4-406f-bfac-ca2fef9b86c3"
      },
      "outputs": [
        {
          "data": {
            "text/plain": [
              "3"
            ]
          },
          "execution_count": 6,
          "metadata": {},
          "output_type": "execute_result"
        }
      ],
      "source": [
        "len(texts)"
      ]
    },
    {
      "cell_type": "code",
      "execution_count": 7,
      "metadata": {
        "id": "8L6ztJUJO2j8"
      },
      "outputs": [],
      "source": [
        "from langchain.docstore.document import Document\n",
        "\n",
        "docs = [Document(page_content=t) for t in texts[:4]]"
      ]
    },
    {
      "cell_type": "code",
      "execution_count": 8,
      "metadata": {
        "colab": {
          "base_uri": "https://localhost:8080/"
        },
        "id": "WlSA_nIxdrSU",
        "outputId": "d99b2de5-e591-4b6e-b6ac-d550bf1ef2c6"
      },
      "outputs": [
        {
          "data": {
            "text/plain": [
              "[Document(page_content=\"interview input: Tell me about your background and experience.\\ncandidate output: I have a degree in computer science and have been working in the tech industry for the past 7 years. My experience includes developing software solutions for various clients and industries, with a focus on web and mobile applications.\\n\\ninterview input: What motivated you to pursue a career in your field?\\ncandidate output: I've always been fascinated by technology and its ability to solve real-world problems. This passion led me to pursue a career in computer science, where I could apply my skills to create innovative solutions and contribute to the ever-evolving tech landscape.\\n\\ninterview input: Can you share a challenging project you've worked on and how you overcame obstacles?\\ncandidate output: One challenging project involved tight deadlines and complex requirements. I organized a cross-functional team, established clear communication channels, and implemented an agile development approach. This allowed us to adapt quickly to changes and deliver a successful project within the given constraints.\\n\\ninterview input: How do you stay updated with the latest industry trends and technologies?\\ncandidate output: I am an avid reader of tech blogs, attend industry conferences, and participate in online forums. Additionally, I allocate time for continuous learning through online courses and certifications to stay abreast of the latest trends, ensuring that my skills are always up-to-date.\\n\\ninterview input: What programming languages and tools are you most proficient in?\\ncandidate output: I am proficient in several programming languages, including Python, JavaScript, and Java. I have extensive experience with popular frameworks such as React and Django. Additionally, I am well-versed in using version control systems like Git and have a strong foundation in cloud computing platforms like AWS.\\n\\ninterview input: Describe your approach to problem-solving and decision-making.\\ncandidate output: I believe in a systematic approach to problem-solving. I start by thoroughly understanding the problem, breaking it down into manageable components, and then devising a step-by-step plan. I also value input from team members and stakeholders, fostering a collaborative decision-making process that takes diverse perspectives into account.\\n\\ninterview input: How do you handle tight deadlines and high-pressure situations?\\ncandidate output: In high-pressure situations, I prioritize tasks, set realistic goals, and communicate transparently with the team. I believe in maintaining a positive attitude and motivating the team to work efficiently. By staying organized and focused, I ensure that we meet deadlines without compromising the quality of our work.\\n\\ninterview input: Tell me about a time when you had to adapt to a significant change in a project.\\ncandidate output: During a project, the client's requirements underwent a major shift. I promptly held a team meeting to discuss the changes, reassessed our project plan, and adjusted our strategy accordingly. This flexibility allowed us to accommodate the client's needs while still meeting our project objectives.\\n\\ninterview input: How do you prioritize tasks and manage your time effectively?\\ncandidate output: I prioritize tasks based on urgency and importance, utilizing tools like project management software and to-do lists. I set realistic deadlines, allocate time for each task, and regularly reassess priorities. This approach ensures that I can manage my time effectively and consistently meet project milestones.\\n\\ninterview input: What role do communication and collaboration play in your work?\\ncandidate output: Communication and collaboration are integral to my work. I maintain open lines of communication with team members, clients, and stakeholders. Regular team meetings, status updates, and clear documentation help ensure that everyone is on the same page, fostering a collaborative and efficient working environment.\"),\n",
              " Document(page_content=\"interview input: How do you handle feedback, and how do you incorporate it into your work?\\ncandidate output: I see feedback as an opportunity for growth. I actively seek constructive feedback from team members and stakeholders, using it to identify areas for improvement. I take a proactive approach to address feedback, refining my work and incorporating valuable insights to enhance the overall quality of the project.\\n\\ninterview input: Tell me about a successful team collaboration experience.\\ncandidate output: In a previous project, effective team collaboration played a crucial role in its success. We had diverse skills and perspectives within the team, and by fostering open communication and mutual respect, we were able to capitalize on each team member's strengths. This collaborative effort resulted in a high-quality deliverable that exceeded the client's expectations.\\n\\ninterview input: What do you consider your greatest professional achievement?\\ncandidate output: My greatest professional achievement was leading a team in the successful development and launch of a complex e-commerce platform. This project required overcoming technical challenges, coordinating with various stakeholders, and ensuring a seamless user experience. The positive feedback from both the client and end-users was immensely rewarding.\\n\\ninterview input: How do you contribute to creating a positive work culture?\\ncandidate output: I believe in fostering a positive work culture through open communication, recognition of achievements, and a supportive team environment. I actively encourage collaboration, celebrate team successes, and provide constructive feedback. By promoting a positive work culture, I aim to create a motivating and enjoyable workplace for everyone on the team.\\n\\ninterview input: What are your professional development goals for the next 12 months?\\ncandidate output: In the next 12 months, I aim to deepen my expertise in machine learning and artificial intelligence. I plan to enroll in advanced courses, attend relevant conferences, and undertake hands-on projects to apply my learning. Additionally, I aspire to take on a leadership role within my team, contributing to both technical and strategic aspects of our projects.\\n\\ninterview input: How do you handle disagreements or conflicts within a team?\\ncandidate output: I approach conflicts within a team by first seeking to understand the perspectives of all parties involved. I encourage open and honest communication to identify the root causes of the disagreement. By fostering a collaborative environment and finding common ground, I work towards resolving conflicts amicably and maintaining a positive team dynamic.\\n\\ninterview input: What do you enjoy most about your current role?\\ncandidate output: I thoroughly enjoy the dynamic nature of my current role. The opportunity to work on diverse projects, tackle new challenges, and collaborate with talented individuals keeps me motivated. The continuous learning and growth within the ever-evolving tech industry make my work both fulfilling and exciting.\\n\\ninterview input: How do you stay motivated and inspired in your work?\\ncandidate output: I stay motivated by setting personal and professional goals, staying curious, and celebrating small achievements. I find inspiration in the potential impact of technology on society and the opportunity to contribute to meaningful projects. Additionally, I surround myself with a supportive network of colleagues and mentors, which helps fuel my enthusiasm for continuous learning and improvement.\"),\n",
              " Document(page_content=\"interview input: Where do you see yourself professionally in the next five years?\\ncandidate output: In the next five years, I envision myself in a leadership role, leading innovative projects and contributing to the strategic direction of the organization. I aspire to continue growing as a technical expert while also mentoring and inspiring others within the team. Ultimately, I aim to make a significant impact on both the projects I lead and the professional development of those around me.\\n\\ninterview input: Do you have any questions for us or anything else you'd like to share?\\ncandidate output: Yes, I have a couple of questions. Firstly, I'm interested in learning more about the team dynamics and how collaboration is fostered within the company. Additionally, could you provide insights into the company's approach to professional development and growth opportunities for employees?\\n\\ninterview input: Thank you for sharing your experiences with us. We'll be in touch soon.\\ncandidate output: Thank you for the opportunity to discuss my background and experiences. I look forward to the possibility of contributing to the team. If you have any further questions or need additional information, please feel free to reach out. I appreciate your time and consideration.\")]"
            ]
          },
          "execution_count": 8,
          "metadata": {},
          "output_type": "execute_result"
        }
      ],
      "source": [
        "docs"
      ]
    },
    {
      "attachments": {},
      "cell_type": "markdown",
      "metadata": {
        "id": "IczFCIKaLCet"
      },
      "source": [
        "#  3 types of CombineDocuments Chains\n",
        "\n",
        "[Taken from the LangChain Docs](https://langchain.readthedocs.io/en/latest/modules/indexes/combine_docs.html)"
      ]
    },
    {
      "attachments": {},
      "cell_type": "markdown",
      "metadata": {
        "id": "a6kbcja8O7-Q"
      },
      "source": [
        "## 1. Summarize Simple with map_reduce\n",
        "\n",
        "### Map Reduce\n",
        "This method involves `an initial prompt on each chunk of data`\n",
        "( for summarization tasks, this could be a summary of that chunk; for question-answering tasks, it could be an answer based solely on that chunk). `Then a different prompt is run to combine all the initial outputs.` This is implemented in the LangChain as the MapReduceDocumentsChain.\n",
        "\n",
        "`Pros:` Can scale to larger documents (and more documents) than StuffDocumentsChain. The calls to the LLM on individual documents are independent and can therefore be parallelized.\n",
        "\n",
        "`Cons:` Requires many more calls to the LLM than StuffDocumentsChain. Loses some information during the final combining call."
      ]
    },
    {
      "cell_type": "code",
      "execution_count": 10,
      "metadata": {
        "colab": {
          "base_uri": "https://localhost:8080/"
        },
        "id": "h4nRP8oGO2qf",
        "outputId": "1b6f930e-6bf0-41b3-bee8-08409271ce22"
      },
      "outputs": [
        {
          "name": "stdout",
          "output_type": "stream",
          "text": [
            " The candidate has a degree in computer science and 7 years of experience in the tech industry. They\n",
            "are proficient in multiple programming languages and tools, and have a systematic approach to\n",
            "problem-solving and decision-making. They prioritize tasks, manage their time effectively, and\n",
            "maintain open lines of communication and collaboration with team members, clients, and stakeholders.\n",
            "The candidate expressed their ambition to take on a leadership role in the next five years, while\n",
            "continuing to grow as a technical expert and mentor others.\n"
          ]
        }
      ],
      "source": [
        "from langchain.chains.summarize import load_summarize_chain\n",
        "import textwrap\n",
        "\n",
        "chain = load_summarize_chain(\n",
        "    llm, \n",
        "    chain_type=\"map_reduce\")\n",
        "\n",
        "\n",
        "output_summary = chain.run(docs)\n",
        "wrapped_text = textwrap.fill(output_summary, width=100)\n",
        "print(wrapped_text)"
      ]
    },
    {
      "cell_type": "code",
      "execution_count": 11,
      "metadata": {
        "colab": {
          "base_uri": "https://localhost:8080/",
          "height": 35
        },
        "id": "k0OK53Q3fReD",
        "outputId": "37a72505-6980-4d5a-a269-a0968e1276e6"
      },
      "outputs": [
        {
          "data": {
            "text/plain": [
              "'Write a concise summary of the following:\\n\\n\\n\"{text}\"\\n\\n\\nCONCISE SUMMARY:'"
            ]
          },
          "execution_count": 11,
          "metadata": {},
          "output_type": "execute_result"
        }
      ],
      "source": [
        "# for summarizing each part\n",
        "chain.llm_chain.prompt.template"
      ]
    },
    {
      "cell_type": "code",
      "execution_count": 12,
      "metadata": {
        "colab": {
          "base_uri": "https://localhost:8080/",
          "height": 35
        },
        "id": "L2JttqnWpR0H",
        "outputId": "03fe1f6d-16da-4cce-eb2d-247ebfb1de9d"
      },
      "outputs": [
        {
          "data": {
            "text/plain": [
              "'Write a concise summary of the following:\\n\\n\\n\"{text}\"\\n\\n\\nCONCISE SUMMARY:'"
            ]
          },
          "execution_count": 12,
          "metadata": {},
          "output_type": "execute_result"
        }
      ],
      "source": [
        "# for combining the parts\n",
        "chain.combine_document_chain.llm_chain.prompt.template"
      ]
    },
    {
      "cell_type": "code",
      "execution_count": 13,
      "metadata": {
        "colab": {
          "base_uri": "https://localhost:8080/"
        },
        "id": "6AUZ_e7MfsI1",
        "outputId": "b7551b05-a60d-4458-933b-ffb2354a0324"
      },
      "outputs": [
        {
          "name": "stdout",
          "output_type": "stream",
          "text": [
            "\n",
            "\n",
            "\u001b[1m> Entering new MapReduceDocumentsChain chain...\u001b[0m\n",
            "\n",
            "\n",
            "\u001b[1m> Entering new LLMChain chain...\u001b[0m\n",
            "Prompt after formatting:\n",
            "\u001b[32;1m\u001b[1;3mWrite a concise summary of the following:\n",
            "\n",
            "\n",
            "\"interview input: Tell me about your background and experience.\n",
            "candidate output: I have a degree in computer science and have been working in the tech industry for the past 7 years. My experience includes developing software solutions for various clients and industries, with a focus on web and mobile applications.\n",
            "\n",
            "interview input: What motivated you to pursue a career in your field?\n",
            "candidate output: I've always been fascinated by technology and its ability to solve real-world problems. This passion led me to pursue a career in computer science, where I could apply my skills to create innovative solutions and contribute to the ever-evolving tech landscape.\n",
            "\n",
            "interview input: Can you share a challenging project you've worked on and how you overcame obstacles?\n",
            "candidate output: One challenging project involved tight deadlines and complex requirements. I organized a cross-functional team, established clear communication channels, and implemented an agile development approach. This allowed us to adapt quickly to changes and deliver a successful project within the given constraints.\n",
            "\n",
            "interview input: How do you stay updated with the latest industry trends and technologies?\n",
            "candidate output: I am an avid reader of tech blogs, attend industry conferences, and participate in online forums. Additionally, I allocate time for continuous learning through online courses and certifications to stay abreast of the latest trends, ensuring that my skills are always up-to-date.\n",
            "\n",
            "interview input: What programming languages and tools are you most proficient in?\n",
            "candidate output: I am proficient in several programming languages, including Python, JavaScript, and Java. I have extensive experience with popular frameworks such as React and Django. Additionally, I am well-versed in using version control systems like Git and have a strong foundation in cloud computing platforms like AWS.\n",
            "\n",
            "interview input: Describe your approach to problem-solving and decision-making.\n",
            "candidate output: I believe in a systematic approach to problem-solving. I start by thoroughly understanding the problem, breaking it down into manageable components, and then devising a step-by-step plan. I also value input from team members and stakeholders, fostering a collaborative decision-making process that takes diverse perspectives into account.\n",
            "\n",
            "interview input: How do you handle tight deadlines and high-pressure situations?\n",
            "candidate output: In high-pressure situations, I prioritize tasks, set realistic goals, and communicate transparently with the team. I believe in maintaining a positive attitude and motivating the team to work efficiently. By staying organized and focused, I ensure that we meet deadlines without compromising the quality of our work.\n",
            "\n",
            "interview input: Tell me about a time when you had to adapt to a significant change in a project.\n",
            "candidate output: During a project, the client's requirements underwent a major shift. I promptly held a team meeting to discuss the changes, reassessed our project plan, and adjusted our strategy accordingly. This flexibility allowed us to accommodate the client's needs while still meeting our project objectives.\n",
            "\n",
            "interview input: How do you prioritize tasks and manage your time effectively?\n",
            "candidate output: I prioritize tasks based on urgency and importance, utilizing tools like project management software and to-do lists. I set realistic deadlines, allocate time for each task, and regularly reassess priorities. This approach ensures that I can manage my time effectively and consistently meet project milestones.\n",
            "\n",
            "interview input: What role do communication and collaboration play in your work?\n",
            "candidate output: Communication and collaboration are integral to my work. I maintain open lines of communication with team members, clients, and stakeholders. Regular team meetings, status updates, and clear documentation help ensure that everyone is on the same page, fostering a collaborative and efficient working environment.\"\n",
            "\n",
            "\n",
            "CONCISE SUMMARY:\u001b[0m\n",
            "Prompt after formatting:\n",
            "\u001b[32;1m\u001b[1;3mWrite a concise summary of the following:\n",
            "\n",
            "\n",
            "\"interview input: How do you handle feedback, and how do you incorporate it into your work?\n",
            "candidate output: I see feedback as an opportunity for growth. I actively seek constructive feedback from team members and stakeholders, using it to identify areas for improvement. I take a proactive approach to address feedback, refining my work and incorporating valuable insights to enhance the overall quality of the project.\n",
            "\n",
            "interview input: Tell me about a successful team collaboration experience.\n",
            "candidate output: In a previous project, effective team collaboration played a crucial role in its success. We had diverse skills and perspectives within the team, and by fostering open communication and mutual respect, we were able to capitalize on each team member's strengths. This collaborative effort resulted in a high-quality deliverable that exceeded the client's expectations.\n",
            "\n",
            "interview input: What do you consider your greatest professional achievement?\n",
            "candidate output: My greatest professional achievement was leading a team in the successful development and launch of a complex e-commerce platform. This project required overcoming technical challenges, coordinating with various stakeholders, and ensuring a seamless user experience. The positive feedback from both the client and end-users was immensely rewarding.\n",
            "\n",
            "interview input: How do you contribute to creating a positive work culture?\n",
            "candidate output: I believe in fostering a positive work culture through open communication, recognition of achievements, and a supportive team environment. I actively encourage collaboration, celebrate team successes, and provide constructive feedback. By promoting a positive work culture, I aim to create a motivating and enjoyable workplace for everyone on the team.\n",
            "\n",
            "interview input: What are your professional development goals for the next 12 months?\n",
            "candidate output: In the next 12 months, I aim to deepen my expertise in machine learning and artificial intelligence. I plan to enroll in advanced courses, attend relevant conferences, and undertake hands-on projects to apply my learning. Additionally, I aspire to take on a leadership role within my team, contributing to both technical and strategic aspects of our projects.\n",
            "\n",
            "interview input: How do you handle disagreements or conflicts within a team?\n",
            "candidate output: I approach conflicts within a team by first seeking to understand the perspectives of all parties involved. I encourage open and honest communication to identify the root causes of the disagreement. By fostering a collaborative environment and finding common ground, I work towards resolving conflicts amicably and maintaining a positive team dynamic.\n",
            "\n",
            "interview input: What do you enjoy most about your current role?\n",
            "candidate output: I thoroughly enjoy the dynamic nature of my current role. The opportunity to work on diverse projects, tackle new challenges, and collaborate with talented individuals keeps me motivated. The continuous learning and growth within the ever-evolving tech industry make my work both fulfilling and exciting.\n",
            "\n",
            "interview input: How do you stay motivated and inspired in your work?\n",
            "candidate output: I stay motivated by setting personal and professional goals, staying curious, and celebrating small achievements. I find inspiration in the potential impact of technology on society and the opportunity to contribute to meaningful projects. Additionally, I surround myself with a supportive network of colleagues and mentors, which helps fuel my enthusiasm for continuous learning and improvement.\"\n",
            "\n",
            "\n",
            "CONCISE SUMMARY:\u001b[0m\n",
            "Prompt after formatting:\n",
            "\u001b[32;1m\u001b[1;3mWrite a concise summary of the following:\n",
            "\n",
            "\n",
            "\"interview input: Where do you see yourself professionally in the next five years?\n",
            "candidate output: In the next five years, I envision myself in a leadership role, leading innovative projects and contributing to the strategic direction of the organization. I aspire to continue growing as a technical expert while also mentoring and inspiring others within the team. Ultimately, I aim to make a significant impact on both the projects I lead and the professional development of those around me.\n",
            "\n",
            "interview input: Do you have any questions for us or anything else you'd like to share?\n",
            "candidate output: Yes, I have a couple of questions. Firstly, I'm interested in learning more about the team dynamics and how collaboration is fostered within the company. Additionally, could you provide insights into the company's approach to professional development and growth opportunities for employees?\n",
            "\n",
            "interview input: Thank you for sharing your experiences with us. We'll be in touch soon.\n",
            "candidate output: Thank you for the opportunity to discuss my background and experiences. I look forward to the possibility of contributing to the team. If you have any further questions or need additional information, please feel free to reach out. I appreciate your time and consideration.\"\n",
            "\n",
            "\n",
            "CONCISE SUMMARY:\u001b[0m\n",
            "\n",
            "\u001b[1m> Finished chain.\u001b[0m\n",
            "\n",
            "\n",
            "\u001b[1m> Entering new LLMChain chain...\u001b[0m\n",
            "Prompt after formatting:\n",
            "\u001b[32;1m\u001b[1;3mWrite a concise summary of the following:\n",
            "\n",
            "\n",
            "\" The candidate has a degree in computer science and 7 years of experience in the tech industry, developing software solutions for various clients and industries. They are passionate about technology and its ability to solve real-world problems, and stay up-to-date with the latest industry trends and technologies through reading tech blogs, attending conferences, and taking online courses. They are proficient in multiple programming languages and tools, and have a systematic approach to problem-solving and decision-making. They prioritize tasks, manage their time effectively, and maintain open lines of communication and collaboration with team members, clients, and stakeholders.\n",
            "\n",
            " The candidate discussed how they handle feedback, their experience with successful team collaboration, their greatest professional achievement, how they contribute to creating a positive work culture, their professional development goals for the next 12 months, how they handle disagreements or conflicts within a team, what they enjoy most about their current role, and how they stay motivated and inspired in their work. They take a proactive approach to feedback, foster open communication and mutual respect in teams, and set personal and professional goals to stay motivated.\n",
            "\n",
            " The candidate expressed their ambition to take on a leadership role in the next five years, while continuing to grow as a technical expert and mentor others. They asked questions about the team dynamics and professional development opportunities. The candidate expressed their appreciation for the opportunity to discuss their background and experiences and offered to provide additional information if needed.\"\n",
            "\n",
            "\n",
            "CONCISE SUMMARY:\u001b[0m\n",
            "\n",
            "\u001b[1m> Finished chain.\u001b[0m\n",
            "\n",
            "\u001b[1m> Finished chain.\u001b[0m\n",
            " The candidate has a degree in computer science and 7 years of experience in the tech industry. They\n",
            "are passionate about technology and proficient in multiple programming languages and tools. They\n",
            "prioritize tasks, manage their time effectively, and maintain open lines of communication and\n",
            "collaboration with team members, clients, and stakeholders. They take a proactive approach to\n",
            "feedback, foster open communication and mutual respect in teams, and set personal and professional\n",
            "goals to stay motivated. The candidate expressed their ambition to take on a leadership role in the\n",
            "next five years and asked questions about the team dynamics and professional development\n",
            "opportunities.\n"
          ]
        }
      ],
      "source": [
        "chain = load_summarize_chain(\n",
        "    llm, \n",
        "    chain_type=\"map_reduce\",\n",
        "    verbose=True\n",
        ")\n",
        "\n",
        "output_summary = chain.run(docs)\n",
        "wrapped_text = textwrap.fill(\n",
        "    output_summary, \n",
        "    width=100,\n",
        "    break_long_words=False,\n",
        "    replace_whitespace=False)\n",
        "\n",
        "print(wrapped_text)"
      ]
    },
    {
      "attachments": {},
      "cell_type": "markdown",
      "metadata": {
        "id": "M6yiwXNnvzxO"
      },
      "source": [
        "## 2. Summarizing with the 'stuff' Chain\n",
        "\n",
        "### Stuffing\n",
        "Stuffing is the simplest method, whereby you simply stuff all the related data into the prompt as context to pass to the language model. This is implemented in LangChain as the StuffDocumentsChain.\n",
        "\n",
        "`Pros:` Only makes a single call to the LLM. When generating text, the LLM has access to all the data at once.\n",
        "\n",
        "`Cons:` Most LLMs have a context length, and for large documents (or many documents) this will not work as it will result in a prompt larger than the context length.\n",
        "\n",
        "The main downside of this method is that `it only works one smaller pieces of data.`  \n",
        "- Once you are working with many pieces of data, this approach is no longer feasible. \n",
        "- The next two approaches are designed to help deal with that."
      ]
    },
    {
      "cell_type": "code",
      "execution_count": 14,
      "metadata": {
        "id": "OzCHODNOPKnO"
      },
      "outputs": [],
      "source": [
        "chain = load_summarize_chain(\n",
        "    llm, \n",
        "    chain_type=\"stuff\")"
      ]
    },
    {
      "cell_type": "code",
      "execution_count": 15,
      "metadata": {
        "id": "XTMPc6oQPQr0"
      },
      "outputs": [],
      "source": [
        "prompt_template = \"\"\"Write a concise bullet point summary of the following:\n",
        "\n",
        "\n",
        "{text}\n",
        "\n",
        "\n",
        "CONSCISE SUMMARY IN BULLET POINTS:\"\"\"\n",
        "\n",
        "BULLET_POINT_PROMPT = PromptTemplate(template=prompt_template, \n",
        "                        input_variables=[\"text\"])\n"
      ]
    },
    {
      "cell_type": "code",
      "execution_count": 16,
      "metadata": {
        "colab": {
          "base_uri": "https://localhost:8080/"
        },
        "id": "nrtSb8VphVG-",
        "outputId": "8c59f9f3-9a3e-4c7a-a232-1dfc2394fde4"
      },
      "outputs": [
        {
          "name": "stdout",
          "output_type": "stream",
          "text": [
            "\n",
            "• Degree in computer science and 7 years of experience in tech industry\n",
            "• Passion for technology\n",
            "and problem-solving drives career in computer science\n",
            "• Proficient in Python, JavaScript, Java,\n",
            "React, Django, Git, and AWS\n",
            "• Systematic approach to problem-solving and decision-making\n",
            "•\n",
            "Prioritizes tasks and manages time effectively\n",
            "• Values communication and collaboration in work\n",
            "•\n",
            "Adapts to changes and incorporates feedback\n",
            "• Experienced in leading successful projects and teams\n",
            "•\n",
            "Motivated by setting goals and celebrating achievements\n",
            "• Seeks to deepen expertise in machine\n",
            "learning and AI\n",
            "• Contributes to positive work culture and professional development\n",
            "• Aspires to\n",
            "leadership role in next 5 years\n"
          ]
        }
      ],
      "source": [
        "chain = load_summarize_chain(\n",
        "    llm, \n",
        "    chain_type=\"stuff\", \n",
        "    prompt=BULLET_POINT_PROMPT)\n",
        "\n",
        "output_summary = chain.run(docs)\n",
        "\n",
        "wrapped_text = textwrap.fill(\n",
        "    output_summary, \n",
        "    width=100,\n",
        "    break_long_words=False,\n",
        "    replace_whitespace=False)\n",
        "print(wrapped_text)"
      ]
    },
    {
      "attachments": {},
      "cell_type": "markdown",
      "metadata": {
        "id": "cJ_ig4J_PYbm"
      },
      "source": [
        "### With 'map_reduce' with our custom prompt"
      ]
    },
    {
      "cell_type": "code",
      "execution_count": 17,
      "metadata": {
        "colab": {
          "base_uri": "https://localhost:8080/"
        },
        "id": "4lS7vYgKPcqV",
        "outputId": "e2824e48-6d27-4e1a-ba53-489574722574"
      },
      "outputs": [
        {
          "name": "stdout",
          "output_type": "stream",
          "text": [
            "\n",
            "• Degree in computer science and 7 years of experience in tech industry\n",
            "• Proficient in Python,\n",
            "JavaScript, Java, React, Django, Git, and AWS\n",
            "• Systematic approach to problem-solving and decision-\n",
            "making\n",
            "• Prioritizes tasks and manages time effectively\n",
            "• Values communication and collaboration for\n",
            "efficient working environment\n",
            "• Led successful development and launch of a complex e-commerce\n",
            "platform\n",
            "• Promotes positive work culture through open communication, recognition of achievements,\n",
            "and a supportive team environment\n",
            "• Aims to deepen expertise in machine learning and artificial\n",
            "intelligence in the next 12 months\n",
            "• Handles disagreements or conflicts within a team by seeking to\n",
            "understand perspectives and fostering a collaborative environment\n",
            "• Candidate envisions themselves\n",
            "in a leadership role in the next five years, leading innovative projects and contributing to the\n",
            "organization's strategic direction\n"
          ]
        }
      ],
      "source": [
        "chain = load_summarize_chain(\n",
        "    llm, \n",
        "    chain_type=\"map_reduce\",\n",
        "    map_prompt=BULLET_POINT_PROMPT, \n",
        "    combine_prompt=BULLET_POINT_PROMPT)\n",
        "\n",
        "# chain.llm_chain.prompt= BULLET_POINT_PROMPT\n",
        "# chain.combine_document_chain.llm_chain.prompt= BULLET_POINT_PROMPT\n",
        "\n",
        "output_summary = chain.run(docs)\n",
        "wrapped_text = textwrap.fill(\n",
        "    output_summary, \n",
        "    width=100,\n",
        "    break_long_words=False,\n",
        "    replace_whitespace=False)\n",
        "\n",
        "print(wrapped_text)"
      ]
    },
    {
      "cell_type": "code",
      "execution_count": 24,
      "metadata": {
        "colab": {
          "base_uri": "https://localhost:8080/"
        },
        "id": "bUFsaodtPkl4",
        "outputId": "e49cc8b4-f081-43d8-b0b3-3257f1f6e5bf"
      },
      "outputs": [
        {
          "name": "stdout",
          "output_type": "stream",
          "text": [
            "\n",
            "• The candidate has a degree in computer science and 7 years of experience in the tech industry,\n",
            "developing software solutions for various clients and industries.\n",
            "• Proficient in programming\n",
            "languages such as Python, JavaScript, and Java, and have experience with popular frameworks such as\n",
            "React and Django.\n",
            "• Systematic approach to problem-solving and decision-making, and prioritize tasks\n",
            "and manage their time effectively.\n",
            "• Values communication and collaboration, and maintains open\n",
            "lines of communication with team members, clients, and stakeholders.\n",
            "• Led a successful team\n",
            "collaboration experience, resulting in a high-quality deliverable that exceeded the client's\n",
            "expectations.\n",
            "• Seeks constructive feedback from team members and stakeholders.\n",
            "• Envisions\n",
            "themselves in a leadership role in the next five years, leading innovative projects and contributing\n",
            "to the strategic direction of the organization.\n"
          ]
        }
      ],
      "source": [
        "# with a custom prompt\n",
        "prompt_template = \"\"\"Write a concise summary of the following:\n",
        "\n",
        "{text}\n",
        "\n",
        "CONSCISE SUMMARY IN BULLET POINTS:\"\"\"\n",
        "\n",
        "PROMPT = PromptTemplate(template=prompt_template, \n",
        "                        input_variables=[\"text\"])\n",
        "\n",
        "## with intermediate steps\n",
        "chain = load_summarize_chain(\n",
        "    llm, \n",
        "    chain_type=\"map_reduce\", \n",
        "    return_intermediate_steps=True, \n",
        "    map_prompt=PROMPT, \n",
        "    combine_prompt=PROMPT)\n",
        "\n",
        "output_summary = chain({\"input_documents\": docs}, return_only_outputs=True)\n",
        "wrapped_text = textwrap.fill(\n",
        "    output_summary['output_text'], \n",
        "    width=100,\n",
        "    break_long_words=False,\n",
        "    replace_whitespace=False\n",
        ")\n",
        "print(wrapped_text)"
      ]
    },
    {
      "cell_type": "code",
      "execution_count": 19,
      "metadata": {
        "colab": {
          "base_uri": "https://localhost:8080/"
        },
        "id": "OvksjoTytSCb",
        "outputId": "03bc2547-cb3c-45ad-e546-404993cf1f8f"
      },
      "outputs": [
        {
          "name": "stdout",
          "output_type": "stream",
          "text": [
            "\n",
            "\n",
            "• Candidate envisions themselves in a leadership role in the next five years, leading innovative\n",
            "projects and contributing to the organization's strategic direction.\n",
            "• Asks questions about team\n",
            "dynamics, collaboration, and professional development opportunities.\n",
            "• Expresses appreciation for\n",
            "the opportunity to discuss their background and experiences.\n"
          ]
        }
      ],
      "source": [
        "wrapped_text = textwrap.fill(\n",
        "    output_summary['intermediate_steps'][2], \n",
        "    width=100,\n",
        "    break_long_words=False,\n",
        "    replace_whitespace=False)\n",
        "print(wrapped_text)"
      ]
    },
    {
      "attachments": {},
      "cell_type": "markdown",
      "metadata": {
        "id": "caaAmomfPv9j"
      },
      "source": [
        "## 3. With the 'refine' CombineDocument Chain\n",
        "\n",
        "### Refine\n",
        "This method involves `an initial prompt on the first chunk of data, generating some output. For the remaining documents, that output is passed in, along with the next document`, asking the LLM to refine the output based on the new document.\n",
        "\n",
        "`Pros:` Can pull in more relevant context, and may be less lossy than MapReduceDocumentsChain.\n",
        "\n",
        "`Cons:` Requires many more calls to the LLM than StuffDocumentsChain. The calls are also NOT independent, meaning they cannot be paralleled like MapReduceDocumentsChain. There is also some potential dependencies on the ordering of the documents."
      ]
    },
    {
      "cell_type": "code",
      "execution_count": 20,
      "metadata": {
        "colab": {
          "base_uri": "https://localhost:8080/"
        },
        "id": "7Ji2D8Q0P2gh",
        "outputId": "cb493a3e-93f2-4fee-e6fc-4e4308e62aa4"
      },
      "outputs": [
        {
          "name": "stdout",
          "output_type": "stream",
          "text": [
            "  The candidate has a degree in computer science and 7 years of experience in the tech industry,\n",
            "developing software solutions for various clients and industries. They are passionate about\n",
            "technology and its ability to solve real-world problems, and stay up-to-date with the latest\n",
            "industry trends and technologies through reading tech blogs, attending conferences, and taking\n",
            "online courses. They are proficient in multiple programming languages and tools, and have a\n",
            "systematic approach to problem-solving and decision-making. They prioritize tasks, manage their time\n",
            "effectively, and maintain open lines of communication and collaboration with team members, clients,\n",
            "and stakeholders. They actively seek constructive feedback from team members and stakeholders, using\n",
            "it to identify areas for improvement and refine their work. They have a proactive approach to\n",
            "addressing feedback, and have successfully led teams in the development and launch of complex\n",
            "e-commerce platforms. They prioritize creating a positive work culture through open communication,\n",
            "recognition of achievements, and a supportive team environment. They have professional development\n",
            "goals to deepen their expertise in machine learning and artificial intelligence, and aspire to take\n",
            "on a leadership role within their team. They handle disagreements or conflicts within a team by\n",
            "seeking to understand the perspectives of all parties involved and fostering a collaborative\n",
            "environment. They stay motivated and inspired by setting personal and professional goals,\n"
          ]
        }
      ],
      "source": [
        "chain = load_summarize_chain(llm, chain_type=\"refine\")\n",
        "\n",
        "output_summary = chain.run(docs)\n",
        "wrapped_text = textwrap.fill(output_summary, width=100)\n",
        "print(wrapped_text)"
      ]
    },
    {
      "cell_type": "code",
      "execution_count": 21,
      "metadata": {
        "id": "JsoM2yyoQNzF"
      },
      "outputs": [],
      "source": [
        "prompt_template = \"\"\"Write a concise summary of the following extracting the key information:\n",
        "\n",
        "{text}\n",
        "\n",
        "CONCISE SUMMARY:\"\"\"\n",
        "PROMPT = PromptTemplate(template=prompt_template, \n",
        "                        input_variables=[\"text\"])\n",
        "\n",
        "refine_template = (\n",
        "    \"Your job is to produce a final summary\\n\"\n",
        "    \"We have provided an existing summary up to a certain point: {existing_answer}\\n\"\n",
        "    \"We have the opportunity to refine the existing summary\"\n",
        "    \"(only if needed) with some more context below.\\n\"\n",
        "    \"------------\\n\"\n",
        "    \"{text}\\n\"\n",
        "    \"------------\\n\"\n",
        "    \"Given the new context, refine the original summary\"\n",
        "    \"If the context isn't useful, return the original summary.\"\n",
        ")\n",
        "refine_prompt = PromptTemplate(\n",
        "    input_variables=[\"existing_answer\", \"text\"],\n",
        "    template=refine_template,\n",
        ")\n",
        "chain = load_summarize_chain(\n",
        "    llm, \n",
        "    chain_type=\"refine\", \n",
        "    return_intermediate_steps=True, \n",
        "    question_prompt=PROMPT, \n",
        "    refine_prompt=refine_prompt)\n"
      ]
    },
    {
      "cell_type": "code",
      "execution_count": 22,
      "metadata": {
        "colab": {
          "base_uri": "https://localhost:8080/"
        },
        "id": "mgIuOQWbfFep",
        "outputId": "6b701913-2b71-4652-cfa6-1e96f542ee20"
      },
      "outputs": [
        {
          "name": "stdout",
          "output_type": "stream",
          "text": [
            "\n",
            "\n",
            "The candidate has a degree in computer science and 7 years of experience in the tech industry,\n",
            "developing software solutions for various clients and industries. They are passionate about\n",
            "technology and its ability to solve real-world problems, and stay up-to-date with the latest\n",
            "industry trends and technologies through reading tech blogs, attending conferences, and taking\n",
            "online courses. They are proficient in programming languages such as Python, JavaScript, and Java,\n",
            "and have experience with frameworks such as React and Django. They use a systematic approach to\n",
            "problem-solving, prioritize tasks, and maintain open lines of communication and collaboration with\n",
            "team members, clients, and stakeholders. They are able to adapt to changes and manage their time\n",
            "effectively to meet deadlines. They actively seek constructive feedback from team members and\n",
            "stakeholders, using it to identify areas for improvement and take a proactive approach to address\n",
            "feedback, refining their work and incorporating valuable insights to enhance the overall quality of\n",
            "the project. They have experience leading teams in the successful development and launch of complex\n",
            "projects, and are committed to fostering a positive work culture through open communication,\n",
            "recognition of achievements, and a supportive team environment. They are motivated by setting\n",
            "personal and professional goals, staying curious, and celebrating small achievements, and are\n",
            "inspired by the potential impact of technology on society. They\n"
          ]
        }
      ],
      "source": [
        "output_summary = chain({\"input_documents\": docs}, return_only_outputs=True)\n",
        "wrapped_text = textwrap.fill(\n",
        "    output_summary['output_text'], \n",
        "    width=100,\n",
        "    break_long_words=False,\n",
        "    replace_whitespace=False)\n",
        "\n",
        "print(wrapped_text)"
      ]
    },
    {
      "cell_type": "code",
      "execution_count": 23,
      "metadata": {
        "colab": {
          "base_uri": "https://localhost:8080/"
        },
        "id": "dt7v2DVavMpX",
        "outputId": "eddfab8d-2731-492f-fc16-8d8c25d2aec8"
      },
      "outputs": [
        {
          "name": "stdout",
          "output_type": "stream",
          "text": [
            " The candidate has a degree in computer science and 7 years of experience in the tech industry,\n",
            "developing software solutions for various clients and industries. They are passionate about\n",
            "technology and its ability to solve real-world problems, and stay up-to-date with the latest\n",
            "industry trends and technologies through reading tech blogs, attending conferences, and taking\n",
            "online courses. They are proficient in programming languages such as Python, JavaScript, and Java,\n",
            "and have experience with frameworks such as React and Django. They use a systematic approach to\n",
            "problem-solving, prioritize tasks, and maintain open lines of communication and collaboration with\n",
            "team members, clients, and stakeholders. They are able to adapt to changes and manage their time\n",
            "effectively to meet deadlines.\n"
          ]
        }
      ],
      "source": [
        "wrapped_text = textwrap.fill(\n",
        "    output_summary['intermediate_steps'][0], \n",
        "    width=100,\n",
        "    break_long_words=False,\n",
        "    replace_whitespace=False\n",
        ")\n",
        "print(wrapped_text)"
      ]
    }
  ],
  "metadata": {
    "colab": {
      "provenance": []
    },
    "kernelspec": {
      "display_name": "Python 3",
      "name": "python3"
    },
    "language_info": {
      "codemirror_mode": {
        "name": "ipython",
        "version": 3
      },
      "file_extension": ".py",
      "mimetype": "text/x-python",
      "name": "python",
      "nbconvert_exporter": "python",
      "pygments_lexer": "ipython3",
      "version": "3.11.6"
    }
  },
  "nbformat": 4,
  "nbformat_minor": 0
}
