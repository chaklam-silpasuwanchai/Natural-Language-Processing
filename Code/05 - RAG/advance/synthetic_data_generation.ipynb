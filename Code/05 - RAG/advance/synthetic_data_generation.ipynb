{
  "cells": [
    {
      "attachments": {},
      "cell_type": "markdown",
      "id": "1302a608-4b4d-46bf-bd0c-b4f13eff2e5e",
      "metadata": {
        "id": "1302a608-4b4d-46bf-bd0c-b4f13eff2e5e"
      },
      "source": [
        "# [Synthetic data generation](https://python.langchain.com/docs/use_cases/data_generation)\n"
      ]
    },
    {
      "attachments": {},
      "cell_type": "markdown",
      "id": "aa3571cc",
      "metadata": {
        "id": "aa3571cc"
      },
      "source": [
        "## Use case\n",
        "\n",
        "Synthetic data refers to artificially generated data that imitates the characteristics of real data without containing any information from actual individuals or entities. It is typically created through mathematical models, algorithms, or other data generation techniques. Synthetic data can be used for a variety of purposes, including testing, research, and training machine learning models, while preserving privacy and security.\n",
        "\n",
        "Benefits of Synthetic Data:\n",
        "\n",
        "1. **Privacy and Security**: No real personal data at risk of breaches.\n",
        "2. **Data Augmentation**: Expands datasets for machine learning.\n",
        "3. **Flexibility**: Create specific or rare scenarios.\n",
        "4. **Cost-effective**: Often cheaper than real-world data collection.\n",
        "5. **Regulatory Compliance**: Helps navigate strict data protection laws.\n",
        "6. **Model Robustness**: Can lead to better generalizing AI models.\n",
        "7. **Rapid Prototyping**: Enables quick testing without real data.\n",
        "8. **Controlled Experimentation**: Simulate specific conditions.\n",
        "9. **Access to Data**: Alternative when real data isn't available.\n",
        "\n",
        "**Note: Despite the benefits, synthetic data should be used carefully, as it may not always capture real-world complexities.**"
      ]
    },
    {
      "attachments": {},
      "cell_type": "markdown",
      "id": "bca57012",
      "metadata": {
        "id": "bca57012"
      },
      "source": [
        "## Setup\n",
        "- First, you'll need to have the langchain library installed, along with its dependencies. Since we're using the OpenAI generator chain, we'll install that as well. Since this is an experimental lib, we'll need to include `langchain_experimental` in our installs.\n",
        "- [Pydantic](https://docs.pydantic.dev/latest/): Data validation library for Python"
      ]
    },
    {
      "cell_type": "code",
      "execution_count": 35,
      "id": "a0377478",
      "metadata": {
        "id": "a0377478"
      },
      "outputs": [
        {
          "data": {
            "text/plain": [
              "'0.0.350'"
            ]
          },
          "execution_count": 35,
          "metadata": {},
          "output_type": "execute_result"
        }
      ],
      "source": [
        "# %%capture\n",
        "# !pip install -U langchain langchain_experimental openai\n",
        "import langchain\n",
        "langchain.__version__"
      ]
    },
    {
      "cell_type": "code",
      "execution_count": 20,
      "id": "e3kkn3SlbzBF",
      "metadata": {
        "id": "e3kkn3SlbzBF"
      },
      "outputs": [],
      "source": [
        "from langchain.prompts import FewShotPromptTemplate, PromptTemplate\n",
        "from langchain_openai import ChatOpenAI\n",
        "from langchain.pydantic_v1 import BaseModel\n",
        "from langchain_experimental.tabular_synthetic_data.base import SyntheticDataGenerator\n",
        "from langchain_experimental.tabular_synthetic_data.openai import create_openai_data_generator, OPENAI_TEMPLATE\n",
        "from langchain_experimental.tabular_synthetic_data.prompts import SYNTHETIC_FEW_SHOT_SUFFIX, SYNTHETIC_FEW_SHOT_PREFIX"
      ]
    },
    {
      "cell_type": "code",
      "execution_count": 27,
      "id": "1952aa6a",
      "metadata": {},
      "outputs": [],
      "source": [
        "from dotenv import load_dotenv\n",
        "import os\n",
        "\n",
        "load_dotenv()\n",
        "openai_api_key = os.getenv(\"OPENAI_API_KEY\")\n",
        "openai_organization = os.getenv(\"OPENAI_API_ORG\")\n",
        "\n",
        "llm = ChatOpenAI(\n",
        "    temperature=1,\n",
        "    openai_api_key=openai_api_key,\n",
        "    # openai_organization=openai_organization\n",
        ")"
      ]
    },
    {
      "cell_type": "code",
      "execution_count": 4,
      "id": "45d47946",
      "metadata": {},
      "outputs": [
        {
          "data": {
            "text/plain": [
              "('Now you generate synthetic data about {subject}. Make sure to {extra}:',\n",
              " 'This is a test about generating synthetic data about {subject}. Examples below:')"
            ]
          },
          "execution_count": 4,
          "metadata": {},
          "output_type": "execute_result"
        }
      ],
      "source": [
        "SYNTHETIC_FEW_SHOT_SUFFIX, SYNTHETIC_FEW_SHOT_PREFIX"
      ]
    },
    {
      "attachments": {},
      "cell_type": "markdown",
      "id": "a5a0917b",
      "metadata": {
        "id": "a5a0917b"
      },
      "source": [
        "## 1. Define Your Data Model\n",
        "- Every dataset has a structure or a \"schema\".\n",
        "- The MedicalBilling class below serves as our schema for the synthetic data.\n",
        "- By defining this, we're informing our synthetic data generator about the shape and nature of data we expect."
      ]
    },
    {
      "cell_type": "code",
      "execution_count": 5,
      "id": "291bad6e",
      "metadata": {
        "id": "291bad6e"
      },
      "outputs": [],
      "source": [
        "class MedicalBilling(BaseModel):\n",
        "    patient_id: int\n",
        "    patient_name: str\n",
        "    diagnosis_code: str\n",
        "    procedure_code: str\n",
        "    total_charge: float\n",
        "    insurance_claim_amount: float\n"
      ]
    },
    {
      "attachments": {},
      "cell_type": "markdown",
      "id": "2059ca63",
      "metadata": {
        "id": "2059ca63"
      },
      "source": [
        "## 2. Sample Data\n",
        "To guide the synthetic data generator, it's useful to provide it with a few real-world-like examples. These examples serve as a \"seed\" - they're representative of the kind of data you want, and the generator will use them to create more data that looks similar.\n",
        "\n",
        "Here are some fictional medical billing records:"
      ]
    },
    {
      "cell_type": "code",
      "execution_count": 6,
      "id": "b989b792",
      "metadata": {
        "id": "b989b792"
      },
      "outputs": [],
      "source": [
        "examples = [\n",
        "    {\"example\": \"\"\"Patient ID: 123456, Patient Name: John Doe, Diagnosis Code:\n",
        "        J20.9, Procedure Code: 99203, Total Charge: $500, Insurance Claim Amount: $350\"\"\"},\n",
        "    {\"example\": \"\"\"Patient ID: 789012, Patient Name: Johnson Smith, Diagnosis\n",
        "        Code: M54.5, Procedure Code: 99213, Total Charge: $150, Insurance Claim Amount: $120\"\"\"},\n",
        "    {\"example\": \"\"\"Patient ID: 345678, Patient Name: Emily Stone, Diagnosis Code:\n",
        "        E11.9, Procedure Code: 99214, Total Charge: $300, Insurance Claim Amount: $250\"\"\"},\n",
        "]"
      ]
    },
    {
      "attachments": {},
      "cell_type": "markdown",
      "id": "57e28809",
      "metadata": {
        "id": "57e28809"
      },
      "source": [
        "## 3. Craft a Prompt Template\n",
        "The generator doesn't magically know how to create our data; we need to guide it. We do this by creating a prompt template. This template helps instruct the underlying language model on how to produce synthetic data in the desired format."
      ]
    },
    {
      "cell_type": "code",
      "execution_count": 11,
      "id": "ea6e042e",
      "metadata": {
        "id": "ea6e042e"
      },
      "outputs": [
        {
          "data": {
            "text/plain": [
              "FewShotPromptTemplate(input_variables=['extra', 'subject'], examples=[{'example': 'Patient ID: 123456, Patient Name: John Doe, Diagnosis Code:\\n        J20.9, Procedure Code: 99203, Total Charge: $500, Insurance Claim Amount: $350'}, {'example': 'Patient ID: 789012, Patient Name: Johnson Smith, Diagnosis\\n        Code: M54.5, Procedure Code: 99213, Total Charge: $150, Insurance Claim Amount: $120'}, {'example': 'Patient ID: 345678, Patient Name: Emily Stone, Diagnosis Code:\\n        E11.9, Procedure Code: 99214, Total Charge: $300, Insurance Claim Amount: $250'}], example_prompt=PromptTemplate(input_variables=['example'], template='{example}'), suffix='Now you generate synthetic data about {subject}. Make sure to {extra}:', prefix='This is a test about generating synthetic data about {subject}. Examples below:')"
            ]
          },
          "execution_count": 11,
          "metadata": {},
          "output_type": "execute_result"
        }
      ],
      "source": [
        "OPENAI_TEMPLATE = PromptTemplate(input_variables=[\"example\"], template=\"{example}\")\n",
        "\n",
        "prompt_template = FewShotPromptTemplate(\n",
        "    prefix=SYNTHETIC_FEW_SHOT_PREFIX,\n",
        "    examples=examples,\n",
        "    suffix=SYNTHETIC_FEW_SHOT_SUFFIX,\n",
        "    input_variables=[\"subject\", \"extra\"],\n",
        "    example_prompt=OPENAI_TEMPLATE,\n",
        ")\n",
        "\n",
        "prompt_template"
      ]
    },
    {
      "attachments": {},
      "cell_type": "markdown",
      "id": "fa6da3cb",
      "metadata": {
        "id": "fa6da3cb"
      },
      "source": [
        "The `FewShotPromptTemplate` includes:\n",
        "\n",
        "- `prefix` and `suffix`: These likely contain guiding context or instructions.\n",
        "- `examples`: The sample data we defined earlier.\n",
        "- `input_variables`: These variables (\"subject\", \"extra\") are placeholders you can dynamically fill later. For instance, \"subject\" might be filled with \"medical_billing\" to guide the model further.\n",
        "- `example_prompt`: This prompt template is the format we want each example row to take in our prompt."
      ]
    },
    {
      "attachments": {},
      "cell_type": "markdown",
      "id": "pI5oGS-fchEi",
      "metadata": {
        "id": "pI5oGS-fchEi"
      },
      "source": [
        "## 4. Creating the Data Generator\n",
        "With the schema and the prompt ready, the next step is to create the data generator. This object knows how to communicate with the underlying language model to get synthetic data."
      ]
    },
    {
      "cell_type": "code",
      "execution_count": 28,
      "id": "1b9ba911",
      "metadata": {
        "id": "1b9ba911"
      },
      "outputs": [],
      "source": [
        "synthetic_data_generator = create_openai_data_generator(\n",
        "    output_schema=MedicalBilling,\n",
        "    llm=llm,\n",
        "    prompt=prompt_template,\n",
        ")"
      ]
    },
    {
      "attachments": {},
      "cell_type": "markdown",
      "id": "a4198bd6",
      "metadata": {
        "id": "a4198bd6"
      },
      "source": [
        "## 5. Generate Synthetic Data\n",
        "Finally, let's get our synthetic data!"
      ]
    },
    {
      "cell_type": "code",
      "execution_count": 29,
      "id": "a424c890",
      "metadata": {
        "id": "a424c890"
      },
      "outputs": [],
      "source": [
        "synthetic_results = synthetic_data_generator.generate(\n",
        "    subject=\"medical_billing\",\n",
        "    extra=\"the name must be chosen at random. Make it something you wouldn't normally choose.\",\n",
        "    runs=10,\n",
        ")"
      ]
    },
    {
      "attachments": {},
      "cell_type": "markdown",
      "id": "fa4402e9",
      "metadata": {
        "id": "fa4402e9"
      },
      "source": [
        "This command asks the generator to produce 10 synthetic medical billing records. The results are stored in `synthetic_results`. The output will be a list of the MedicalBilling pydantic models."
      ]
    },
    {
      "cell_type": "code",
      "execution_count": 30,
      "id": "8lIQ7XaJeIsv",
      "metadata": {
        "colab": {
          "base_uri": "https://localhost:8080/"
        },
        "id": "8lIQ7XaJeIsv",
        "outputId": "0ea3c614-8b5b-44c0-ea93-3085b700ec60"
      },
      "outputs": [
        {
          "data": {
            "text/plain": [
              "list"
            ]
          },
          "execution_count": 30,
          "metadata": {},
          "output_type": "execute_result"
        }
      ],
      "source": [
        "type(synthetic_results)"
      ]
    },
    {
      "attachments": {},
      "cell_type": "markdown",
      "id": "e9e376eb",
      "metadata": {},
      "source": [
        "## 6. Visualize the Generated Synthetic Data"
      ]
    },
    {
      "cell_type": "code",
      "execution_count": 31,
      "id": "0b03de4d",
      "metadata": {
        "colab": {
          "base_uri": "https://localhost:8080/"
        },
        "id": "0b03de4d",
        "outputId": "e65cd16a-d6ad-474b-f1ae-e58717f04891"
      },
      "outputs": [
        {
          "data": {
            "text/plain": [
              "10"
            ]
          },
          "execution_count": 31,
          "metadata": {},
          "output_type": "execute_result"
        }
      ],
      "source": [
        "len(synthetic_results)"
      ]
    },
    {
      "cell_type": "code",
      "execution_count": 32,
      "id": "U4xA8dAAc-DY",
      "metadata": {
        "colab": {
          "base_uri": "https://localhost:8080/"
        },
        "id": "U4xA8dAAc-DY",
        "outputId": "1271d4b1-1eb6-476a-8377-ae1182987dd6"
      },
      "outputs": [
        {
          "data": {
            "text/plain": [
              "[MedicalBilling(patient_id=987654, patient_name='Alexandra Bennett', diagnosis_code='I10', procedure_code='99204', total_charge=400.0, insurance_claim_amount=320.0),\n",
              " MedicalBilling(patient_id=123456, patient_name='Elijah Thompson', diagnosis_code='A09.9', procedure_code='99215', total_charge=500.0, insurance_claim_amount=400.0),\n",
              " MedicalBilling(patient_id=987654, patient_name='Olivia Johnson', diagnosis_code='F32.9', procedure_code='99213', total_charge=250.0, insurance_claim_amount=200.0),\n",
              " MedicalBilling(patient_id=987654, patient_name='Emma Martinez', diagnosis_code='K11.7', procedure_code='99203', total_charge=350.0, insurance_claim_amount=280.0),\n",
              " MedicalBilling(patient_id=876543, patient_name='Jaxon Reynolds', diagnosis_code='M54.5', procedure_code='99214', total_charge=400.0, insurance_claim_amount=320.0),\n",
              " MedicalBilling(patient_id=123456, patient_name='Sophia Thompson', diagnosis_code='E11.9', procedure_code='99212', total_charge=200.0, insurance_claim_amount=160.0),\n",
              " MedicalBilling(patient_id=234567, patient_name='Xavier Reynolds', diagnosis_code='R10.4', procedure_code='99202', total_charge=300.0, insurance_claim_amount=240.0),\n",
              " MedicalBilling(patient_id=987654, patient_name='Whitney Banks', diagnosis_code='G47.30', procedure_code='99213', total_charge=350.0, insurance_claim_amount=280.0),\n",
              " MedicalBilling(patient_id=987654, patient_name='Oliver Martinez', diagnosis_code='I10', procedure_code='99214', total_charge=500.0, insurance_claim_amount=400.0),\n",
              " MedicalBilling(patient_id=123456, patient_name='Lauren Davis', diagnosis_code='F32.9', procedure_code='99203', total_charge=400.0, insurance_claim_amount=320.0)]"
            ]
          },
          "execution_count": 32,
          "metadata": {},
          "output_type": "execute_result"
        }
      ],
      "source": [
        "synthetic_results"
      ]
    },
    {
      "attachments": {},
      "cell_type": "markdown",
      "id": "XJ3vfh9UfyLS",
      "metadata": {
        "id": "XJ3vfh9UfyLS"
      },
      "source": [
        "## 7. Converting the synthetic data into Pandas Dataframe"
      ]
    },
    {
      "cell_type": "code",
      "execution_count": 33,
      "id": "LLbrrDNMeQLe",
      "metadata": {
        "colab": {
          "base_uri": "https://localhost:8080/",
          "height": 380
        },
        "id": "LLbrrDNMeQLe",
        "outputId": "223f0c2b-5796-42b1-fe93-a26795ce554b"
      },
      "outputs": [
        {
          "name": "stdout",
          "output_type": "stream",
          "text": [
            "<class 'pandas.core.frame.DataFrame'>\n"
          ]
        },
        {
          "data": {
            "text/html": [
              "<div>\n",
              "<style scoped>\n",
              "    .dataframe tbody tr th:only-of-type {\n",
              "        vertical-align: middle;\n",
              "    }\n",
              "\n",
              "    .dataframe tbody tr th {\n",
              "        vertical-align: top;\n",
              "    }\n",
              "\n",
              "    .dataframe thead th {\n",
              "        text-align: right;\n",
              "    }\n",
              "</style>\n",
              "<table border=\"1\" class=\"dataframe\">\n",
              "  <thead>\n",
              "    <tr style=\"text-align: right;\">\n",
              "      <th></th>\n",
              "      <th>patient_id</th>\n",
              "      <th>patient_name</th>\n",
              "      <th>diagnosis_code</th>\n",
              "      <th>procedure_code</th>\n",
              "      <th>total_charge</th>\n",
              "      <th>insurance_claim_amount</th>\n",
              "    </tr>\n",
              "  </thead>\n",
              "  <tbody>\n",
              "    <tr>\n",
              "      <th>0</th>\n",
              "      <td>987654</td>\n",
              "      <td>Alexandra Bennett</td>\n",
              "      <td>I10</td>\n",
              "      <td>99204</td>\n",
              "      <td>400.0</td>\n",
              "      <td>320.0</td>\n",
              "    </tr>\n",
              "    <tr>\n",
              "      <th>1</th>\n",
              "      <td>123456</td>\n",
              "      <td>Elijah Thompson</td>\n",
              "      <td>A09.9</td>\n",
              "      <td>99215</td>\n",
              "      <td>500.0</td>\n",
              "      <td>400.0</td>\n",
              "    </tr>\n",
              "    <tr>\n",
              "      <th>2</th>\n",
              "      <td>987654</td>\n",
              "      <td>Olivia Johnson</td>\n",
              "      <td>F32.9</td>\n",
              "      <td>99213</td>\n",
              "      <td>250.0</td>\n",
              "      <td>200.0</td>\n",
              "    </tr>\n",
              "    <tr>\n",
              "      <th>3</th>\n",
              "      <td>987654</td>\n",
              "      <td>Emma Martinez</td>\n",
              "      <td>K11.7</td>\n",
              "      <td>99203</td>\n",
              "      <td>350.0</td>\n",
              "      <td>280.0</td>\n",
              "    </tr>\n",
              "    <tr>\n",
              "      <th>4</th>\n",
              "      <td>876543</td>\n",
              "      <td>Jaxon Reynolds</td>\n",
              "      <td>M54.5</td>\n",
              "      <td>99214</td>\n",
              "      <td>400.0</td>\n",
              "      <td>320.0</td>\n",
              "    </tr>\n",
              "    <tr>\n",
              "      <th>5</th>\n",
              "      <td>123456</td>\n",
              "      <td>Sophia Thompson</td>\n",
              "      <td>E11.9</td>\n",
              "      <td>99212</td>\n",
              "      <td>200.0</td>\n",
              "      <td>160.0</td>\n",
              "    </tr>\n",
              "    <tr>\n",
              "      <th>6</th>\n",
              "      <td>234567</td>\n",
              "      <td>Xavier Reynolds</td>\n",
              "      <td>R10.4</td>\n",
              "      <td>99202</td>\n",
              "      <td>300.0</td>\n",
              "      <td>240.0</td>\n",
              "    </tr>\n",
              "    <tr>\n",
              "      <th>7</th>\n",
              "      <td>987654</td>\n",
              "      <td>Whitney Banks</td>\n",
              "      <td>G47.30</td>\n",
              "      <td>99213</td>\n",
              "      <td>350.0</td>\n",
              "      <td>280.0</td>\n",
              "    </tr>\n",
              "    <tr>\n",
              "      <th>8</th>\n",
              "      <td>987654</td>\n",
              "      <td>Oliver Martinez</td>\n",
              "      <td>I10</td>\n",
              "      <td>99214</td>\n",
              "      <td>500.0</td>\n",
              "      <td>400.0</td>\n",
              "    </tr>\n",
              "    <tr>\n",
              "      <th>9</th>\n",
              "      <td>123456</td>\n",
              "      <td>Lauren Davis</td>\n",
              "      <td>F32.9</td>\n",
              "      <td>99203</td>\n",
              "      <td>400.0</td>\n",
              "      <td>320.0</td>\n",
              "    </tr>\n",
              "  </tbody>\n",
              "</table>\n",
              "</div>"
            ],
            "text/plain": [
              "   patient_id       patient_name diagnosis_code procedure_code  total_charge  \\\n",
              "0      987654  Alexandra Bennett            I10          99204         400.0   \n",
              "1      123456    Elijah Thompson          A09.9          99215         500.0   \n",
              "2      987654     Olivia Johnson          F32.9          99213         250.0   \n",
              "3      987654      Emma Martinez          K11.7          99203         350.0   \n",
              "4      876543     Jaxon Reynolds          M54.5          99214         400.0   \n",
              "5      123456    Sophia Thompson          E11.9          99212         200.0   \n",
              "6      234567    Xavier Reynolds          R10.4          99202         300.0   \n",
              "7      987654      Whitney Banks         G47.30          99213         350.0   \n",
              "8      987654    Oliver Martinez            I10          99214         500.0   \n",
              "9      123456       Lauren Davis          F32.9          99203         400.0   \n",
              "\n",
              "   insurance_claim_amount  \n",
              "0                   320.0  \n",
              "1                   400.0  \n",
              "2                   200.0  \n",
              "3                   280.0  \n",
              "4                   320.0  \n",
              "5                   160.0  \n",
              "6                   240.0  \n",
              "7                   280.0  \n",
              "8                   400.0  \n",
              "9                   320.0  "
            ]
          },
          "execution_count": 33,
          "metadata": {},
          "output_type": "execute_result"
        }
      ],
      "source": [
        "import pandas as pd\n",
        "\n",
        "# Create a list of dictionaries from the objects\n",
        "synthetic_data = []\n",
        "for item in synthetic_results:\n",
        "    synthetic_data.append({\n",
        "        'patient_id': item.patient_id,\n",
        "        'patient_name': item.patient_name,\n",
        "        'diagnosis_code': item.diagnosis_code,\n",
        "        'procedure_code': item.procedure_code,\n",
        "        'total_charge': item.total_charge,\n",
        "        'insurance_claim_amount': item.insurance_claim_amount\n",
        "    })\n",
        "\n",
        "# Create a Pandas DataFrame from the list of dictionaries\n",
        "synthetic_df = pd.DataFrame(synthetic_data)\n",
        "\n",
        "# Display the DataFrame\n",
        "print(type(synthetic_df))\n",
        "synthetic_df"
      ]
    },
    {
      "cell_type": "code",
      "execution_count": 34,
      "id": "3z0FY1xEe81v",
      "metadata": {
        "colab": {
          "base_uri": "https://localhost:8080/"
        },
        "id": "3z0FY1xEe81v",
        "outputId": "614c2dee-388c-4efd-b1e0-16256c2347fb"
      },
      "outputs": [
        {
          "data": {
            "text/plain": [
              "(10, 6)"
            ]
          },
          "execution_count": 34,
          "metadata": {},
          "output_type": "execute_result"
        }
      ],
      "source": [
        "synthetic_df.shape"
      ]
    },
    {
      "attachments": {},
      "cell_type": "markdown",
      "id": "pYsSc2jcfr6R",
      "metadata": {
        "id": "pYsSc2jcfr6R"
      },
      "source": [
        "### Start exploring based on your usecase and use the same approach for real sensitive data. But, be careful, as the synthetic data might not capture the real-world complexities."
      ]
    }
  ],
  "metadata": {
    "colab": {
      "include_colab_link": true,
      "provenance": []
    },
    "kernelspec": {
      "display_name": "Python 3 (ipykernel)",
      "language": "python",
      "name": "python3"
    },
    "language_info": {
      "codemirror_mode": {
        "name": "ipython",
        "version": 3
      },
      "file_extension": ".py",
      "mimetype": "text/x-python",
      "name": "python",
      "nbconvert_exporter": "python",
      "pygments_lexer": "ipython3",
      "version": "3.11.6"
    }
  },
  "nbformat": 4,
  "nbformat_minor": 5
}
